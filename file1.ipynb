{
 "cells": [
  {
   "cell_type": "code",
   "execution_count": 1,
   "metadata": {},
   "outputs": [],
   "source": [
    "from  fractions  import Fraction as F\n",
    "from decimal import Decimal as D, getcontext\n",
    "import cmath\n"
   ]
  },
  {
   "cell_type": "code",
   "execution_count": 2,
   "metadata": {},
   "outputs": [
    {
     "data": {
      "text/plain": [
       "(Decimal('2.571428571428571618895375650026835501194000244140625'),\n",
       " Decimal('2.571428571428571428571428571428571428571428571428571428571428571428571428571428571428571428571428571'),\n",
       " Decimal('1.414213562373095048801688724209698078569671875376948073176679737990732478462107038850387534327641573'))"
      ]
     },
     "execution_count": 2,
     "metadata": {},
     "output_type": "execute_result"
    }
   ],
   "source": [
    "getcontext().prec = 100\n",
    "D(18/7), D(18)/D(7), D(2).sqrt()"
   ]
  },
  {
   "cell_type": "code",
   "execution_count": 3,
   "metadata": {},
   "outputs": [
    {
     "data": {
      "text/plain": [
       "[3, -2, 5.8, 2j, 'bla', [3, 5], {8}, <function print>, ZeroDivisionError]"
      ]
     },
     "execution_count": 3,
     "metadata": {},
     "output_type": "execute_result"
    }
   ],
   "source": [
    "lista = [3, -2, 5.8, 2j, 'bla', [3, 5], {8}, print, ZeroDivisionError]\n",
    "lista"
   ]
  },
  {
   "cell_type": "code",
   "execution_count": 4,
   "metadata": {},
   "outputs": [
    {
     "data": {
      "text/plain": [
       "<function print>"
      ]
     },
     "execution_count": 4,
     "metadata": {},
     "output_type": "execute_result"
    }
   ],
   "source": [
    "lista[-2]"
   ]
  },
  {
   "cell_type": "code",
   "execution_count": 5,
   "metadata": {},
   "outputs": [
    {
     "data": {
      "text/plain": [
       "4"
      ]
     },
     "execution_count": 5,
     "metadata": {},
     "output_type": "execute_result"
    }
   ],
   "source": [
    "boje = {'jabuka': 'crveno', 'kruška': 'žuto', 'limun': 'žuto'}\n",
    "boje['grožđe'] = 'plavo'\n",
    "len(boje)"
   ]
  },
  {
   "cell_type": "code",
   "execution_count": 6,
   "metadata": {},
   "outputs": [
    {
     "data": {
      "text/plain": [
       "{'grožđe': 'plavo', 'jabuka': 'zeleno', 'kruška': 'zeleno'}"
      ]
     },
     "execution_count": 6,
     "metadata": {},
     "output_type": "execute_result"
    }
   ],
   "source": [
    "del boje['limun']\n",
    "for voće in boje:\n",
    "    if voće != 'grožđe':\n",
    "        boje[voće] = 'zeleno'\n",
    "boje"
   ]
  },
  {
   "cell_type": "code",
   "execution_count": 7,
   "metadata": {},
   "outputs": [
    {
     "data": {
      "text/plain": [
       "{'jabuka', 'kruška'}"
      ]
     },
     "execution_count": 7,
     "metadata": {},
     "output_type": "execute_result"
    }
   ],
   "source": [
    "{voće for voće in boje if boje[voće] == 'zeleno'}"
   ]
  },
  {
   "cell_type": "code",
   "execution_count": 1,
   "metadata": {},
   "outputs": [],
   "source": [
    "from ipywidgets import interact\n",
    "import networkx as nx\n",
    "import matplotlib.pyplot as plt\n",
    "%matplotlib inline\n",
    "\n",
    "def plot_random_graph(n, m, p, generator):\n",
    "    nx.draw(generator(n, m, p))\n",
    "    plt.show()"
   ]
  },
  {
   "cell_type": "code",
   "execution_count": 2,
   "metadata": {},
   "outputs": [
    {
     "data": {
      "application/vnd.jupyter.widget-view+json": {
       "model_id": "a7f43c1785884ede890fae25cfa475f3",
       "version_major": 2,
       "version_minor": 0
      },
      "text/html": [
       "<p>Failed to display Jupyter Widget of type <code>interactive</code>.</p>\n",
       "<p>\n",
       "  If you're reading this message in the Jupyter Notebook or JupyterLab Notebook, it may mean\n",
       "  that the widgets JavaScript is still loading. If this message persists, it\n",
       "  likely means that the widgets JavaScript library is either not installed or\n",
       "  not enabled. See the <a href=\"https://ipywidgets.readthedocs.io/en/stable/user_install.html\">Jupyter\n",
       "  Widgets Documentation</a> for setup instructions.\n",
       "</p>\n",
       "<p>\n",
       "  If you're reading this message in another frontend (for example, a static\n",
       "  rendering on GitHub or <a href=\"https://nbviewer.jupyter.org/\">NBViewer</a>),\n",
       "  it may mean that your frontend doesn't currently support widgets.\n",
       "</p>\n"
      ],
      "text/plain": [
       "interactive(children=(IntSlider(value=16, description='n', max=30, min=2), IntSlider(value=5, description='m', max=10, min=1), FloatSlider(value=0.0, description='p', max=1.0, step=0.001), Dropdown(description='generator', options={'lobster': <function <lambda> at 0x000000000574CC80>, 'power law': <function <lambda> at 0x0000000009374B70>, 'Newman-Watts-Strogatz': <function <lambda> at 0x0000000009374BF8>, 'Erdős-Rényi': <function <lambda> at 0x00000000093740D0>}, value=<function <lambda> at 0x000000000574CC80>), Output()), _dom_classes=('widget-interact',))"
      ]
     },
     "metadata": {},
     "output_type": "display_data"
    }
   ],
   "source": [
    "interact(plot_random_graph, n=(2, 30), m=(1, 10), p=(0, 1, 1e-3), generator={\n",
    "                   'lobster': lambda n, m, p: nx.random_lobster             (n,    p, p / m),\n",
    "                 'power law': lambda n, m, p: nx.powerlaw_cluster_graph     (n, m, p),\n",
    "     'Newman-Watts-Strogatz': lambda n, m, p: nx.newman_watts_strogatz_graph(n, m, p),\n",
    "               'Erdős-Rényi': lambda n, m, p: nx.erdos_renyi_graph          (n,    p),\n",
    "});"
   ]
  },
  {
   "cell_type": "code",
   "execution_count": 10,
   "metadata": {},
   "outputs": [],
   "source": [
    "import numpy as np\n",
    "skalar = np.array(9j)\n",
    "vektor = np.array([8, 2.3, 5, 3])\n",
    "matrica = np.array([[2, 3], [9, 0], [8, 1], [0, 0]])\n",
    "tenzor = np.array([[[2, 3, 8], [2, 2, -3]], [[9, 0, -1], [2, -8, 7]]], dtype=np.int8)"
   ]
  },
  {
   "cell_type": "code",
   "execution_count": 11,
   "metadata": {},
   "outputs": [
    {
     "data": {
      "text/plain": [
       "((), (4,), (4, 2), (2, 2, 3))"
      ]
     },
     "execution_count": 11,
     "metadata": {},
     "output_type": "execute_result"
    }
   ],
   "source": [
    "skalar.shape, vektor.shape, matrica.shape, tenzor.shape"
   ]
  },
  {
   "cell_type": "code",
   "execution_count": 12,
   "metadata": {},
   "outputs": [
    {
     "data": {
      "text/plain": [
       "(49.3, 33.38965517241379)"
      ]
     },
     "execution_count": 12,
     "metadata": {},
     "output_type": "execute_result"
    }
   ],
   "source": [
    "poason = np.random.poisson(50, 30)\n",
    "np.mean(poason), np.std(poason, ddof=1) ** 2"
   ]
  },
  {
   "cell_type": "code",
   "execution_count": 13,
   "metadata": {},
   "outputs": [
    {
     "data": {
      "text/plain": [
       "array([57, 56, 59, 43, 50, 43, 50, 42, 52, 59, 43, 55, 44, 37, 42, 47, 47,\n",
       "       50, 56, 48, 56, 53, 52, 51, 46, 41, 51, 51, 52, 46])"
      ]
     },
     "execution_count": 13,
     "metadata": {},
     "output_type": "execute_result"
    }
   ],
   "source": [
    "poason"
   ]
  },
  {
   "cell_type": "code",
   "execution_count": 14,
   "metadata": {},
   "outputs": [],
   "source": [
    "np.genfromtxt?"
   ]
  },
  {
   "cell_type": "code",
   "execution_count": 15,
   "metadata": {},
   "outputs": [
    {
     "data": {
      "text/plain": [
       "(158, 2)"
      ]
     },
     "execution_count": 15,
     "metadata": {},
     "output_type": "execute_result"
    }
   ],
   "source": [
    "temperature = np.genfromtxt('tpt-world.csv', skip_header=1, delimiter=',')\n",
    "temperature.shape"
   ]
  },
  {
   "cell_type": "code",
   "execution_count": 16,
   "metadata": {},
   "outputs": [
    {
     "data": {
      "text/plain": [
       "array([[ 1.850e+03, -4.450e-01],\n",
       "       [ 1.851e+03, -2.850e-01],\n",
       "       [ 1.852e+03, -3.070e-01],\n",
       "       [ 1.853e+03, -3.520e-01],\n",
       "       [ 1.854e+03, -2.990e-01],\n",
       "       [ 1.855e+03, -3.560e-01],\n",
       "       [ 1.856e+03, -4.240e-01],\n",
       "       [ 1.857e+03, -4.790e-01],\n",
       "       [ 1.858e+03, -4.830e-01],\n",
       "       [ 1.859e+03, -3.400e-01],\n",
       "       [ 1.860e+03, -4.170e-01],\n",
       "       [ 1.861e+03, -4.200e-01],\n",
       "       [ 1.862e+03, -5.420e-01],\n",
       "       [ 1.863e+03, -2.820e-01],\n",
       "       [ 1.864e+03, -5.300e-01],\n",
       "       [ 1.865e+03, -3.280e-01],\n",
       "       [ 1.866e+03, -3.240e-01],\n",
       "       [ 1.867e+03, -3.970e-01],\n",
       "       [ 1.868e+03, -3.140e-01],\n",
       "       [ 1.869e+03, -3.180e-01],\n",
       "       [ 1.870e+03, -3.290e-01],\n",
       "       [ 1.871e+03, -3.890e-01],\n",
       "       [ 1.872e+03, -2.650e-01],\n",
       "       [ 1.873e+03, -3.340e-01],\n",
       "       [ 1.874e+03, -3.720e-01],\n",
       "       [ 1.875e+03, -4.340e-01],\n",
       "       [ 1.876e+03, -3.820e-01],\n",
       "       [ 1.877e+03, -1.690e-01],\n",
       "       [ 1.878e+03, -1.800e-02],\n",
       "       [ 1.879e+03, -2.740e-01],\n",
       "       [ 1.880e+03, -2.530e-01],\n",
       "       [ 1.881e+03, -2.940e-01],\n",
       "       [ 1.882e+03, -2.520e-01],\n",
       "       [ 1.883e+03, -3.070e-01],\n",
       "       [ 1.884e+03, -3.680e-01],\n",
       "       [ 1.885e+03, -3.920e-01],\n",
       "       [ 1.886e+03, -3.030e-01],\n",
       "       [ 1.887e+03, -3.750e-01],\n",
       "       [ 1.888e+03, -3.920e-01],\n",
       "       [ 1.889e+03, -2.330e-01],\n",
       "       [ 1.890e+03, -4.080e-01],\n",
       "       [ 1.891e+03, -3.920e-01],\n",
       "       [ 1.892e+03, -4.990e-01],\n",
       "       [ 1.893e+03, -5.130e-01],\n",
       "       [ 1.894e+03, -4.090e-01],\n",
       "       [ 1.895e+03, -4.380e-01],\n",
       "       [ 1.896e+03, -2.490e-01],\n",
       "       [ 1.897e+03, -2.770e-01],\n",
       "       [ 1.898e+03, -3.890e-01],\n",
       "       [ 1.899e+03, -3.300e-01],\n",
       "       [ 1.900e+03, -2.740e-01],\n",
       "       [ 1.901e+03, -3.140e-01],\n",
       "       [ 1.902e+03, -4.810e-01],\n",
       "       [ 1.903e+03, -4.930e-01],\n",
       "       [ 1.904e+03, -5.360e-01],\n",
       "       [ 1.905e+03, -4.220e-01],\n",
       "       [ 1.906e+03, -3.390e-01],\n",
       "       [ 1.907e+03, -5.410e-01],\n",
       "       [ 1.908e+03, -5.510e-01],\n",
       "       [ 1.909e+03, -5.630e-01],\n",
       "       [ 1.910e+03, -5.300e-01],\n",
       "       [ 1.911e+03, -5.690e-01],\n",
       "       [ 1.912e+03, -5.370e-01],\n",
       "       [ 1.913e+03, -4.940e-01],\n",
       "       [ 1.914e+03, -3.230e-01],\n",
       "       [ 1.915e+03, -2.620e-01],\n",
       "       [ 1.916e+03, -4.390e-01],\n",
       "       [ 1.917e+03, -5.120e-01],\n",
       "       [ 1.918e+03, -4.070e-01],\n",
       "       [ 1.919e+03, -4.010e-01],\n",
       "       [ 1.920e+03, -3.200e-01],\n",
       "       [ 1.921e+03, -2.390e-01],\n",
       "       [ 1.922e+03, -3.710e-01],\n",
       "       [ 1.923e+03, -3.290e-01],\n",
       "       [ 1.924e+03, -3.380e-01],\n",
       "       [ 1.925e+03, -2.400e-01],\n",
       "       [ 1.926e+03, -1.670e-01],\n",
       "       [ 1.927e+03, -2.540e-01],\n",
       "       [ 1.928e+03, -2.360e-01],\n",
       "       [ 1.929e+03, -3.640e-01],\n",
       "       [ 1.930e+03, -1.300e-01],\n",
       "       [ 1.931e+03, -1.140e-01],\n",
       "       [ 1.932e+03, -1.200e-01],\n",
       "       [ 1.933e+03, -2.880e-01],\n",
       "       [ 1.934e+03, -1.020e-01],\n",
       "       [ 1.935e+03, -1.600e-01],\n",
       "       [ 1.936e+03, -1.150e-01],\n",
       "       [ 1.937e+03, -3.000e-03],\n",
       "       [ 1.938e+03,  6.600e-02],\n",
       "       [ 1.939e+03,  6.200e-02],\n",
       "       [ 1.940e+03,  5.000e-03],\n",
       "       [ 1.941e+03,  7.000e-03],\n",
       "       [ 1.942e+03, -1.400e-02],\n",
       "       [ 1.943e+03,  7.800e-02],\n",
       "       [ 1.944e+03,  1.660e-01],\n",
       "       [ 1.945e+03, -2.500e-02],\n",
       "       [ 1.946e+03, -1.400e-01],\n",
       "       [ 1.947e+03, -1.500e-01],\n",
       "       [ 1.948e+03, -1.290e-01],\n",
       "       [ 1.949e+03, -1.510e-01],\n",
       "       [ 1.950e+03, -2.680e-01],\n",
       "       [ 1.951e+03, -1.300e-01],\n",
       "       [ 1.952e+03, -8.200e-02],\n",
       "       [ 1.953e+03,  2.500e-02],\n",
       "       [ 1.954e+03, -1.860e-01],\n",
       "       [ 1.955e+03, -2.210e-01],\n",
       "       [ 1.956e+03, -3.230e-01],\n",
       "       [ 1.957e+03, -5.800e-02],\n",
       "       [ 1.958e+03, -1.300e-02],\n",
       "       [ 1.959e+03, -5.400e-02],\n",
       "       [ 1.960e+03, -9.400e-02],\n",
       "       [ 1.961e+03, -6.000e-03],\n",
       "       [ 1.962e+03,  1.700e-02],\n",
       "       [ 1.963e+03,  1.000e-02],\n",
       "       [ 1.964e+03, -2.830e-01],\n",
       "       [ 1.965e+03, -2.200e-01],\n",
       "       [ 1.966e+03, -1.780e-01],\n",
       "       [ 1.967e+03, -8.900e-02],\n",
       "       [ 1.968e+03, -1.470e-01],\n",
       "       [ 1.969e+03, -7.300e-02],\n",
       "       [ 1.970e+03, -7.800e-02],\n",
       "       [ 1.971e+03, -1.590e-01],\n",
       "       [ 1.972e+03, -1.120e-01],\n",
       "       [ 1.973e+03,  6.500e-02],\n",
       "       [ 1.974e+03, -1.930e-01],\n",
       "       [ 1.975e+03, -1.060e-01],\n",
       "       [ 1.976e+03, -2.380e-01],\n",
       "       [ 1.977e+03,  2.400e-02],\n",
       "       [ 1.978e+03, -5.700e-02],\n",
       "       [ 1.979e+03,  3.000e-02],\n",
       "       [ 1.980e+03,  6.800e-02],\n",
       "       [ 1.981e+03,  1.640e-01],\n",
       "       [ 1.982e+03, -1.000e-02],\n",
       "       [ 1.983e+03,  1.760e-01],\n",
       "       [ 1.984e+03, -1.600e-02],\n",
       "       [ 1.985e+03, -3.000e-02],\n",
       "       [ 1.986e+03,  3.000e-02],\n",
       "       [ 1.987e+03,  1.320e-01],\n",
       "       [ 1.988e+03,  1.820e-01],\n",
       "       [ 1.989e+03,  1.450e-01],\n",
       "       [ 1.990e+03,  2.780e-01],\n",
       "       [ 1.991e+03,  2.250e-01],\n",
       "       [ 1.992e+03,  6.300e-02],\n",
       "       [ 1.993e+03,  1.120e-01],\n",
       "       [ 1.994e+03,  1.820e-01],\n",
       "       [ 1.995e+03,  3.030e-01],\n",
       "       [ 1.996e+03,  1.340e-01],\n",
       "       [ 1.997e+03,  3.630e-01],\n",
       "       [ 1.998e+03,  5.300e-01],\n",
       "       [ 1.999e+03,  3.340e-01],\n",
       "       [ 2.000e+03,  3.150e-01],\n",
       "       [ 2.001e+03,  4.340e-01],\n",
       "       [ 2.002e+03,  4.750e-01],\n",
       "       [ 2.003e+03,  4.890e-01],\n",
       "       [ 2.004e+03,  4.640e-01],\n",
       "       [ 2.005e+03,  5.210e-01],\n",
       "       [ 2.006e+03,  4.430e-01],\n",
       "       [ 2.007e+03,  4.540e-01]])"
      ]
     },
     "execution_count": 16,
     "metadata": {},
     "output_type": "execute_result"
    }
   ],
   "source": [
    "temperature"
   ]
  },
  {
   "cell_type": "code",
   "execution_count": 17,
   "metadata": {},
   "outputs": [],
   "source": [
    "godine, podaci = temperature.T"
   ]
  },
  {
   "cell_type": "code",
   "execution_count": 18,
   "metadata": {},
   "outputs": [
    {
     "name": "stderr",
     "output_type": "stream",
     "text": [
      "C:\\Users\\Tatjana\\Anaconda3\\lib\\site-packages\\numpy\\core\\_methods.py:35: RuntimeWarning: overflow encountered in reduce\n",
      "  return umr_prod(a, axis, dtype, out, keepdims)\n"
     ]
    },
    {
     "data": {
      "text/plain": [
       "array([             inf, -2.93882671e-116])"
      ]
     },
     "execution_count": 18,
     "metadata": {},
     "output_type": "execute_result"
    }
   ],
   "source": [
    "temperature .prod(axis=0)"
   ]
  },
  {
   "cell_type": "code",
   "execution_count": 19,
   "metadata": {},
   "outputs": [
    {
     "data": {
      "text/plain": [
       "array([[[ 2,  3,  8],\n",
       "        [ 2,  2, -3]],\n",
       "\n",
       "       [[ 9,  0, -1],\n",
       "        [ 2, -8,  7]]], dtype=int8)"
      ]
     },
     "execution_count": 19,
     "metadata": {},
     "output_type": "execute_result"
    }
   ],
   "source": [
    "tenzor"
   ]
  },
  {
   "cell_type": "code",
   "execution_count": 20,
   "metadata": {},
   "outputs": [
    {
     "data": {
      "text/plain": [
       "array([[ 18,   0,  -8],\n",
       "       [  4, -16, -21]])"
      ]
     },
     "execution_count": 20,
     "metadata": {},
     "output_type": "execute_result"
    }
   ],
   "source": [
    "tenzor.prod(axis=0)"
   ]
  },
  {
   "cell_type": "code",
   "execution_count": 21,
   "metadata": {},
   "outputs": [
    {
     "data": {
      "text/plain": [
       "array([[  4,   6, -24],\n",
       "       [ 18,   0,  -7]])"
      ]
     },
     "execution_count": 21,
     "metadata": {},
     "output_type": "execute_result"
    }
   ],
   "source": [
    "tenzor.prod(axis=1)"
   ]
  },
  {
   "cell_type": "code",
   "execution_count": 22,
   "metadata": {},
   "outputs": [
    {
     "data": {
      "text/plain": [
       "array([[  48,  -12],\n",
       "       [   0, -112]])"
      ]
     },
     "execution_count": 22,
     "metadata": {},
     "output_type": "execute_result"
    }
   ],
   "source": [
    "tenzor.prod(axis=2)"
   ]
  },
  {
   "cell_type": "code",
   "execution_count": 23,
   "metadata": {},
   "outputs": [],
   "source": [
    "np.savetxt('matrica.csv', matrica, fmt='%2d')"
   ]
  },
  {
   "cell_type": "code",
   "execution_count": 24,
   "metadata": {},
   "outputs": [
    {
     "name": "stderr",
     "output_type": "stream",
     "text": [
      "'cat' is not recognized as an internal or external command,\n",
      "operable program or batch file.\n"
     ]
    }
   ],
   "source": [
    "!cat matrica.csv"
   ]
  },
  {
   "cell_type": "code",
   "execution_count": 25,
   "metadata": {},
   "outputs": [
    {
     "data": {
      "text/plain": [
       "array([[2, 3],\n",
       "       [9, 0],\n",
       "       [8, 1],\n",
       "       [0, 0]])"
      ]
     },
     "execution_count": 25,
     "metadata": {},
     "output_type": "execute_result"
    }
   ],
   "source": [
    "matrica"
   ]
  },
  {
   "cell_type": "code",
   "execution_count": 26,
   "metadata": {},
   "outputs": [
    {
     "data": {
      "text/plain": [
       "array([3, 0, 1, 0])"
      ]
     },
     "execution_count": 26,
     "metadata": {},
     "output_type": "execute_result"
    }
   ],
   "source": [
    "matrica[:,1]"
   ]
  },
  {
   "cell_type": "code",
   "execution_count": 27,
   "metadata": {},
   "outputs": [
    {
     "data": {
      "text/plain": [
       "array([9, 0])"
      ]
     },
     "execution_count": 27,
     "metadata": {},
     "output_type": "execute_result"
    }
   ],
   "source": [
    "matrica[1,:]"
   ]
  },
  {
   "cell_type": "code",
   "execution_count": 28,
   "metadata": {},
   "outputs": [
    {
     "data": {
      "text/plain": [
       "array([[ 0,  1,  2,  3,  4,  5,  6,  7,  8,  9],\n",
       "       [10, 11, 12, 13, 14, 15, 16, 17, 18, 19],\n",
       "       [20, 21, 22, 23, 24, 25, 26, 27, 28, 29],\n",
       "       [30, 31, 32, 33, 34, 35, 36, 37, 38, 39],\n",
       "       [40, 41, 42, 43, 44, 45, 46, 47, 48, 49],\n",
       "       [50, 51, 52, 53, 54, 55, 56, 57, 58, 59],\n",
       "       [60, 61, 62, 63, 64, 65, 66, 67, 68, 69],\n",
       "       [70, 71, 72, 73, 74, 75, 76, 77, 78, 79],\n",
       "       [80, 81, 82, 83, 84, 85, 86, 87, 88, 89],\n",
       "       [90, 91, 92, 93, 94, 95, 96, 97, 98, 99]])"
      ]
     },
     "execution_count": 28,
     "metadata": {},
     "output_type": "execute_result"
    }
   ],
   "source": [
    "tablica = np.arange(100).reshape(10, 10)\n",
    "tablica"
   ]
  },
  {
   "cell_type": "code",
   "execution_count": 29,
   "metadata": {},
   "outputs": [
    {
     "data": {
      "text/plain": [
       "array([[31, 33, 35, 37],\n",
       "       [41, 43, 45, 47],\n",
       "       [51, 53, 55, 57],\n",
       "       [61, 63, 65, 67],\n",
       "       [71, 73, 75, 77]])"
      ]
     },
     "execution_count": 29,
     "metadata": {},
     "output_type": "execute_result"
    }
   ],
   "source": [
    "tablica[3:-2, 1:8:2]"
   ]
  },
  {
   "cell_type": "code",
   "execution_count": 30,
   "metadata": {},
   "outputs": [
    {
     "data": {
      "text/plain": [
       "array([[32, 36, 31],\n",
       "       [22, 26, 21]])"
      ]
     },
     "execution_count": 30,
     "metadata": {},
     "output_type": "execute_result"
    }
   ],
   "source": [
    "tablica[:, [2, 6, 1]][[3, 2], :]"
   ]
  },
  {
   "cell_type": "code",
   "execution_count": 31,
   "metadata": {},
   "outputs": [],
   "source": [
    "niz = np.random.normal(100, 15, 1_000_000)"
   ]
  },
  {
   "cell_type": "code",
   "execution_count": 32,
   "metadata": {},
   "outputs": [
    {
     "name": "stdout",
     "output_type": "stream",
     "text": [
      "Wall time: 775 ms\n"
     ]
    },
    {
     "data": {
      "text/plain": [
       "array([307.16317007, 241.38224705, 337.50882035, ..., 321.64106846,\n",
       "       319.15969718, 270.99306255])"
      ]
     },
     "execution_count": 32,
     "metadata": {},
     "output_type": "execute_result"
    }
   ],
   "source": [
    "%time np.array([x * 3 for x in niz])"
   ]
  },
  {
   "cell_type": "code",
   "execution_count": 33,
   "metadata": {},
   "outputs": [
    {
     "data": {
      "text/plain": [
       "10227299564.696434"
      ]
     },
     "execution_count": 33,
     "metadata": {},
     "output_type": "execute_result"
    }
   ],
   "source": [
    "niz @ niz"
   ]
  },
  {
   "cell_type": "code",
   "execution_count": 34,
   "metadata": {},
   "outputs": [
    {
     "data": {
      "text/plain": [
       "10227299564.696424"
      ]
     },
     "execution_count": 34,
     "metadata": {},
     "output_type": "execute_result"
    }
   ],
   "source": [
    "(niz * niz).sum()"
   ]
  },
  {
   "cell_type": "code",
   "execution_count": 35,
   "metadata": {},
   "outputs": [],
   "source": [
    "A = np.random.normal(0, 1, (256, 64))\n",
    "B = np.random.normal(0, 1, (64, 128))\n",
    "v = np.random.normal(0, 1, 128)"
   ]
  },
  {
   "cell_type": "code",
   "execution_count": 36,
   "metadata": {},
   "outputs": [
    {
     "data": {
      "text/plain": [
       "(256, 64)"
      ]
     },
     "execution_count": 36,
     "metadata": {},
     "output_type": "execute_result"
    }
   ],
   "source": [
    "A.shape"
   ]
  },
  {
   "cell_type": "code",
   "execution_count": 37,
   "metadata": {},
   "outputs": [],
   "source": [
    "import urllib.request as rq\n",
    "import pathlib\n",
    "with rq.urlopen('https://raw.githubusercontent.com/jrjohansson/scientific-python-lectures/master/stockholm_td_adj.dat') as url:\n",
    "    pathlib.Path('Stockholm.dat').write_bytes(url.read())"
   ]
  },
  {
   "cell_type": "code",
   "execution_count": 38,
   "metadata": {},
   "outputs": [
    {
     "data": {
      "text/plain": [
       "(77431, 7)"
      ]
     },
     "execution_count": 38,
     "metadata": {},
     "output_type": "execute_result"
    }
   ],
   "source": [
    "stockholm = np.genfromtxt('Stockholm.dat')\n",
    "stockholm .shape"
   ]
  },
  {
   "cell_type": "code",
   "execution_count": 39,
   "metadata": {},
   "outputs": [
    {
     "data": {
      "text/plain": [
       "array([[ 1.800e+03,  1.000e+00,  1.000e+00, ..., -6.100e+00, -6.100e+00,\n",
       "         1.000e+00],\n",
       "       [ 1.800e+03,  1.000e+00,  2.000e+00, ..., -1.540e+01, -1.540e+01,\n",
       "         1.000e+00],\n",
       "       [ 1.800e+03,  1.000e+00,  3.000e+00, ..., -1.500e+01, -1.500e+01,\n",
       "         1.000e+00],\n",
       "       ...,\n",
       "       [ 2.011e+03,  1.200e+01,  2.900e+01, ...,  4.200e+00,  4.200e+00,\n",
       "         1.000e+00],\n",
       "       [ 2.011e+03,  1.200e+01,  3.000e+01, ..., -1.000e-01, -1.000e-01,\n",
       "         1.000e+00],\n",
       "       [ 2.011e+03,  1.200e+01,  3.100e+01, ..., -3.300e+00, -3.300e+00,\n",
       "         1.000e+00]])"
      ]
     },
     "execution_count": 39,
     "metadata": {},
     "output_type": "execute_result"
    }
   ],
   "source": [
    "stockholm"
   ]
  },
  {
   "cell_type": "code",
   "execution_count": 40,
   "metadata": {},
   "outputs": [],
   "source": [
    "temperatura = stockholm[:, 3]"
   ]
  },
  {
   "cell_type": "code",
   "execution_count": 41,
   "metadata": {},
   "outputs": [
    {
     "data": {
      "text/plain": [
       "(array([ 1.,  1.,  1., ..., 12., 12., 12.]),\n",
       " {1.0, 2.0, 3.0, 4.0, 5.0, 6.0, 7.0, 8.0, 9.0, 10.0, 11.0, 12.0})"
      ]
     },
     "execution_count": 41,
     "metadata": {},
     "output_type": "execute_result"
    }
   ],
   "source": [
    "mjesec = stockholm[:, 1]\n",
    "mjesec,set(mjesec)"
   ]
  },
  {
   "cell_type": "code",
   "execution_count": 42,
   "metadata": {},
   "outputs": [
    {
     "data": {
      "text/plain": [
       "-3.212109570736596"
      ]
     },
     "execution_count": 42,
     "metadata": {},
     "output_type": "execute_result"
    }
   ],
   "source": [
    "stockholm[mjesec == 2, 3].mean()"
   ]
  },
  {
   "cell_type": "code",
   "execution_count": 43,
   "metadata": {},
   "outputs": [],
   "source": [
    "po_mjesecima = {m: stockholm[mjesec == m, 3].mean() for m in np.arange(1, 13)}"
   ]
  },
  {
   "cell_type": "code",
   "execution_count": 44,
   "metadata": {},
   "outputs": [],
   "source": [
    "%matplotlib inline\n",
    "\n",
    "import matplotlib.pyplot as plt"
   ]
  },
  {
   "cell_type": "code",
   "execution_count": 45,
   "metadata": {},
   "outputs": [
    {
     "data": {
      "text/plain": [
       "[<matplotlib.lines.Line2D at 0x9b3fc50>]"
      ]
     },
     "execution_count": 45,
     "metadata": {},
     "output_type": "execute_result"
    },
    {
     "data": {
      "image/png": "[encoded data removed]",
      "text/plain": [
       "<matplotlib.figure.Figure at 0xab71cf8>"
      ]
     },
     "metadata": {},
     "output_type": "display_data"
    }
   ],
   "source": [
    "plt.plot(po_mjesecima.keys(), po_mjesecima.values())"
   ]
  },
  {
   "cell_type": "code",
   "execution_count": 46,
   "metadata": {},
   "outputs": [
    {
     "data": {
      "text/plain": [
       "array([[0.27081631, 0.33709056, 0.7143034 , 0.16959567, 0.80316985],\n",
       "       [0.56049368, 0.33238687, 0.04717347, 0.74510787, 0.2261787 ],\n",
       "       [0.31036552, 0.16479183, 0.72387597, 0.77817022, 0.10392867],\n",
       "       [0.07893692, 0.8254201 , 0.67077731, 0.76779492, 0.44929519],\n",
       "       [0.65240203, 0.84147752, 0.78276107, 0.67609803, 0.48116254]])"
      ]
     },
     "execution_count": 46,
     "metadata": {},
     "output_type": "execute_result"
    }
   ],
   "source": [
    "A = np.random.uniform(0,1,(5,5))\n",
    "A"
   ]
  },
  {
   "cell_type": "code",
   "execution_count": 47,
   "metadata": {},
   "outputs": [
    {
     "data": {
      "text/plain": [
       "array([[0.27081631, 0.33709056],\n",
       "       [0.56049368, 0.33238687]])"
      ]
     },
     "execution_count": 47,
     "metadata": {},
     "output_type": "execute_result"
    }
   ],
   "source": [
    "B = A[:,[0,1]][[0,1],:]\n",
    "B"
   ]
  },
  {
   "cell_type": "code",
   "execution_count": 48,
   "metadata": {},
   "outputs": [
    {
     "data": {
      "text/plain": [
       "array([[0.27081631, 0.33709056, 0.7143034 , 0.16959567, 0.80316985],\n",
       "       [0.56049368, 0.33238687, 0.04717347, 0.74510787, 0.2261787 ],\n",
       "       [0.31036552, 0.16479183, 0.72387597, 0.77817022, 0.10392867],\n",
       "       [0.07893692, 0.8254201 , 0.67077731, 0.76779492, 0.44929519],\n",
       "       [0.65240203, 0.84147752, 0.78276107, 0.67609803, 0.48116254]])"
      ]
     },
     "execution_count": 48,
     "metadata": {},
     "output_type": "execute_result"
    }
   ],
   "source": [
    "C= B@B\n",
    "C=np.matrix(C)\n",
    "A[:,[0,1]][[0,1],:] = C\n",
    "A"
   ]
  },
  {
   "cell_type": "code",
   "execution_count": 50,
   "metadata": {},
   "outputs": [
    {
     "data": {
      "text/plain": [
       "array([[0.2622786 , 0.20333409, 0.7143034 , 0.16959567, 0.80316985],\n",
       "       [0.33809157, 0.29941816, 0.04717347, 0.74510787, 0.2261787 ],\n",
       "       [0.31036552, 0.16479183, 0.72387597, 0.77817022, 0.10392867],\n",
       "       [0.07893692, 0.8254201 , 0.67077731, 0.76779492, 0.44929519],\n",
       "       [0.65240203, 0.84147752, 0.78276107, 0.67609803, 0.48116254]])"
      ]
     },
     "execution_count": 50,
     "metadata": {},
     "output_type": "execute_result"
    }
   ],
   "source": [
    "for i in range (0,2):\n",
    "    for j in range (0,2):\n",
    "        A[i,j] = C[i,j]\n",
    "A"
   ]
  },
  {
   "cell_type": "code",
   "execution_count": 51,
   "metadata": {},
   "outputs": [
    {
     "data": {
      "text/plain": [
       "array([[0.2622786 , 0.20333409],\n",
       "       [0.33809157, 0.29941816]])"
      ]
     },
     "execution_count": 51,
     "metadata": {},
     "output_type": "execute_result"
    }
   ],
   "source": [
    "np.matmul(B, B)"
   ]
  },
  {
   "cell_type": "code",
   "execution_count": 52,
   "metadata": {},
   "outputs": [
    {
     "data": {
      "text/plain": [
       "Index(['DrĹľava', 'Godina', 'Jedinica', 'Kupovni za devize', 'Mjesec',\n",
       "       'Prodajni za devize', 'Srednji za devize', 'Valuta', 'Ĺ ifra valute'],\n",
       "      dtype='object')"
      ]
     },
     "execution_count": 52,
     "metadata": {},
     "output_type": "execute_result"
    }
   ],
   "source": [
    "import pandas as pd\n",
    "tečaj = pd.read_json('ProsjeciMjesecni_2011-2018.json')\n",
    "tečaj.columns"
   ]
  },
  {
   "cell_type": "code",
   "execution_count": 53,
   "metadata": {},
   "outputs": [
    {
     "data": {
      "text/plain": [
       "{'Kolovoz',\n",
       " 'Lipanj',\n",
       " 'Listopad',\n",
       " 'OĹľujak',\n",
       " 'Prosinac',\n",
       " 'Rujan',\n",
       " 'SijeÄŤanj',\n",
       " 'Srpanj',\n",
       " 'Studeni',\n",
       " 'Svibanj',\n",
       " 'Travanj',\n",
       " 'VeljaÄŤa'}"
      ]
     },
     "execution_count": 53,
     "metadata": {},
     "output_type": "execute_result"
    }
   ],
   "source": [
    "hr_mjeseci = set(tečaj['Mjesec'])\n",
    "hr_mjeseci"
   ]
  },
  {
   "cell_type": "code",
   "execution_count": null,
   "metadata": {},
   "outputs": [],
   "source": [
    "import locale, time\n",
    "locale.setlocale(locale.LC_ALL, 'hr')\n",
    "mjesec_broj = {hr_mjesec: time.strptime(hr_mjesec, '%B').tm_mon for hr_mjesec in hr_mjeseci}"
   ]
  },
  {
   "cell_type": "code",
   "execution_count": null,
   "metadata": {},
   "outputs": [],
   "source": [
    "mjesec_broj = {\n",
    " 'Kolovoz': 8,\n",
    " 'Lipanj': 6,\n",
    " 'Listopad': 10,\n",
    " 'Ožujak': 3,\n",
    " 'Prosinac': 12,\n",
    " 'Rujan': 9,\n",
    " 'Siječanj': 1,\n",
    " 'Srpanj': 7,\n",
    " 'Studeni': 11,\n",
    " 'Svibanj': 5,\n",
    " 'Travanj': 4,\n",
    " 'Veljača': 2,\n",
    "}"
   ]
  },
  {
   "cell_type": "code",
   "execution_count": null,
   "metadata": {},
   "outputs": [],
   "source": [
    "tečaj.head()"
   ]
  },
  {
   "cell_type": "code",
   "execution_count": 54,
   "metadata": {},
   "outputs": [],
   "source": [
    "import matplotlib.pyplot as plt"
   ]
  },
  {
   "cell_type": "code",
   "execution_count": 55,
   "metadata": {},
   "outputs": [
    {
     "data": {
      "text/plain": [
       "[<matplotlib.lines.Line2D at 0xc45e780>]"
      ]
     },
     "execution_count": 55,
     "metadata": {},
     "output_type": "execute_result"
    },
    {
     "data": {
      "image/png": "[encoded data removed]",
      "text/plain": [
       "<matplotlib.figure.Figure at 0xc45e898>"
      ]
     },
     "metadata": {},
     "output_type": "display_data"
    }
   ],
   "source": [
    "fig1, ax1 = plt.subplots()\n",
    "ax1.set_title('Proba')\n",
    "ax1.plot([1, 2, 3], [5, 7, 2])\n",
    "ax1.plot([3, 4, 2, 0], [1, 8, 3, 4])"
   ]
  },
  {
   "cell_type": "code",
   "execution_count": null,
   "metadata": {},
   "outputs": [],
   "source": [
    "fig1"
   ]
  },
  {
   "cell_type": "code",
   "execution_count": null,
   "metadata": {},
   "outputs": [],
   "source": [
    "ax1.plot([2, 5], [-1, 1], color='red', marker='x')\n",
    "fig1"
   ]
  },
  {
   "cell_type": "code",
   "execution_count": null,
   "metadata": {},
   "outputs": [],
   "source": [
    "fig2, (ax11, ax12) = plt.subplots(2, sharex=True,sharey=True)\n",
    "ax11.set(xlim=(0, 2), ylim=(0, 2))\n",
    "ax11.text(1, 1, 'Matematički')\n",
    "ax12.text(1, 1, 'softver')"
   ]
  },
  {
   "cell_type": "code",
   "execution_count": 59,
   "metadata": {},
   "outputs": [
    {
     "data": {
      "image/png": "[encoded data removed]",
      "text/plain": [
       "<matplotlib.figure.Figure at 0xbebcf60>"
      ]
     },
     "execution_count": 59,
     "metadata": {},
     "output_type": "execute_result"
    },
    {
     "data": {
      "image/png": "[encoded data removed]",
      "text/plain": [
       "<matplotlib.figure.Figure at 0xbebcf60>"
      ]
     },
     "metadata": {},
     "output_type": "display_data"
    }
   ],
   "source": [
    "import numpy as np\n",
    "fig3, (lijevo, desno) = plt.subplots(1, 2, sharey=True)\n",
    "x2 = np.linspace(0, 2)\n",
    "lijevo.plot(x2, x2**2)\n",
    "desno.plot(x2, x2**3)\n",
    "fig3"
   ]
  },
  {
   "cell_type": "code",
   "execution_count": 62,
   "metadata": {},
   "outputs": [
    {
     "data": {
      "text/plain": [
       "<matplotlib.legend.Legend at 0xc76e128>"
      ]
     },
     "execution_count": 62,
     "metadata": {},
     "output_type": "execute_result"
    },
    {
     "data": {
      "image/png": "[encoded data removed]",
      "text/plain": [
       "<matplotlib.figure.Figure at 0xc71bdd8>"
      ]
     },
     "metadata": {},
     "output_type": "display_data"
    }
   ],
   "source": [
    "fig4, ax4 = plt.subplots()\n",
    "ax4.plot(x2, np.exp(x2), label=r'$e^{x}$', linestyle='--')\n",
    "ax4.plot(x2, np.sqrt(13 * x2), label=r'$\\sqrt{13x}$', color='red', marker='d', markevery=3)\n",
    "ax4.legend(loc=9)"
   ]
  },
  {
   "cell_type": "code",
   "execution_count": 67,
   "metadata": {},
   "outputs": [
    {
     "data": {
      "text/plain": [
       "(array([    0.,     0.,     0.,   127.,   925.,  2481.,  4951.,  8068.,\n",
       "        11714., 13969., 14911., 14283., 11881.,  8202.,  4854.,  2515.,\n",
       "          985.,   134.]),\n",
       " array([ 0,  1,  2,  3,  4,  5,  6,  7,  8,  9, 10, 11, 12, 13, 14, 15, 16,\n",
       "        17, 18]),\n",
       " <a list of 18 Patch objects>)"
      ]
     },
     "execution_count": 67,
     "metadata": {},
     "output_type": "execute_result"
    },
    {
     "data": {
      "image/png": "[encoded data removed]",
      "text/plain": [
       "<matplotlib.figure.Figure at 0xc8a17b8>"
      ]
     },
     "metadata": {},
     "output_type": "display_data"
    }
   ],
   "source": [
    "tri_kocke = np.random.uniform(1, 6, (100_000, 3)).sum(axis=1)\n",
    "slika, koord = plt.subplots()\n",
    "koord.hist(tri_kocke, bins=range(19))"
   ]
  },
  {
   "cell_type": "code",
   "execution_count": 70,
   "metadata": {},
   "outputs": [
    {
     "data": {
      "image/png": "[encoded data removed]",
      "text/plain": [
       "<matplotlib.figure.Figure at 0xc95cbe0>"
      ]
     },
     "execution_count": 70,
     "metadata": {},
     "output_type": "execute_result"
    },
    {
     "data": {
      "image/png": "[encoded data removed]",
      "text/plain": [
       "<matplotlib.figure.Figure at 0xc95cbe0>"
      ]
     },
     "metadata": {},
     "output_type": "display_data"
    }
   ],
   "source": [
    "with plt.xkcd():\n",
    "    figxkcd, axkcd = plt.subplots()\n",
    "    x = np.linspace(-1, 2 * np.pi, 100)\n",
    "    axkcd.plot(x, x * np.cos(x),color='pink')\n",
    "    axkcd.annotate('ishodište', (0, 0), (0, 2), arrowprops=dict(arrowstyle='->'))\n",
    "figxkcd"
   ]
  },
  {
   "cell_type": "code",
   "execution_count": 80,
   "metadata": {},
   "outputs": [
    {
     "data": {
      "image/png": "[encoded data removed]",
      "text/plain": [
       "<matplotlib.figure.Figure at 0xcfd8630>"
      ]
     },
     "execution_count": 80,
     "metadata": {},
     "output_type": "execute_result"
    },
    {
     "data": {
      "image/png": "[encoded data removed]",
      "text/plain": [
       "<matplotlib.figure.Figure at 0xcfd8630>"
      ]
     },
     "metadata": {},
     "output_type": "display_data"
    }
   ],
   "source": [
    "plt.rcdefaults()\n",
    "bodovi = {\n",
    "    'Marko': 15,\n",
    "    'Silvija': 52,\n",
    "    'Ornela': 40,\n",
    "    'Kristijan': 31,\n",
    "    'Petar': 17,\n",
    "    'Ivanka': 22,\n",
    "}\n",
    "with plt.style.context( 'Solarize_Light2'):\n",
    "    slika, crtaj = plt.subplots()\n",
    "    crtaj.barh(list(bodovi.keys()), list(bodovi.values()),align='edge')\n",
    "slika"
   ]
  },
  {
   "cell_type": "code",
   "execution_count": 81,
   "metadata": {},
   "outputs": [],
   "source": [
    "import sympy as sp\n",
    "sp.init_printing()\n",
    "x = sp.sqrt(8)"
   ]
  },
  {
   "cell_type": "code",
   "execution_count": 82,
   "metadata": {},
   "outputs": [
    {
     "data": {
      "image/png": "[encoded data removed]",
      "text/latex": [
       "$$2 \\sqrt{2}$$"
      ],
      "text/plain": [
       "2⋅√2"
      ]
     },
     "execution_count": 82,
     "metadata": {},
     "output_type": "execute_result"
    }
   ],
   "source": [
    "x"
   ]
  },
  {
   "cell_type": "code",
   "execution_count": 83,
   "metadata": {},
   "outputs": [
    {
     "name": "stdout",
     "output_type": "stream",
     "text": [
      "2*sqrt(2)\n"
     ]
    }
   ],
   "source": [
    "print(x)"
   ]
  },
  {
   "cell_type": "code",
   "execution_count": 84,
   "metadata": {},
   "outputs": [
    {
     "data": {
      "image/png": "[encoded data removed]",
      "text/latex": [
       "$$2.828427125$$"
      ],
      "text/plain": [
       "2.828427125"
      ]
     },
     "execution_count": 84,
     "metadata": {},
     "output_type": "execute_result"
    }
   ],
   "source": [
    "x.n(10)"
   ]
  },
  {
   "cell_type": "code",
   "execution_count": 85,
   "metadata": {},
   "outputs": [
    {
     "data": {
      "text/plain": [
       "\"Add(Symbol('x'), Mul(Integer(2), Symbol('y')))\""
      ]
     },
     "execution_count": 85,
     "metadata": {},
     "output_type": "execute_result"
    }
   ],
   "source": [
    "x, y = sp.symbols('x, y')\n",
    "izraz = x + 2*y\n",
    "sp.srepr(izraz)"
   ]
  },
  {
   "cell_type": "code",
   "execution_count": 95,
   "metadata": {},
   "outputs": [
    {
     "data": {
      "image/png": "[encoded data removed]",
      "text/latex": [
       "$$\\left ( 2, \\quad y\\right )$$"
      ],
      "text/plain": [
       "(2, y)"
      ]
     },
     "execution_count": 95,
     "metadata": {},
     "output_type": "execute_result"
    }
   ],
   "source": [
    "izraz.args[1].args"
   ]
  },
  {
   "cell_type": "code",
   "execution_count": 96,
   "metadata": {},
   "outputs": [
    {
     "data": {
      "image/png": "[encoded data removed]",
      "text/latex": [
       "$$2 y - 6 + e$$"
      ],
      "text/plain": [
       "2⋅y - 6 + ℯ"
      ]
     },
     "execution_count": 96,
     "metadata": {},
     "output_type": "execute_result"
    }
   ],
   "source": [
    "izraz.subs({x: sp.E, y: y-3})"
   ]
  },
  {
   "cell_type": "code",
   "execution_count": 97,
   "metadata": {},
   "outputs": [
    {
     "name": "stdout",
     "output_type": "stream",
     "text": [
      "Help on function srepr in module sympy.printing.repr:\n",
      "\n",
      "srepr(expr, **settings)\n",
      "    return expr in repr form\n",
      "\n"
     ]
    }
   ],
   "source": [
    "help(sp.srepr)"
   ]
  },
  {
   "cell_type": "code",
   "execution_count": 98,
   "metadata": {},
   "outputs": [
    {
     "data": {
      "text/plain": [
       "\"Add(Mul(Integer(2), Symbol('y')), Integer(-6), E)\""
      ]
     },
     "execution_count": 98,
     "metadata": {},
     "output_type": "execute_result"
    }
   ],
   "source": [
    "sp.srepr(izraz.subs({x: sp.E, y: y-3}))"
   ]
  },
  {
   "cell_type": "code",
   "execution_count": 99,
   "metadata": {},
   "outputs": [
    {
     "data": {
      "image/png": "[encoded data removed]",
      "text/latex": [
       "$$11.28318530717958647692528676655900576839433879875$$"
      ],
      "text/plain": [
       "11.283185307179586476925286766559005768394338798750"
      ]
     },
     "execution_count": 99,
     "metadata": {},
     "output_type": "execute_result"
    }
   ],
   "source": [
    "#Želimo izraz na 50 decimala s supstitucijom,daje novi expresion \n",
    "izraz.n(50, subs={x:5, y:sp.pi})"
   ]
  },
  {
   "cell_type": "code",
   "execution_count": 106,
   "metadata": {},
   "outputs": [
    {
     "data": {
      "image/png": "[encoded data removed]",
      "text/latex": [
       "$$\\frac{\\partial^{4}}{\\partial y^{2}\\partial x\\partial y} \\left(e^{y} \\sin{\\left (x + y \\right )}\\right)$$"
      ],
      "text/plain": [
       "     4                  \n",
       "    ∂    ⎛ y           ⎞\n",
       "─────────⎝ℯ ⋅sin(x + y)⎠\n",
       "        2               \n",
       "∂y ∂x ∂y                "
      ]
     },
     "execution_count": 106,
     "metadata": {},
     "output_type": "execute_result"
    }
   ],
   "source": [
    "sp.Derivative(sp.sin(x+y)*sp.E**y,y,2,x,y)"
   ]
  },
  {
   "cell_type": "code",
   "execution_count": 107,
   "metadata": {},
   "outputs": [
    {
     "data": {
      "image/png": "[encoded data removed]",
      "text/latex": [
       "$$\\frac{\\partial^{4}}{\\partial x\\partial y^{3}} \\left(e^{y} \\sin{\\left (x + y \\right )}\\right)$$"
      ],
      "text/plain": [
       "   4                 \n",
       "  ∂   ⎛ y           ⎞\n",
       "──────⎝ℯ ⋅sin(x + y)⎠\n",
       "  3                  \n",
       "∂y  ∂x               "
      ]
     },
     "execution_count": 107,
     "metadata": {},
     "output_type": "execute_result"
    }
   ],
   "source": [
    "der = sp.Derivative(sp.sin(x+y) * sp.E**y, x, y, 3)\n",
    "der"
   ]
  },
  {
   "cell_type": "code",
   "execution_count": 109,
   "metadata": {},
   "outputs": [
    {
     "data": {
      "image/png": "[encoded data removed]",
      "text/latex": [
       "$$\\frac{\\partial^{4}}{\\partial x\\partial y^{3}} \\left(e^{y} \\sin{\\left (x + y \\right )}\\right)$$"
      ],
      "text/plain": [
       "   4                 \n",
       "  ∂   ⎛ y           ⎞\n",
       "──────⎝ℯ ⋅sin(x + y)⎠\n",
       "  3                  \n",
       "∂y  ∂x               "
      ]
     },
     "execution_count": 109,
     "metadata": {},
     "output_type": "execute_result"
    }
   ],
   "source": [
    "der.n(50,subs={x:sp.pi, y:0})"
   ]
  },
  {
   "cell_type": "code",
   "execution_count": 110,
   "metadata": {},
   "outputs": [
    {
     "data": {
      "image/png": "[encoded data removed]",
      "text/latex": [
       "$$- 2 \\left(\\sin{\\left (x + y \\right )} + \\cos{\\left (x + y \\right )}\\right) e^{y}$$"
      ],
      "text/plain": [
       "                              y\n",
       "-2⋅(sin(x + y) + cos(x + y))⋅ℯ "
      ]
     },
     "execution_count": 110,
     "metadata": {},
     "output_type": "execute_result"
    }
   ],
   "source": [
    "der = der.doit()\n",
    "der"
   ]
  },
  {
   "cell_type": "code",
   "execution_count": 112,
   "metadata": {},
   "outputs": [
    {
     "data": {
      "image/png": "[encoded data removed]",
      "text/latex": [
       "$$2.0$$"
      ],
      "text/plain": [
       "2.00000000000000"
      ]
     },
     "execution_count": 112,
     "metadata": {},
     "output_type": "execute_result"
    }
   ],
   "source": [
    "der.n(subs={x:sp.pi, y:0})"
   ]
  },
  {
   "cell_type": "code",
   "execution_count": 113,
   "metadata": {},
   "outputs": [
    {
     "data": {
      "text/latex": [
       "$$\\iiiint \\left(- 2 \\left(\\sin{\\left (x + y \\right )} + \\cos{\\left (x + y \\right )}\\right) e^{y}\\right)\\, dy\\, dy\\, dy\\, dx$$"
      ],
      "text/plain": [
       "⌠ ⌠ ⌠ ⌠                                            \n",
       "⎮ ⎮ ⎮ ⎮                               y            \n",
       "⎮ ⎮ ⎮ ⎮ -2⋅(sin(x + y) + cos(x + y))⋅ℯ  dy dy dy dx\n",
       "⌡ ⌡ ⌡ ⌡                                            "
      ]
     },
     "execution_count": 113,
     "metadata": {},
     "output_type": "execute_result"
    }
   ],
   "source": [
    "intg = sp.Integral(der, y, y, y, x)\n",
    "intg"
   ]
  },
  {
   "cell_type": "code",
   "execution_count": 115,
   "metadata": {},
   "outputs": [
    {
     "name": "stdout",
     "output_type": "stream",
     "text": [
      "Wall time: 1.13 s\n"
     ]
    },
    {
     "data": {
      "image/png": "[encoded data removed]",
      "text/latex": [
       "$$e^{y} \\sin{\\left (x + y \\right )}$$"
      ],
      "text/plain": [
       " y           \n",
       "ℯ ⋅sin(x + y)"
      ]
     },
     "execution_count": 115,
     "metadata": {},
     "output_type": "execute_result"
    }
   ],
   "source": [
    "%time intg.doit()"
   ]
  },
  {
   "cell_type": "code",
   "execution_count": 116,
   "metadata": {},
   "outputs": [
    {
     "data": {
      "image/png": "[encoded data removed]",
      "text/latex": [
       "$$\\int_{0}^{\\infty} \\sin{\\left (x^{2} \\right )}\\, dx$$"
      ],
      "text/plain": [
       "∞           \n",
       "⌠           \n",
       "⎮    ⎛ 2⎞   \n",
       "⎮ sin⎝x ⎠ dx\n",
       "⌡           \n",
       "0           "
      ]
     },
     "execution_count": 116,
     "metadata": {},
     "output_type": "execute_result"
    }
   ],
   "source": [
    "#Integral u granicama\n",
    "sp.Integral(sp.sin(x**2), (x, 0, sp.oo))"
   ]
  },
  {
   "cell_type": "code",
   "execution_count": 117,
   "metadata": {},
   "outputs": [
    {
     "data": {
      "image/png": "[encoded data removed]",
      "text/latex": [
       "$$\\frac{\\sqrt{2} \\sqrt{\\pi}}{4}$$"
      ],
      "text/plain": [
       "√2⋅√π\n",
       "─────\n",
       "  4  "
      ]
     },
     "execution_count": 117,
     "metadata": {},
     "output_type": "execute_result"
    }
   ],
   "source": [
    "sp.Integral(sp.sin(x**2), (x, 0, sp.oo)).doit()"
   ]
  },
  {
   "cell_type": "code",
   "execution_count": 118,
   "metadata": {},
   "outputs": [
    {
     "data": {
      "image/png": "[encoded data removed]",
      "text/latex": [
       "$$\\lim_{x \\to 0^-}\\left(\\frac{1}{x^{2}} \\left(\\cos{\\left (x \\right )} - 1\\right)\\right)$$"
      ],
      "text/plain": [
       "     ⎛cos(x) - 1⎞\n",
       " lim ⎜──────────⎟\n",
       "x─→0⁻⎜     2    ⎟\n",
       "     ⎝    x     ⎠"
      ]
     },
     "execution_count": 118,
     "metadata": {},
     "output_type": "execute_result"
    }
   ],
   "source": [
    "lim = sp.Limit((sp.cos(x) - 1) / x**2, x, 0, '-')\n",
    "lim"
   ]
  },
  {
   "cell_type": "code",
   "execution_count": 119,
   "metadata": {},
   "outputs": [
    {
     "data": {
      "image/png": "[encoded data removed]",
      "text/latex": [
       "$$- \\frac{1}{2}$$"
      ],
      "text/plain": [
       "-1/2"
      ]
     },
     "execution_count": 119,
     "metadata": {},
     "output_type": "execute_result"
    }
   ],
   "source": [
    "lim.doit()"
   ]
  },
  {
   "cell_type": "code",
   "execution_count": 120,
   "metadata": {},
   "outputs": [
    {
     "data": {
      "image/png": "[encoded data removed]",
      "text/latex": [
       "$$\\sum_{x=4}^{\\infty} \\frac{1}{x^{2}}$$"
      ],
      "text/plain": [
       "  ∞     \n",
       " ____   \n",
       " ╲      \n",
       "  ╲   1 \n",
       "   ╲  ──\n",
       "   ╱   2\n",
       "  ╱   x \n",
       " ╱      \n",
       " ‾‾‾‾   \n",
       "x = 4   "
      ]
     },
     "execution_count": 120,
     "metadata": {},
     "output_type": "execute_result"
    }
   ],
   "source": [
    "red = sp.Sum(x**-2, (x, 4, sp.oo))\n",
    "red"
   ]
  },
  {
   "cell_type": "code",
   "execution_count": 121,
   "metadata": {},
   "outputs": [
    {
     "data": {
      "image/png": "[encoded data removed]",
      "text/latex": [
       "$$\\sum_{x=4}^{10} \\frac{1}{x^{2}} = \\frac{239609}{1270080}$$"
      ],
      "text/plain": [
       "  10              \n",
       " ____             \n",
       " ╲                \n",
       "  ╲   1           \n",
       "   ╲  ──    239609\n",
       "   ╱   2 = ───────\n",
       "  ╱   x    1270080\n",
       " ╱                \n",
       " ‾‾‾‾             \n",
       "x = 4             "
      ]
     },
     "execution_count": 121,
     "metadata": {},
     "output_type": "execute_result"
    }
   ],
   "source": [
    "konačna_suma = sp.Sum(x**-2, (x, 4, 10))\n",
    "sp.Eq(konačna_suma, konačna_suma.doit())"
   ]
  },
  {
   "cell_type": "code",
   "execution_count": 125,
   "metadata": {},
   "outputs": [
    {
     "data": {
      "image/png": "[encoded data removed]",
      "text/latex": [
       "$$1 + 1 = 2$$"
      ],
      "text/plain": [
       "1 + 1 = 2"
      ]
     },
     "execution_count": 125,
     "metadata": {},
     "output_type": "execute_result"
    }
   ],
   "source": [
    "čvor = sp.Add(1, 1,evaluate=False)\n",
    "sp.Eq(čvor, čvor.doit(), evaluate=False)"
   ]
  },
  {
   "cell_type": "code",
   "execution_count": 126,
   "metadata": {},
   "outputs": [
    {
     "data": {
      "image/png": "[encoded data removed]",
      "text/latex": [
       "$$- \\frac{49}{36} + \\frac{\\pi^{2}}{6}$$"
      ],
      "text/plain": [
       "        2\n",
       "  49   π \n",
       "- ── + ──\n",
       "  36   6 "
      ]
     },
     "execution_count": 126,
     "metadata": {},
     "output_type": "execute_result"
    }
   ],
   "source": [
    "red.doit()"
   ]
  },
  {
   "cell_type": "code",
   "execution_count": 127,
   "metadata": {},
   "outputs": [
    {
     "data": {
      "image/png": "[encoded data removed]",
      "text/latex": [
       "$$x^{3} + 8 = 0$$"
      ],
      "text/plain": [
       " 3        \n",
       "x  + 8 = 0"
      ]
     },
     "execution_count": 127,
     "metadata": {},
     "output_type": "execute_result"
    }
   ],
   "source": [
    "jednadžba = sp.Eq(x**3 + 8)\n",
    "jednadžba"
   ]
  },
  {
   "cell_type": "code",
   "execution_count": 128,
   "metadata": {},
   "outputs": [
    {
     "data": {
      "image/png": "[encoded data removed]",
      "text/latex": [
       "$$\\left [ -2, \\quad 1 - \\sqrt{3} i, \\quad 1 + \\sqrt{3} i\\right ]$$"
      ],
      "text/plain": [
       "[-2, 1 - √3⋅ⅈ, 1 + √3⋅ⅈ]"
      ]
     },
     "execution_count": 128,
     "metadata": {},
     "output_type": "execute_result"
    }
   ],
   "source": [
    "sp.solve(jednadžba)"
   ]
  },
  {
   "cell_type": "code",
   "execution_count": 131,
   "metadata": {},
   "outputs": [
    {
     "data": {
      "image/png": "[encoded data removed]",
      "text/latex": [
       "$$\\left [ - \\frac{1}{2} - \\frac{\\sqrt{3} i}{2}, \\quad - \\frac{1}{2} + \\frac{\\sqrt{3} i}{2}\\right ]$$"
      ],
      "text/plain": [
       "⎡  1   √3⋅ⅈ    1   √3⋅ⅈ⎤\n",
       "⎢- ─ - ────, - ─ + ────⎥\n",
       "⎣  2    2      2    2  ⎦"
      ]
     },
     "execution_count": 131,
     "metadata": {},
     "output_type": "execute_result"
    }
   ],
   "source": [
    "sp.solve(sp.Eq(x**2 + x + 1, 0))"
   ]
  },
  {
   "cell_type": "code",
   "execution_count": 130,
   "metadata": {},
   "outputs": [
    {
     "data": {
      "image/png": "[encoded data removed]",
      "text/latex": [
       "$$x^{2} + x + 1 = 0$$"
      ],
      "text/plain": [
       " 2            \n",
       "x  + x + 1 = 0"
      ]
     },
     "execution_count": 130,
     "metadata": {},
     "output_type": "execute_result"
    }
   ],
   "source": [
    "sp.Eq(x**2 + x + 1, 0)"
   ]
  },
  {
   "cell_type": "code",
   "execution_count": 135,
   "metadata": {},
   "outputs": [
    {
     "data": {
      "image/png": "[encoded data removed]",
      "text/latex": [
       "$$\\left [ \\left \\{ x : \\frac{1}{2} + \\frac{\\sqrt{19}}{2}, \\quad y : - \\frac{1}{2} + \\frac{\\sqrt{19}}{2}\\right \\}, \\quad \\left \\{ x : - \\frac{\\sqrt{19}}{2} + \\frac{1}{2}, \\quad y : - \\frac{\\sqrt{19}}{2} - \\frac{1}{2}\\right \\}\\right ]$$"
      ],
      "text/plain": [
       "⎡⎧   1   √19       1   √19⎫  ⎧     √19   1       √19   1⎫⎤\n",
       "⎢⎨x: ─ + ───, y: - ─ + ───⎬, ⎨x: - ─── + ─, y: - ─── - ─⎬⎥\n",
       "⎣⎩   2    2        2    2 ⎭  ⎩      2    2        2    2⎭⎦"
      ]
     },
     "execution_count": 135,
     "metadata": {},
     "output_type": "execute_result"
    }
   ],
   "source": [
    "sp.solve([sp.Eq(x**2 + y**2, 10), sp.Eq(x - y, 1)], [x, y],dict=True)"
   ]
  },
  {
   "cell_type": "code",
   "execution_count": 136,
   "metadata": {},
   "outputs": [],
   "source": [
    "y, t = sp.Function('y'), sp.Symbol('t')"
   ]
  },
  {
   "cell_type": "code",
   "execution_count": 137,
   "metadata": {},
   "outputs": [
    {
     "data": {
      "image/png": "[encoded data removed]",
      "text/latex": [
       "$$- y{\\left (t \\right )} + \\frac{d^{2}}{d t^{2}}  y{\\left (t \\right )} = e^{t}$$"
      ],
      "text/plain": [
       "          2           \n",
       "         d           t\n",
       "-y(t) + ───(y(t)) = ℯ \n",
       "          2           \n",
       "        dt            "
      ]
     },
     "execution_count": 137,
     "metadata": {},
     "output_type": "execute_result"
    }
   ],
   "source": [
    "difj = sp.Eq(sp.Derivative(y(t), t, 2) - y(t), sp.E ** t)\n",
    "difj"
   ]
  },
  {
   "cell_type": "code",
   "execution_count": 138,
   "metadata": {},
   "outputs": [
    {
     "data": {
      "text/plain": [
       "('nth_linear_constant_coeff_undetermined_coefficients',\n",
       " 'nth_linear_constant_coeff_variation_of_parameters',\n",
       " 'nth_linear_constant_coeff_variation_of_parameters_Integral')"
      ]
     },
     "execution_count": 138,
     "metadata": {},
     "output_type": "execute_result"
    }
   ],
   "source": [
    "sp.classify_ode(difj, y(t))"
   ]
  },
  {
   "cell_type": "code",
   "execution_count": 139,
   "metadata": {},
   "outputs": [
    {
     "data": {
      "image/png": "[encoded data removed]",
      "text/latex": [
       "$$y{\\left (t \\right )} = C_{2} e^{- t} + \\left(C_{1} + \\frac{t}{2}\\right) e^{t}$$"
      ],
      "text/plain": [
       "           -t   ⎛     t⎞  t\n",
       "y(t) = C₂⋅ℯ   + ⎜C₁ + ─⎟⋅ℯ \n",
       "                ⎝     2⎠   "
      ]
     },
     "execution_count": 139,
     "metadata": {},
     "output_type": "execute_result"
    }
   ],
   "source": [
    "sp.dsolve(difj, y(t))"
   ]
  },
  {
   "cell_type": "code",
   "execution_count": 142,
   "metadata": {},
   "outputs": [
    {
     "data": {
      "image/png": "[encoded data removed]",
      "text/latex": [
       "$$\\frac{1}{3}$$"
      ],
      "text/plain": [
       "1/3"
      ]
     },
     "execution_count": 142,
     "metadata": {},
     "output_type": "execute_result"
    }
   ],
   "source": [
    "sp.Determinant(sp.Matrix([[1,2,3], [4,5,6], [1,3,4]])**-1).doit()"
   ]
  },
  {
   "cell_type": "code",
   "execution_count": 143,
   "metadata": {},
   "outputs": [],
   "source": [
    "M = sp.Matrix([[1, 2, 3], [2, 2, 2], [1, 2, 3]])"
   ]
  },
  {
   "cell_type": "code",
   "execution_count": 144,
   "metadata": {},
   "outputs": [
    {
     "data": {
      "text/latex": [
       "$$\\left[\\begin{matrix}1 & 2 & 3\\\\2 & 2 & 2\\\\1 & 2 & 3\\end{matrix}\\right]$$"
      ],
      "text/plain": [
       "⎡1  2  3⎤\n",
       "⎢       ⎥\n",
       "⎢2  2  2⎥\n",
       "⎢       ⎥\n",
       "⎣1  2  3⎦"
      ]
     },
     "execution_count": 144,
     "metadata": {},
     "output_type": "execute_result"
    }
   ],
   "source": [
    "M"
   ]
  },
  {
   "cell_type": "code",
   "execution_count": 145,
   "metadata": {},
   "outputs": [
    {
     "data": {
      "image/png": "[encoded data removed]",
      "text/latex": [
       "$$\\left \\{ 0 : 2, \\quad 6 : 1\\right \\}$$"
      ],
      "text/plain": [
       "{0: 2, 6: 1}"
      ]
     },
     "execution_count": 145,
     "metadata": {},
     "output_type": "execute_result"
    }
   ],
   "source": [
    "M.eigenvals()"
   ]
  },
  {
   "cell_type": "code",
   "execution_count": 146,
   "metadata": {},
   "outputs": [
    {
     "data": {
      "text/latex": [
       "$$\\left [ \\left ( 0, \\quad 2, \\quad \\left [ \\left[\\begin{matrix}1\\\\-2\\\\1\\end{matrix}\\right]\\right ]\\right ), \\quad \\left ( 6, \\quad 1, \\quad \\left [ \\left[\\begin{matrix}1\\\\1\\\\1\\end{matrix}\\right]\\right ]\\right )\\right ]$$"
      ],
      "text/plain": [
       "⎡⎛      ⎡⎡1 ⎤⎤⎞  ⎛      ⎡⎡1⎤⎤⎞⎤\n",
       "⎢⎜      ⎢⎢  ⎥⎥⎟  ⎜      ⎢⎢ ⎥⎥⎟⎥\n",
       "⎢⎜0, 2, ⎢⎢-2⎥⎥⎟, ⎜6, 1, ⎢⎢1⎥⎥⎟⎥\n",
       "⎢⎜      ⎢⎢  ⎥⎥⎟  ⎜      ⎢⎢ ⎥⎥⎟⎥\n",
       "⎣⎝      ⎣⎣1 ⎦⎦⎠  ⎝      ⎣⎣1⎦⎦⎠⎦"
      ]
     },
     "execution_count": 146,
     "metadata": {},
     "output_type": "execute_result"
    }
   ],
   "source": [
    "M.eigenvects()"
   ]
  },
  {
   "cell_type": "code",
   "execution_count": 147,
   "metadata": {},
   "outputs": [
    {
     "data": {
      "text/latex": [
       "$$\\iiiint \\left(- 2 \\left(\\sin{\\left (x + y \\right )} + \\cos{\\left (x + y \\right )}\\right) e^{y}\\right)\\, dy\\, dy\\, dy\\, dx$$"
      ],
      "text/plain": [
       "⌠ ⌠ ⌠ ⌠                                            \n",
       "⎮ ⎮ ⎮ ⎮                               y            \n",
       "⎮ ⎮ ⎮ ⎮ -2⋅(sin(x + y) + cos(x + y))⋅ℯ  dy dy dy dx\n",
       "⌡ ⌡ ⌡ ⌡                                            "
      ]
     },
     "execution_count": 147,
     "metadata": {},
     "output_type": "execute_result"
    }
   ],
   "source": [
    "intg"
   ]
  },
  {
   "cell_type": "code",
   "execution_count": null,
   "metadata": {},
   "outputs": [],
   "source": [
    "[sp.cos(x).rewrite(funkcija) for funkcija in (sp.sin, sp.tan, sp.csc, sp.exp, sp.acos)]\n"
   ]
  },
  {
   "cell_type": "code",
   "execution_count": 148,
   "metadata": {},
   "outputs": [
    {
     "name": "stdout",
     "output_type": "stream",
     "text": [
      "True\n"
     ]
    }
   ],
   "source": [
    "with sp.assuming(sp.Q.real(x), sp.Q.nonzero(x)):\n",
    "    print(sp.ask(sp.Q.positive(x ** 2)))"
   ]
  },
  {
   "cell_type": "code",
   "execution_count": 149,
   "metadata": {},
   "outputs": [
    {
     "name": "stdout",
     "output_type": "stream",
     "text": [
      "False\n"
     ]
    }
   ],
   "source": [
    "with sp.assuming(sp.Q.integer(x)):\n",
    "    print(sp.ask(sp.Q.prime(4 * x)))"
   ]
  },
  {
   "cell_type": "code",
   "execution_count": 150,
   "metadata": {},
   "outputs": [
    {
     "data": {
      "text/plain": [
       "True"
      ]
     },
     "execution_count": 150,
     "metadata": {},
     "output_type": "execute_result"
    }
   ],
   "source": [
    "(x**2 + 2*x + 1).equals((x+1)**2)"
   ]
  },
  {
   "cell_type": "code",
   "execution_count": 151,
   "metadata": {},
   "outputs": [
    {
     "data": {
      "image/png": "[encoded data removed]",
      "text/latex": [
       "$$x + \\frac{1}{3}$$"
      ],
      "text/plain": [
       "x + 1/3"
      ]
     },
     "execution_count": 151,
     "metadata": {},
     "output_type": "execute_result"
    }
   ],
   "source": [
    "x + sp.S(1) / sp.S(3)"
   ]
  },
  {
   "cell_type": "code",
   "execution_count": 152,
   "metadata": {},
   "outputs": [
    {
     "data": {
      "image/png": "[encoded data removed]",
      "text/latex": [
       "$$x + 0.333333333333333$$"
      ],
      "text/plain": [
       "x + 0.333333333333333"
      ]
     },
     "execution_count": 152,
     "metadata": {},
     "output_type": "execute_result"
    }
   ],
   "source": [
    "x + sp.S(1/3)"
   ]
  },
  {
   "cell_type": "code",
   "execution_count": 153,
   "metadata": {},
   "outputs": [
    {
     "data": {
      "image/png": "[encoded data removed]",
      "text/latex": [
       "$$x^{x^{x^{x}}}$$"
      ],
      "text/plain": [
       " ⎛ ⎛ x⎞⎞\n",
       " ⎜ ⎝x ⎠⎟\n",
       " ⎝x    ⎠\n",
       "x       "
      ]
     },
     "execution_count": 153,
     "metadata": {},
     "output_type": "execute_result"
    }
   ],
   "source": [
    "izraz = 0\n",
    "for ponavljanje in range(5):\n",
    "    izraz = x ** izraz\n",
    "izraz"
   ]
  },
  {
   "cell_type": "code",
   "execution_count": 156,
   "metadata": {},
   "outputs": [
    {
     "data": {
      "image/png": "[encoded data removed]",
      "text/latex": [
       "$$\\left(\\left(x^{x}\\right)^{x^{x}}\\right)^{\\left(x^{x}\\right)^{x^{x}}}$$"
      ],
      "text/plain": [
       "          ⎛    ⎛ x⎞⎞\n",
       "          ⎜    ⎝x ⎠⎟\n",
       "          ⎜⎛ x⎞    ⎟\n",
       "          ⎝⎝x ⎠    ⎠\n",
       "⎛    ⎛ x⎞⎞          \n",
       "⎜    ⎝x ⎠⎟          \n",
       "⎜⎛ x⎞    ⎟          \n",
       "⎝⎝x ⎠    ⎠          "
      ]
     },
     "execution_count": 156,
     "metadata": {},
     "output_type": "execute_result"
    }
   ],
   "source": [
    "izraz = x\n",
    "for ponavljanje in range(3):\n",
    "    izraz = izraz.subs(x, x**x)\n",
    "izraz"
   ]
  },
  {
   "cell_type": "code",
   "execution_count": 159,
   "metadata": {},
   "outputs": [
    {
     "data": {
      "image/png": "[encoded data removed]",
      "text/latex": [
       "$$2 \\sin{\\left (x \\right )} \\cos{\\left (x \\right )} + 2 \\cos^{2}{\\left (x \\right )} - 1$$"
      ],
      "text/plain": [
       "                       2       \n",
       "2⋅sin(x)⋅cos(x) + 2⋅cos (x) - 1"
      ]
     },
     "execution_count": 159,
     "metadata": {},
     "output_type": "execute_result"
    }
   ],
   "source": [
    "izraz = sp.sin(2*x) + sp.cos(2*x)\n",
    "izraz.expand(trig = True)"
   ]
  },
  {
   "cell_type": "code",
   "execution_count": 161,
   "metadata": {},
   "outputs": [
    {
     "data": {
      "image/png": "[encoded data removed]",
      "text/latex": [
       "$$2 \\sin{\\left (x \\right )} \\cos{\\left (x \\right )} + \\cos{\\left (2 x \\right )}$$"
      ],
      "text/plain": [
       "2⋅sin(x)⋅cos(x) + cos(2⋅x)"
      ]
     },
     "execution_count": 161,
     "metadata": {},
     "output_type": "execute_result"
    }
   ],
   "source": [
    "def parcijalna_zamjena(izraz, podizraz, transformacija):\n",
    "    return izraz.subs(podizraz, transformacija(podizraz))\n",
    "parcijalna_zamjena(izraz,sp.sin(2*x),sp.expand_trig)"
   ]
  },
  {
   "cell_type": "code",
   "execution_count": 162,
   "metadata": {},
   "outputs": [
    {
     "name": "stdout",
     "output_type": "stream",
     "text": [
      "digraph{\n",
      "\n",
      "# Graph style\n",
      "\"ordering\"=\"out\"\n",
      "\"rankdir\"=\"TD\"\n",
      "\n",
      "#########\n",
      "# Nodes #\n",
      "#########\n",
      "\n",
      "\"Mul(Rational(-1, 2), Pow(Symbol(a), NegativeOne()), Add(Symbol(b), Pow(Add(Pow(Symbol(b), Integer(2)), Mul(Integer(-4), Symbol(a), Symbol(c))), Half())))_()\" [\"color\"=\"black\", \"label\"=\"Mul\", \"shape\"=\"ellipse\"];\n",
      "\"Rational(-1, 2)_(0,)\" [\"color\"=\"black\", \"label\"=\"-1/2\", \"shape\"=\"ellipse\"];\n",
      "\"Pow(Symbol(a), NegativeOne())_(1,)\" [\"color\"=\"black\", \"label\"=\"Pow\", \"shape\"=\"ellipse\"];\n",
      "\"Symbol(a)_(1, 0)\" [\"color\"=\"black\", \"label\"=\"a\", \"shape\"=\"ellipse\"];\n",
      "\"NegativeOne()_(1, 1)\" [\"color\"=\"black\", \"label\"=\"-1\", \"shape\"=\"ellipse\"];\n",
      "\"Add(Symbol(b), Pow(Add(Pow(Symbol(b), Integer(2)), Mul(Integer(-4), Symbol(a), Symbol(c))), Half()))_(2,)\" [\"color\"=\"black\", \"label\"=\"Add\", \"shape\"=\"ellipse\"];\n",
      "\"Symbol(b)_(2, 0)\" [\"color\"=\"black\", \"label\"=\"b\", \"shape\"=\"ellipse\"];\n",
      "\"Pow(Add(Pow(Symbol(b), Integer(2)), Mul(Integer(-4), Symbol(a), Symbol(c))), Half())_(2, 1)\" [\"color\"=\"black\", \"label\"=\"Pow\", \"shape\"=\"ellipse\"];\n",
      "\"Add(Pow(Symbol(b), Integer(2)), Mul(Integer(-4), Symbol(a), Symbol(c)))_(2, 1, 0)\" [\"color\"=\"black\", \"label\"=\"Add\", \"shape\"=\"ellipse\"];\n",
      "\"Pow(Symbol(b), Integer(2))_(2, 1, 0, 0)\" [\"color\"=\"black\", \"label\"=\"Pow\", \"shape\"=\"ellipse\"];\n",
      "\"Symbol(b)_(2, 1, 0, 0, 0)\" [\"color\"=\"black\", \"label\"=\"b\", \"shape\"=\"ellipse\"];\n",
      "\"Integer(2)_(2, 1, 0, 0, 1)\" [\"color\"=\"black\", \"label\"=\"2\", \"shape\"=\"ellipse\"];\n",
      "\"Mul(Integer(-4), Symbol(a), Symbol(c))_(2, 1, 0, 1)\" [\"color\"=\"black\", \"label\"=\"Mul\", \"shape\"=\"ellipse\"];\n",
      "\"Integer(-4)_(2, 1, 0, 1, 0)\" [\"color\"=\"black\", \"label\"=\"-4\", \"shape\"=\"ellipse\"];\n",
      "\"Symbol(a)_(2, 1, 0, 1, 1)\" [\"color\"=\"black\", \"label\"=\"a\", \"shape\"=\"ellipse\"];\n",
      "\"Symbol(c)_(2, 1, 0, 1, 2)\" [\"color\"=\"black\", \"label\"=\"c\", \"shape\"=\"ellipse\"];\n",
      "\"Half()_(2, 1, 1)\" [\"color\"=\"black\", \"label\"=\"1/2\", \"shape\"=\"ellipse\"];\n",
      "\n",
      "#########\n",
      "# Edges #\n",
      "#########\n",
      "\n",
      "\"Mul(Rational(-1, 2), Pow(Symbol(a), NegativeOne()), Add(Symbol(b), Pow(Add(Pow(Symbol(b), Integer(2)), Mul(Integer(-4), Symbol(a), Symbol(c))), Half())))_()\" -> \"Rational(-1, 2)_(0,)\";\n",
      "\"Mul(Rational(-1, 2), Pow(Symbol(a), NegativeOne()), Add(Symbol(b), Pow(Add(Pow(Symbol(b), Integer(2)), Mul(Integer(-4), Symbol(a), Symbol(c))), Half())))_()\" -> \"Pow(Symbol(a), NegativeOne())_(1,)\";\n",
      "\"Mul(Rational(-1, 2), Pow(Symbol(a), NegativeOne()), Add(Symbol(b), Pow(Add(Pow(Symbol(b), Integer(2)), Mul(Integer(-4), Symbol(a), Symbol(c))), Half())))_()\" -> \"Add(Symbol(b), Pow(Add(Pow(Symbol(b), Integer(2)), Mul(Integer(-4), Symbol(a), Symbol(c))), Half()))_(2,)\";\n",
      "\"Pow(Symbol(a), NegativeOne())_(1,)\" -> \"Symbol(a)_(1, 0)\";\n",
      "\"Pow(Symbol(a), NegativeOne())_(1,)\" -> \"NegativeOne()_(1, 1)\";\n",
      "\"Add(Symbol(b), Pow(Add(Pow(Symbol(b), Integer(2)), Mul(Integer(-4), Symbol(a), Symbol(c))), Half()))_(2,)\" -> \"Symbol(b)_(2, 0)\";\n",
      "\"Add(Symbol(b), Pow(Add(Pow(Symbol(b), Integer(2)), Mul(Integer(-4), Symbol(a), Symbol(c))), Half()))_(2,)\" -> \"Pow(Add(Pow(Symbol(b), Integer(2)), Mul(Integer(-4), Symbol(a), Symbol(c))), Half())_(2, 1)\";\n",
      "\"Pow(Add(Pow(Symbol(b), Integer(2)), Mul(Integer(-4), Symbol(a), Symbol(c))), Half())_(2, 1)\" -> \"Add(Pow(Symbol(b), Integer(2)), Mul(Integer(-4), Symbol(a), Symbol(c)))_(2, 1, 0)\";\n",
      "\"Pow(Add(Pow(Symbol(b), Integer(2)), Mul(Integer(-4), Symbol(a), Symbol(c))), Half())_(2, 1)\" -> \"Half()_(2, 1, 1)\";\n",
      "\"Add(Pow(Symbol(b), Integer(2)), Mul(Integer(-4), Symbol(a), Symbol(c)))_(2, 1, 0)\" -> \"Pow(Symbol(b), Integer(2))_(2, 1, 0, 0)\";\n",
      "\"Add(Pow(Symbol(b), Integer(2)), Mul(Integer(-4), Symbol(a), Symbol(c)))_(2, 1, 0)\" -> \"Mul(Integer(-4), Symbol(a), Symbol(c))_(2, 1, 0, 1)\";\n",
      "\"Pow(Symbol(b), Integer(2))_(2, 1, 0, 0)\" -> \"Symbol(b)_(2, 1, 0, 0, 0)\";\n",
      "\"Pow(Symbol(b), Integer(2))_(2, 1, 0, 0)\" -> \"Integer(2)_(2, 1, 0, 0, 1)\";\n",
      "\"Mul(Integer(-4), Symbol(a), Symbol(c))_(2, 1, 0, 1)\" -> \"Integer(-4)_(2, 1, 0, 1, 0)\";\n",
      "\"Mul(Integer(-4), Symbol(a), Symbol(c))_(2, 1, 0, 1)\" -> \"Symbol(a)_(2, 1, 0, 1, 1)\";\n",
      "\"Mul(Integer(-4), Symbol(a), Symbol(c))_(2, 1, 0, 1)\" -> \"Symbol(c)_(2, 1, 0, 1, 2)\";\n",
      "}\n"
     ]
    }
   ],
   "source": [
    "from sympy.printing.dot import dotprint\n",
    "from sympy.abc import a, b, c, x\n",
    "print(dotprint(sp.solve(a * x**2 + b * x + c, x)[~0]))"
   ]
  },
  {
   "cell_type": "code",
   "execution_count": 163,
   "metadata": {},
   "outputs": [
    {
     "data": {
      "image/svg+xml": [
       "<svg height=\"404pt\" viewBox=\"0.00 0.00 406.00 404.00\" width=\"406pt\" xmlns=\"http://www.w3.org/2000/svg\" xmlns:xlink=\"http://www.w3.org/1999/xlink\">\n",
       "<g class=\"graph\" id=\"graph1\" transform=\"scale(1 1) rotate(0) translate(4 400)\">\n",
       "<title>_anonymous_0</title>\n",
       "<polygon fill=\"white\" points=\"-4,5 -4,-400 403,-400 403,5 -4,5\" stroke=\"white\"/>\n",
       "<!-- Mul(Rational(&#45;1, 2), Pow(Symbol(a), NegativeOne()), Add(Symbol(b), Pow(Add(Pow(Symbol(b), Integer(2)), Mul(Integer(&#45;4), Symbol(a), Symbol(c))), Half())))_() -->\n",
       "<g class=\"node\" id=\"node1\"><title>Mul(Rational(-1, 2), Pow(Symbol(a), NegativeOne()), Add(Symbol(b), Pow(Add(Pow(Symbol(b), Integer(2)), Mul(Integer(-4), Symbol(a), Symbol(c))), Half())))_()</title>\n",
       "<ellipse cx=\"100\" cy=\"-378\" fill=\"none\" rx=\"27.1994\" ry=\"18\" stroke=\"black\"/>\n",
       "<text font-family=\"Times,serif\" font-size=\"14.00\" text-anchor=\"middle\" x=\"100\" y=\"-373.8\">Mul</text>\n",
       "</g>\n",
       "<!-- Rational(&#45;1, 2)_(0,) -->\n",
       "<g class=\"node\" id=\"node2\"><title>Rational(-1, 2)_(0,)</title>\n",
       "<ellipse cx=\"27\" cy=\"-306\" fill=\"none\" rx=\"27\" ry=\"18\" stroke=\"black\"/>\n",
       "<text font-family=\"Times,serif\" font-size=\"14.00\" text-anchor=\"middle\" x=\"27\" y=\"-301.8\">-1/2</text>\n",
       "</g>\n",
       "<!-- Mul(Rational(&#45;1, 2), Pow(Symbol(a), NegativeOne()), Add(Symbol(b), Pow(Add(Pow(Symbol(b), Integer(2)), Mul(Integer(&#45;4), Symbol(a), Symbol(c))), Half())))_()&#45;&gt;Rational(&#45;1, 2)_(0,) -->\n",
       "<g class=\"edge\" id=\"edge2\"><title>Mul(Rational(-1, 2), Pow(Symbol(a), NegativeOne()), Add(Symbol(b), Pow(Add(Pow(Symbol(b), Integer(2)), Mul(Integer(-4), Symbol(a), Symbol(c))), Half())))_()-&gt;Rational(-1, 2)_(0,)</title>\n",
       "<path d=\"M85.2274,-362.834C74.838,-352.872 60.7559,-339.369 49.043,-328.137\" fill=\"none\" stroke=\"black\"/>\n",
       "<polygon fill=\"black\" points=\"51.391,-325.539 41.7507,-321.144 46.5461,-330.592 51.391,-325.539\" stroke=\"black\"/>\n",
       "</g>\n",
       "<!-- Pow(Symbol(a), NegativeOne())_(1,) -->\n",
       "<g class=\"node\" id=\"node3\"><title>Pow(Symbol(a), NegativeOne())_(1,)</title>\n",
       "<ellipse cx=\"100\" cy=\"-306\" fill=\"none\" rx=\"28.3077\" ry=\"18\" stroke=\"black\"/>\n",
       "<text font-family=\"Times,serif\" font-size=\"14.00\" text-anchor=\"middle\" x=\"100\" y=\"-301.8\">Pow</text>\n",
       "</g>\n",
       "<!-- Mul(Rational(&#45;1, 2), Pow(Symbol(a), NegativeOne()), Add(Symbol(b), Pow(Add(Pow(Symbol(b), Integer(2)), Mul(Integer(&#45;4), Symbol(a), Symbol(c))), Half())))_()&#45;&gt;Pow(Symbol(a), NegativeOne())_(1,) -->\n",
       "<g class=\"edge\" id=\"edge4\"><title>Mul(Rational(-1, 2), Pow(Symbol(a), NegativeOne()), Add(Symbol(b), Pow(Add(Pow(Symbol(b), Integer(2)), Mul(Integer(-4), Symbol(a), Symbol(c))), Half())))_()-&gt;Pow(Symbol(a), NegativeOne())_(1,)</title>\n",
       "<path d=\"M100,-359.697C100,-351.983 100,-342.712 100,-334.112\" fill=\"none\" stroke=\"black\"/>\n",
       "<polygon fill=\"black\" points=\"103.5,-334.104 100,-324.104 96.5001,-334.104 103.5,-334.104\" stroke=\"black\"/>\n",
       "</g>\n",
       "<!-- Add(Symbol(b), Pow(Add(Pow(Symbol(b), Integer(2)), Mul(Integer(&#45;4), Symbol(a), Symbol(c))), Half()))_(2,) -->\n",
       "<g class=\"node\" id=\"node6\"><title>Add(Symbol(b), Pow(Add(Pow(Symbol(b), Integer(2)), Mul(Integer(-4), Symbol(a), Symbol(c))), Half()))_(2,)</title>\n",
       "<ellipse cx=\"174\" cy=\"-306\" fill=\"none\" rx=\"27.4962\" ry=\"18\" stroke=\"black\"/>\n",
       "<text font-family=\"Times,serif\" font-size=\"14.00\" text-anchor=\"middle\" x=\"174\" y=\"-301.8\">Add</text>\n",
       "</g>\n",
       "<!-- Mul(Rational(&#45;1, 2), Pow(Symbol(a), NegativeOne()), Add(Symbol(b), Pow(Add(Pow(Symbol(b), Integer(2)), Mul(Integer(&#45;4), Symbol(a), Symbol(c))), Half())))_()&#45;&gt;Add(Symbol(b), Pow(Add(Pow(Symbol(b), Integer(2)), Mul(Integer(&#45;4), Symbol(a), Symbol(c))), Half()))_(2,) -->\n",
       "<g class=\"edge\" id=\"edge6\"><title>Mul(Rational(-1, 2), Pow(Symbol(a), NegativeOne()), Add(Symbol(b), Pow(Add(Pow(Symbol(b), Integer(2)), Mul(Integer(-4), Symbol(a), Symbol(c))), Half())))_()-&gt;Add(Symbol(b), Pow(Add(Pow(Symbol(b), Integer(2)), Mul(Integer(-4), Symbol(a), Symbol(c))), Half()))_(2,)</title>\n",
       "<path d=\"M114.975,-362.834C125.507,-352.872 139.782,-339.369 151.655,-328.137\" fill=\"none\" stroke=\"black\"/>\n",
       "<polygon fill=\"black\" points=\"154.188,-330.559 159.047,-321.144 149.377,-325.474 154.188,-330.559\" stroke=\"black\"/>\n",
       "</g>\n",
       "<!-- Symbol(a)_(1, 0) -->\n",
       "<g class=\"node\" id=\"node4\"><title>Symbol(a)_(1, 0)</title>\n",
       "<ellipse cx=\"28\" cy=\"-234\" fill=\"none\" rx=\"27\" ry=\"18\" stroke=\"black\"/>\n",
       "<text font-family=\"Times,serif\" font-size=\"14.00\" text-anchor=\"middle\" x=\"28\" y=\"-229.8\">a</text>\n",
       "</g>\n",
       "<!-- Pow(Symbol(a), NegativeOne())_(1,)&#45;&gt;Symbol(a)_(1, 0) -->\n",
       "<g class=\"edge\" id=\"edge8\"><title>Pow(Symbol(a), NegativeOne())_(1,)-&gt;Symbol(a)_(1, 0)</title>\n",
       "<path d=\"M85.0816,-290.496C75.0415,-280.735 61.6237,-267.69 50.3199,-256.7\" fill=\"none\" stroke=\"black\"/>\n",
       "<polygon fill=\"black\" points=\"52.5091,-253.947 42.8993,-249.485 47.6295,-258.966 52.5091,-253.947\" stroke=\"black\"/>\n",
       "</g>\n",
       "<!-- NegativeOne()_(1, 1) -->\n",
       "<g class=\"node\" id=\"node5\"><title>NegativeOne()_(1, 1)</title>\n",
       "<ellipse cx=\"100\" cy=\"-234\" fill=\"none\" rx=\"27\" ry=\"18\" stroke=\"black\"/>\n",
       "<text font-family=\"Times,serif\" font-size=\"14.00\" text-anchor=\"middle\" x=\"100\" y=\"-229.8\">-1</text>\n",
       "</g>\n",
       "<!-- Pow(Symbol(a), NegativeOne())_(1,)&#45;&gt;NegativeOne()_(1, 1) -->\n",
       "<g class=\"edge\" id=\"edge10\"><title>Pow(Symbol(a), NegativeOne())_(1,)-&gt;NegativeOne()_(1, 1)</title>\n",
       "<path d=\"M100,-287.697C100,-279.983 100,-270.712 100,-262.112\" fill=\"none\" stroke=\"black\"/>\n",
       "<polygon fill=\"black\" points=\"103.5,-262.104 100,-252.104 96.5001,-262.104 103.5,-262.104\" stroke=\"black\"/>\n",
       "</g>\n",
       "<!-- Symbol(b)_(2, 0) -->\n",
       "<g class=\"node\" id=\"node7\"><title>Symbol(b)_(2, 0)</title>\n",
       "<ellipse cx=\"173\" cy=\"-234\" fill=\"none\" rx=\"27\" ry=\"18\" stroke=\"black\"/>\n",
       "<text font-family=\"Times,serif\" font-size=\"14.00\" text-anchor=\"middle\" x=\"173\" y=\"-229.8\">b</text>\n",
       "</g>\n",
       "<!-- Add(Symbol(b), Pow(Add(Pow(Symbol(b), Integer(2)), Mul(Integer(&#45;4), Symbol(a), Symbol(c))), Half()))_(2,)&#45;&gt;Symbol(b)_(2, 0) -->\n",
       "<g class=\"edge\" id=\"edge12\"><title>Add(Symbol(b), Pow(Add(Pow(Symbol(b), Integer(2)), Mul(Integer(-4), Symbol(a), Symbol(c))), Half()))_(2,)-&gt;Symbol(b)_(2, 0)</title>\n",
       "<path d=\"M173.753,-287.697C173.643,-279.983 173.51,-270.712 173.387,-262.112\" fill=\"none\" stroke=\"black\"/>\n",
       "<polygon fill=\"black\" points=\"176.887,-262.053 173.244,-252.104 169.888,-262.153 176.887,-262.053\" stroke=\"black\"/>\n",
       "</g>\n",
       "<!-- Pow(Add(Pow(Symbol(b), Integer(2)), Mul(Integer(&#45;4), Symbol(a), Symbol(c))), Half())_(2, 1) -->\n",
       "<g class=\"node\" id=\"node8\"><title>Pow(Add(Pow(Symbol(b), Integer(2)), Mul(Integer(-4), Symbol(a), Symbol(c))), Half())_(2, 1)</title>\n",
       "<ellipse cx=\"246\" cy=\"-234\" fill=\"none\" rx=\"28.3077\" ry=\"18\" stroke=\"black\"/>\n",
       "<text font-family=\"Times,serif\" font-size=\"14.00\" text-anchor=\"middle\" x=\"246\" y=\"-229.8\">Pow</text>\n",
       "</g>\n",
       "<!-- Add(Symbol(b), Pow(Add(Pow(Symbol(b), Integer(2)), Mul(Integer(&#45;4), Symbol(a), Symbol(c))), Half()))_(2,)&#45;&gt;Pow(Add(Pow(Symbol(b), Integer(2)), Mul(Integer(&#45;4), Symbol(a), Symbol(c))), Half())_(2, 1) -->\n",
       "<g class=\"edge\" id=\"edge14\"><title>Add(Symbol(b), Pow(Add(Pow(Symbol(b), Integer(2)), Mul(Integer(-4), Symbol(a), Symbol(c))), Half()))_(2,)-&gt;Pow(Add(Pow(Symbol(b), Integer(2)), Mul(Integer(-4), Symbol(a), Symbol(c))), Half())_(2, 1)</title>\n",
       "<path d=\"M188.918,-290.496C198.958,-280.735 212.376,-267.69 223.68,-256.7\" fill=\"none\" stroke=\"black\"/>\n",
       "<polygon fill=\"black\" points=\"226.37,-258.966 231.101,-249.485 221.491,-253.947 226.37,-258.966\" stroke=\"black\"/>\n",
       "</g>\n",
       "<!-- Add(Pow(Symbol(b), Integer(2)), Mul(Integer(&#45;4), Symbol(a), Symbol(c)))_(2, 1, 0) -->\n",
       "<g class=\"node\" id=\"node9\"><title>Add(Pow(Symbol(b), Integer(2)), Mul(Integer(-4), Symbol(a), Symbol(c)))_(2, 1, 0)</title>\n",
       "<ellipse cx=\"209\" cy=\"-162\" fill=\"none\" rx=\"27.4962\" ry=\"18\" stroke=\"black\"/>\n",
       "<text font-family=\"Times,serif\" font-size=\"14.00\" text-anchor=\"middle\" x=\"209\" y=\"-157.8\">Add</text>\n",
       "</g>\n",
       "<!-- Pow(Add(Pow(Symbol(b), Integer(2)), Mul(Integer(&#45;4), Symbol(a), Symbol(c))), Half())_(2, 1)&#45;&gt;Add(Pow(Symbol(b), Integer(2)), Mul(Integer(&#45;4), Symbol(a), Symbol(c)))_(2, 1, 0) -->\n",
       "<g class=\"edge\" id=\"edge16\"><title>Pow(Add(Pow(Symbol(b), Integer(2)), Mul(Integer(-4), Symbol(a), Symbol(c))), Half())_(2, 1)-&gt;Add(Pow(Symbol(b), Integer(2)), Mul(Integer(-4), Symbol(a), Symbol(c)))_(2, 1, 0)</title>\n",
       "<path d=\"M237.418,-216.765C232.935,-208.283 227.349,-197.714 222.319,-188.197\" fill=\"none\" stroke=\"black\"/>\n",
       "<polygon fill=\"black\" points=\"225.302,-186.353 217.535,-179.147 219.114,-189.624 225.302,-186.353\" stroke=\"black\"/>\n",
       "</g>\n",
       "<!-- Half()_(2, 1, 1) -->\n",
       "<g class=\"node\" id=\"node17\"><title>Half()_(2, 1, 1)</title>\n",
       "<ellipse cx=\"282\" cy=\"-162\" fill=\"none\" rx=\"27\" ry=\"18\" stroke=\"black\"/>\n",
       "<text font-family=\"Times,serif\" font-size=\"14.00\" text-anchor=\"middle\" x=\"282\" y=\"-157.8\">1/2</text>\n",
       "</g>\n",
       "<!-- Pow(Add(Pow(Symbol(b), Integer(2)), Mul(Integer(&#45;4), Symbol(a), Symbol(c))), Half())_(2, 1)&#45;&gt;Half()_(2, 1, 1) -->\n",
       "<g class=\"edge\" id=\"edge18\"><title>Pow(Add(Pow(Symbol(b), Integer(2)), Mul(Integer(-4), Symbol(a), Symbol(c))), Half())_(2, 1)-&gt;Half()_(2, 1, 1)</title>\n",
       "<path d=\"M254.35,-216.765C258.712,-208.283 264.147,-197.714 269.041,-188.197\" fill=\"none\" stroke=\"black\"/>\n",
       "<polygon fill=\"black\" points=\"272.235,-189.641 273.696,-179.147 266.01,-186.439 272.235,-189.641\" stroke=\"black\"/>\n",
       "</g>\n",
       "<!-- Pow(Symbol(b), Integer(2))_(2, 1, 0, 0) -->\n",
       "<g class=\"node\" id=\"node10\"><title>Pow(Symbol(b), Integer(2))_(2, 1, 0, 0)</title>\n",
       "<ellipse cx=\"155\" cy=\"-90\" fill=\"none\" rx=\"28.3077\" ry=\"18\" stroke=\"black\"/>\n",
       "<text font-family=\"Times,serif\" font-size=\"14.00\" text-anchor=\"middle\" x=\"155\" y=\"-85.8\">Pow</text>\n",
       "</g>\n",
       "<!-- Add(Pow(Symbol(b), Integer(2)), Mul(Integer(&#45;4), Symbol(a), Symbol(c)))_(2, 1, 0)&#45;&gt;Pow(Symbol(b), Integer(2))_(2, 1, 0, 0) -->\n",
       "<g class=\"edge\" id=\"edge20\"><title>Add(Pow(Symbol(b), Integer(2)), Mul(Integer(-4), Symbol(a), Symbol(c)))_(2, 1, 0)-&gt;Pow(Symbol(b), Integer(2))_(2, 1, 0, 0)</title>\n",
       "<path d=\"M197.016,-145.465C190.024,-136.402 181.064,-124.786 173.215,-114.612\" fill=\"none\" stroke=\"black\"/>\n",
       "<polygon fill=\"black\" points=\"175.83,-112.272 166.951,-106.492 170.288,-116.548 175.83,-112.272\" stroke=\"black\"/>\n",
       "</g>\n",
       "<!-- Mul(Integer(&#45;4), Symbol(a), Symbol(c))_(2, 1, 0, 1) -->\n",
       "<g class=\"node\" id=\"node13\"><title>Mul(Integer(-4), Symbol(a), Symbol(c))_(2, 1, 0, 1)</title>\n",
       "<ellipse cx=\"263\" cy=\"-90\" fill=\"none\" rx=\"27.1994\" ry=\"18\" stroke=\"black\"/>\n",
       "<text font-family=\"Times,serif\" font-size=\"14.00\" text-anchor=\"middle\" x=\"263\" y=\"-85.8\">Mul</text>\n",
       "</g>\n",
       "<!-- Add(Pow(Symbol(b), Integer(2)), Mul(Integer(&#45;4), Symbol(a), Symbol(c)))_(2, 1, 0)&#45;&gt;Mul(Integer(&#45;4), Symbol(a), Symbol(c))_(2, 1, 0, 1) -->\n",
       "<g class=\"edge\" id=\"edge22\"><title>Add(Pow(Symbol(b), Integer(2)), Mul(Integer(-4), Symbol(a), Symbol(c)))_(2, 1, 0)-&gt;Mul(Integer(-4), Symbol(a), Symbol(c))_(2, 1, 0, 1)</title>\n",
       "<path d=\"M220.984,-145.465C227.976,-136.402 236.936,-124.786 244.785,-114.612\" fill=\"none\" stroke=\"black\"/>\n",
       "<polygon fill=\"black\" points=\"247.712,-116.548 251.049,-106.492 242.17,-112.272 247.712,-116.548\" stroke=\"black\"/>\n",
       "</g>\n",
       "<!-- Symbol(b)_(2, 1, 0, 0, 0) -->\n",
       "<g class=\"node\" id=\"node11\"><title>Symbol(b)_(2, 1, 0, 0, 0)</title>\n",
       "<ellipse cx=\"83\" cy=\"-18\" fill=\"none\" rx=\"27\" ry=\"18\" stroke=\"black\"/>\n",
       "<text font-family=\"Times,serif\" font-size=\"14.00\" text-anchor=\"middle\" x=\"83\" y=\"-13.8\">b</text>\n",
       "</g>\n",
       "<!-- Pow(Symbol(b), Integer(2))_(2, 1, 0, 0)&#45;&gt;Symbol(b)_(2, 1, 0, 0, 0) -->\n",
       "<g class=\"edge\" id=\"edge24\"><title>Pow(Symbol(b), Integer(2))_(2, 1, 0, 0)-&gt;Symbol(b)_(2, 1, 0, 0, 0)</title>\n",
       "<path d=\"M140.082,-74.496C130.042,-64.7348 116.624,-51.6897 105.32,-40.6999\" fill=\"none\" stroke=\"black\"/>\n",
       "<polygon fill=\"black\" points=\"107.509,-37.9468 97.8993,-33.4855 102.63,-42.9658 107.509,-37.9468\" stroke=\"black\"/>\n",
       "</g>\n",
       "<!-- Integer(2)_(2, 1, 0, 0, 1) -->\n",
       "<g class=\"node\" id=\"node12\"><title>Integer(2)_(2, 1, 0, 0, 1)</title>\n",
       "<ellipse cx=\"155\" cy=\"-18\" fill=\"none\" rx=\"27\" ry=\"18\" stroke=\"black\"/>\n",
       "<text font-family=\"Times,serif\" font-size=\"14.00\" text-anchor=\"middle\" x=\"155\" y=\"-13.8\">2</text>\n",
       "</g>\n",
       "<!-- Pow(Symbol(b), Integer(2))_(2, 1, 0, 0)&#45;&gt;Integer(2)_(2, 1, 0, 0, 1) -->\n",
       "<g class=\"edge\" id=\"edge26\"><title>Pow(Symbol(b), Integer(2))_(2, 1, 0, 0)-&gt;Integer(2)_(2, 1, 0, 0, 1)</title>\n",
       "<path d=\"M155,-71.6966C155,-63.9827 155,-54.7125 155,-46.1124\" fill=\"none\" stroke=\"black\"/>\n",
       "<polygon fill=\"black\" points=\"158.5,-46.1043 155,-36.1043 151.5,-46.1044 158.5,-46.1043\" stroke=\"black\"/>\n",
       "</g>\n",
       "<!-- Integer(&#45;4)_(2, 1, 0, 1, 0) -->\n",
       "<g class=\"node\" id=\"node14\"><title>Integer(-4)_(2, 1, 0, 1, 0)</title>\n",
       "<ellipse cx=\"227\" cy=\"-18\" fill=\"none\" rx=\"27\" ry=\"18\" stroke=\"black\"/>\n",
       "<text font-family=\"Times,serif\" font-size=\"14.00\" text-anchor=\"middle\" x=\"227\" y=\"-13.8\">-4</text>\n",
       "</g>\n",
       "<!-- Mul(Integer(&#45;4), Symbol(a), Symbol(c))_(2, 1, 0, 1)&#45;&gt;Integer(&#45;4)_(2, 1, 0, 1, 0) -->\n",
       "<g class=\"edge\" id=\"edge28\"><title>Mul(Integer(-4), Symbol(a), Symbol(c))_(2, 1, 0, 1)-&gt;Integer(-4)_(2, 1, 0, 1, 0)</title>\n",
       "<path d=\"M254.65,-72.7646C250.288,-64.2831 244.853,-53.7144 239.959,-44.1974\" fill=\"none\" stroke=\"black\"/>\n",
       "<polygon fill=\"black\" points=\"242.99,-42.4395 235.304,-35.1473 236.765,-45.6409 242.99,-42.4395\" stroke=\"black\"/>\n",
       "</g>\n",
       "<!-- Symbol(a)_(2, 1, 0, 1, 1) -->\n",
       "<g class=\"node\" id=\"node15\"><title>Symbol(a)_(2, 1, 0, 1, 1)</title>\n",
       "<ellipse cx=\"299\" cy=\"-18\" fill=\"none\" rx=\"27\" ry=\"18\" stroke=\"black\"/>\n",
       "<text font-family=\"Times,serif\" font-size=\"14.00\" text-anchor=\"middle\" x=\"299\" y=\"-13.8\">a</text>\n",
       "</g>\n",
       "<!-- Mul(Integer(&#45;4), Symbol(a), Symbol(c))_(2, 1, 0, 1)&#45;&gt;Symbol(a)_(2, 1, 0, 1, 1) -->\n",
       "<g class=\"edge\" id=\"edge30\"><title>Mul(Integer(-4), Symbol(a), Symbol(c))_(2, 1, 0, 1)-&gt;Symbol(a)_(2, 1, 0, 1, 1)</title>\n",
       "<path d=\"M271.35,-72.7646C275.712,-64.2831 281.147,-53.7144 286.041,-44.1974\" fill=\"none\" stroke=\"black\"/>\n",
       "<polygon fill=\"black\" points=\"289.235,-45.6409 290.696,-35.1473 283.01,-42.4395 289.235,-45.6409\" stroke=\"black\"/>\n",
       "</g>\n",
       "<!-- Symbol(c)_(2, 1, 0, 1, 2) -->\n",
       "<g class=\"node\" id=\"node16\"><title>Symbol(c)_(2, 1, 0, 1, 2)</title>\n",
       "<ellipse cx=\"371\" cy=\"-18\" fill=\"none\" rx=\"27\" ry=\"18\" stroke=\"black\"/>\n",
       "<text font-family=\"Times,serif\" font-size=\"14.00\" text-anchor=\"middle\" x=\"371\" y=\"-13.8\">c</text>\n",
       "</g>\n",
       "<!-- Mul(Integer(&#45;4), Symbol(a), Symbol(c))_(2, 1, 0, 1)&#45;&gt;Symbol(c)_(2, 1, 0, 1, 2) -->\n",
       "<g class=\"edge\" id=\"edge32\"><title>Mul(Integer(-4), Symbol(a), Symbol(c))_(2, 1, 0, 1)-&gt;Symbol(c)_(2, 1, 0, 1, 2)</title>\n",
       "<path d=\"M281.812,-76.8069C299.002,-65.6653 324.618,-49.0622 343.993,-36.5043\" fill=\"none\" stroke=\"black\"/>\n",
       "<polygon fill=\"black\" points=\"345.916,-39.4294 352.403,-31.0533 342.108,-33.5553 345.916,-39.4294\" stroke=\"black\"/>\n",
       "</g>\n",
       "</g>\n",
       "</svg>"
      ],
      "text/plain": [
       "<IPython.core.display.SVG object>"
      ]
     },
     "execution_count": 163,
     "metadata": {},
     "output_type": "execute_result"
    }
   ],
   "source": [
    "from IPython.display import SVG\n",
    "SVG('izraz.svg')"
   ]
  },
  {
   "cell_type": "code",
   "execution_count": 164,
   "metadata": {},
   "outputs": [
    {
     "data": {
      "image/png": "[encoded data removed]",
      "text/latex": [
       "$$x \\left(x + 1\\right)$$"
      ],
      "text/plain": [
       "x⋅(x + 1)"
      ]
     },
     "execution_count": 164,
     "metadata": {},
     "output_type": "execute_result"
    }
   ],
   "source": [
    "(sp.gamma(x + 2) / sp.gamma(x)).simplify()"
   ]
  },
  {
   "cell_type": "code",
   "execution_count": 172,
   "metadata": {},
   "outputs": [
    {
     "data": {
      "image/png": "[encoded data removed]",
      "text/latex": [
       "$$z \\left(x + 2 y\\right)^{2}$$"
      ],
      "text/plain": [
       "           2\n",
       "z⋅(x + 2⋅y) "
      ]
     },
     "execution_count": 172,
     "metadata": {},
     "output_type": "execute_result"
    }
   ],
   "source": [
    "from sympy.abc import z,y\n",
    "(x**2*z + 4*x*y*z + 4*y**2*z).factor()\n"
   ]
  },
  {
   "cell_type": "code",
   "execution_count": 179,
   "metadata": {},
   "outputs": [
    {
     "data": {
      "image/png": "[encoded data removed]",
      "text/latex": [
       "$$- z + 2$$"
      ],
      "text/plain": [
       "-z + 2"
      ]
     },
     "execution_count": 179,
     "metadata": {},
     "output_type": "execute_result"
    }
   ],
   "source": [
    "izraz = x*y + x - 3 + 2*x**2 - z*x**2 + x**3\n",
    "#Koeficjenit od x^2\n",
    "izraz.coeff(x, 2)"
   ]
  },
  {
   "cell_type": "code",
   "execution_count": 180,
   "metadata": {},
   "outputs": [
    {
     "data": {
      "image/png": "[encoded data removed]",
      "text/latex": [
       "$$\\frac{\\frac{3 x}{2} - 2}{x - 4} + \\frac{1}{x}$$"
      ],
      "text/plain": [
       "3⋅x        \n",
       "─── - 2    \n",
       " 2        1\n",
       "─────── + ─\n",
       " x - 4    x"
      ]
     },
     "execution_count": 180,
     "metadata": {},
     "output_type": "execute_result"
    }
   ],
   "source": [
    "izraz = 1 / x + (3*x/2 - 2) / (x - 4)\n",
    "izraz"
   ]
  },
  {
   "cell_type": "code",
   "execution_count": 181,
   "metadata": {},
   "outputs": [
    {
     "data": {
      "image/png": "[encoded data removed]",
      "text/latex": [
       "$$\\frac{x \\left(3 x - 4\\right) + 2 x - 8}{2 x \\left(x - 4\\right)}$$"
      ],
      "text/plain": [
       "x⋅(3⋅x - 4) + 2⋅x - 8\n",
       "─────────────────────\n",
       "     2⋅x⋅(x - 4)     "
      ]
     },
     "execution_count": 181,
     "metadata": {},
     "output_type": "execute_result"
    }
   ],
   "source": [
    "izraz.together()"
   ]
  },
  {
   "cell_type": "code",
   "execution_count": 182,
   "metadata": {},
   "outputs": [
    {
     "data": {
      "image/png": "[encoded data removed]",
      "text/latex": [
       "$$\\frac{3 x}{2 \\left(x - 4\\right)} - \\frac{2}{x - 4} + \\frac{1}{x}$$"
      ],
      "text/plain": [
       "   3⋅x        2     1\n",
       "───────── - ───── + ─\n",
       "2⋅(x - 4)   x - 4   x"
      ]
     },
     "execution_count": 182,
     "metadata": {},
     "output_type": "execute_result"
    }
   ],
   "source": [
    "izraz.expand()"
   ]
  },
  {
   "cell_type": "code",
   "execution_count": 183,
   "metadata": {},
   "outputs": [
    {
     "data": {
      "image/png": "[encoded data removed]",
      "text/latex": [
       "$$\\frac{\\frac{3 x^{2}}{2} - x - 4}{x \\left(x - 4\\right)}$$"
      ],
      "text/plain": [
       "   2        \n",
       "3⋅x         \n",
       "──── - x - 4\n",
       " 2          \n",
       "────────────\n",
       " x⋅(x - 4)  "
      ]
     },
     "execution_count": 183,
     "metadata": {},
     "output_type": "execute_result"
    }
   ],
   "source": [
    "izraz.simplify()"
   ]
  },
  {
   "cell_type": "code",
   "execution_count": 184,
   "metadata": {},
   "outputs": [
    {
     "data": {
      "image/png": "[encoded data removed]",
      "text/latex": [
       "$$\\operatorname{acos}{\\left (\\cos{\\left (7 \\right )} \\right )}$$"
      ],
      "text/plain": [
       "acos(cos(7))"
      ]
     },
     "execution_count": 184,
     "metadata": {},
     "output_type": "execute_result"
    }
   ],
   "source": [
    "sp.trigsimp(sp.acos(sp.cos(7)))"
   ]
  },
  {
   "cell_type": "code",
   "execution_count": 185,
   "metadata": {},
   "outputs": [
    {
     "data": {
      "image/png": "[encoded data removed]",
      "text/latex": [
       "$$7$$"
      ],
      "text/plain": [
       "7"
      ]
     },
     "execution_count": 185,
     "metadata": {},
     "output_type": "execute_result"
    }
   ],
   "source": [
    "sp.acos(sp.cos(7)).simplify() "
   ]
  },
  {
   "cell_type": "code",
   "execution_count": 186,
   "metadata": {},
   "outputs": [
    {
     "data": {
      "image/png": "[encoded data removed]",
      "text/latex": [
       "$$x^{a}$$"
      ],
      "text/plain": [
       " a\n",
       "x "
      ]
     },
     "execution_count": 186,
     "metadata": {},
     "output_type": "execute_result"
    }
   ],
   "source": [
    "ar, br, cr, xr, yr, zr = sp.symbols('a b c x y z', real=True)\n",
    "ap, bp, cp, xp, yp, zp = sp.symbols('a b c x y z', nonnegative=True)\n",
    "\n",
    "sp.powsimp(xp ** ar)"
   ]
  },
  {
   "cell_type": "code",
   "execution_count": 195,
   "metadata": {},
   "outputs": [
    {
     "data": {
      "image/png": "[encoded data removed]",
      "text/latex": [
       "$$x^{2} y^{2}$$"
      ],
      "text/plain": [
       " 2  2\n",
       "x ⋅y "
      ]
     },
     "execution_count": 195,
     "metadata": {},
     "output_type": "execute_result"
    }
   ],
   "source": [
    "p = sp.powsimp(x ** 2 * y ** 2)\n",
    "sp.expand_power_exp(x ** 2 * y ** 2) "
   ]
  },
  {
   "cell_type": "code",
   "execution_count": 191,
   "metadata": {},
   "outputs": [
    {
     "data": {
      "image/png": "[encoded data removed]",
      "text/latex": [
       "$$\\left(x y\\right)^{a}$$"
      ],
      "text/plain": [
       "     a\n",
       "(x⋅y) "
      ]
     },
     "execution_count": 191,
     "metadata": {},
     "output_type": "execute_result"
    }
   ],
   "source": [
    "sp.expand_power_exp((xp * yp) ** ar)"
   ]
  },
  {
   "cell_type": "code",
   "execution_count": 192,
   "metadata": {},
   "outputs": [
    {
     "data": {
      "image/png": "[encoded data removed]",
      "text/latex": [
       "$$x^{a} y^{a}$$"
      ],
      "text/plain": [
       " a  a\n",
       "x ⋅y "
      ]
     },
     "execution_count": 192,
     "metadata": {},
     "output_type": "execute_result"
    }
   ],
   "source": [
    "sp.expand_power_base((xp * yp) ** ar)"
   ]
  },
  {
   "cell_type": "code",
   "execution_count": 201,
   "metadata": {},
   "outputs": [
    {
     "data": {
      "text/latex": [
       "$$\\begin{cases} z! & \\text{for}\\: - \\Re{\\left(z\\right)} < 1 \\\\\\int_{0}^{\\infty} t^{z} e^{- t}\\, dt & \\text{otherwise} \\end{cases}$$"
      ],
      "text/plain": [
       "⎧    z!       for -re(z) < 1\n",
       "⎪                           \n",
       "⎪∞                          \n",
       "⎪⌠                          \n",
       "⎨⎮  z  -t                   \n",
       "⎪⎮ t ⋅ℯ   dt    otherwise   \n",
       "⎪⌡                          \n",
       "⎪0                          \n",
       "⎩                           "
      ]
     },
     "execution_count": 201,
     "metadata": {},
     "output_type": "execute_result"
    }
   ],
   "source": [
    "sp.Integral(t**z * sp.E**-t, (t, 0, sp.oo)).doit().rewrite(sp.factorial)\n"
   ]
  },
  {
   "cell_type": "code",
   "execution_count": 206,
   "metadata": {},
   "outputs": [
    {
     "data": {
      "image/png": "[encoded data removed]",
      "text/latex": [
       "$$\\frac{n}{2} \\left(n - 1\\right)$$"
      ],
      "text/plain": [
       "n⋅(n - 1)\n",
       "─────────\n",
       "    2    "
      ]
     },
     "execution_count": 206,
     "metadata": {},
     "output_type": "execute_result"
    }
   ],
   "source": [
    "from sympy.abc import n, k\n",
    "#Pojednostavljivanje binoma pomoću simplify i combsimp\n",
    "sp.simplify(sp.binomial(n, n-2))"
   ]
  },
  {
   "cell_type": "code",
   "execution_count": 207,
   "metadata": {},
   "outputs": [
    {
     "data": {
      "image/png": "[encoded data removed]",
      "text/latex": [
       "$$\\frac{n}{2} \\left(n - 1\\right)$$"
      ],
      "text/plain": [
       "n⋅(n - 1)\n",
       "─────────\n",
       "    2    "
      ]
     },
     "execution_count": 207,
     "metadata": {},
     "output_type": "execute_result"
    }
   ],
   "source": [
    "sp.combsimp(sp.binomial(n, n-2))"
   ]
  },
  {
   "cell_type": "code",
   "execution_count": 211,
   "metadata": {},
   "outputs": [
    {
     "name": "stdout",
     "output_type": "stream",
     "text": [
      "Wall time: 1e+03 µs\n"
     ]
    },
    {
     "data": {
      "image/png": "[encoded data removed]",
      "text/latex": [
       "$$\\frac{\\pi x}{\\sin{\\left (\\pi x \\right )}}$$"
      ],
      "text/plain": [
       "  π⋅x   \n",
       "────────\n",
       "sin(π⋅x)"
      ]
     },
     "execution_count": 211,
     "metadata": {},
     "output_type": "execute_result"
    }
   ],
   "source": [
    "%time\n",
    "sp.combsimp(sp.factorial(x) * sp.factorial(-x))"
   ]
  },
  {
   "cell_type": "code",
   "execution_count": 212,
   "metadata": {},
   "outputs": [
    {
     "name": "stdout",
     "output_type": "stream",
     "text": [
      "Wall time: 0 ns\n"
     ]
    },
    {
     "data": {
      "image/png": "[encoded data removed]",
      "text/latex": [
       "$$\\frac{\\pi x}{\\sin{\\left (\\pi x \\right )}}$$"
      ],
      "text/plain": [
       "  π⋅x   \n",
       "────────\n",
       "sin(π⋅x)"
      ]
     },
     "execution_count": 212,
     "metadata": {},
     "output_type": "execute_result"
    }
   ],
   "source": [
    "%time\n",
    "sp.simplify(sp.factorial(x) * sp.factorial(-x))"
   ]
  },
  {
   "cell_type": "code",
   "execution_count": 213,
   "metadata": {},
   "outputs": [
    {
     "data": {
      "image/png": "[encoded data removed]",
      "text/latex": [
       "$$x!$$"
      ],
      "text/plain": [
       "x!"
      ]
     },
     "execution_count": 213,
     "metadata": {},
     "output_type": "execute_result"
    }
   ],
   "source": [
    "sp.factorial(x)"
   ]
  },
  {
   "cell_type": "code",
   "execution_count": 214,
   "metadata": {},
   "outputs": [
    {
     "data": {
      "image/png": "[encoded data removed]",
      "text/latex": [
       "$$- \\frac{1}{x - \\frac{\\pi}{2}} - \\frac{\\pi}{6} + \\frac{1}{45} \\left(x - \\frac{\\pi}{2}\\right)^{3} + \\frac{2}{945} \\left(x - \\frac{\\pi}{2}\\right)^{5} + \\frac{1}{4725} \\left(x - \\frac{\\pi}{2}\\right)^{7} + \\frac{x}{3} + \\mathcal{O}\\left(\\left(x - \\frac{\\pi}{2}\\right)^{9}; x\\rightarrow \\frac{\\pi}{2}\\right)$$"
      ],
      "text/plain": [
       "                     3            5          7                         \n",
       "              ⎛    π⎞      ⎛    π⎞    ⎛    π⎞                          \n",
       "              ⎜x - ─⎟    2⋅⎜x - ─⎟    ⎜x - ─⎟         ⎛       9       ⎞\n",
       "    1     π   ⎝    2⎠      ⎝    2⎠    ⎝    2⎠    x    ⎜⎛    π⎞       π⎟\n",
       "- ───── - ─ + ──────── + ────────── + ──────── + ─ + O⎜⎜x - ─⎟ ; x → ─⎟\n",
       "      π   6      45         945         4725     3    ⎝⎝    2⎠       2⎠\n",
       "  x - ─                                                                \n",
       "      2                                                                "
      ]
     },
     "execution_count": 214,
     "metadata": {},
     "output_type": "execute_result"
    }
   ],
   "source": [
    "#Taylorov red u pi/2.do potencije 9\n",
    "sp.series(sp.tan(x), x, sp.pi / 2, 9)"
   ]
  },
  {
   "cell_type": "code",
   "execution_count": 215,
   "metadata": {},
   "outputs": [
    {
     "data": {
      "image/png": "[encoded data removed]",
      "text/latex": [
       "$$\\left\\{2 n \\pi + \\frac{\\pi}{2}\\; |\\; n \\in \\mathbb{Z}\\right\\} \\cup \\left\\{2 n \\pi + \\frac{3 \\pi}{2}\\; |\\; n \\in \\mathbb{Z}\\right\\}$$"
      ],
      "text/plain": [
       "⎧        π        ⎫   ⎧        3⋅π        ⎫\n",
       "⎨2⋅n⋅π + ─ | n ∊ ℤ⎬ ∪ ⎨2⋅n⋅π + ─── | n ∊ ℤ⎬\n",
       "⎩        2        ⎭   ⎩         2         ⎭"
      ]
     },
     "execution_count": 215,
     "metadata": {},
     "output_type": "execute_result"
    }
   ],
   "source": [
    "#nultočke\n",
    "sp.solveset(sp.cos(x), x)"
   ]
  },
  {
   "cell_type": "code",
   "execution_count": 217,
   "metadata": {},
   "outputs": [
    {
     "data": {
      "image/png": "[encoded data removed]",
      "text/latex": [
       "$$\\left\\{2 n \\pi\\; |\\; n \\in \\mathbb{Z}\\right\\} \\cup \\left\\{2 n \\pi + \\pi\\; |\\; n \\in \\mathbb{Z}\\right\\}$$"
      ],
      "text/plain": [
       "{2⋅n⋅π | n ∊ ℤ} ∪ {2⋅n⋅π + π | n ∊ ℤ}"
      ]
     },
     "execution_count": 217,
     "metadata": {},
     "output_type": "execute_result"
    }
   ],
   "source": [
    "sp.solveset(sp.sin(x), x)"
   ]
  },
  {
   "cell_type": "code",
   "execution_count": 218,
   "metadata": {},
   "outputs": [
    {
     "data": {
      "image/png": "[encoded data removed]",
      "text/latex": [
       "$$\\left\\{\\frac{1}{2} - \\frac{\\sqrt{3} i}{2}, \\frac{1}{2} + \\frac{\\sqrt{3} i}{2}\\right\\}$$"
      ],
      "text/plain": [
       "⎧1   √3⋅ⅈ  1   √3⋅ⅈ⎫\n",
       "⎨─ - ────, ─ + ────⎬\n",
       "⎩2    2    2    2  ⎭"
      ]
     },
     "execution_count": 218,
     "metadata": {},
     "output_type": "execute_result"
    }
   ],
   "source": [
    "# Isto kao sp.solve(sp.Eq(a,1)),samo ovo daje rješenja u skupu {}\n",
    "sp.solveset(x**2 - x + 1, x)"
   ]
  },
  {
   "cell_type": "code",
   "execution_count": 219,
   "metadata": {},
   "outputs": [
    {
     "data": {
      "image/png": "[encoded data removed]",
      "text/latex": [
       "$$\\emptyset$$"
      ],
      "text/plain": [
       "∅"
      ]
     },
     "execution_count": 219,
     "metadata": {},
     "output_type": "execute_result"
    }
   ],
   "source": [
    "sp.solveset(sp.Eq(x - y, x + y + 2), x)"
   ]
  },
  {
   "cell_type": "code",
   "execution_count": 220,
   "metadata": {},
   "outputs": [
    {
     "data": {
      "image/png": "[encoded data removed]",
      "text/latex": [
       "$$\\left\\{0\\right\\} \\cup \\left[\\pi, 2 \\pi\\right]$$"
      ],
      "text/plain": [
       "{0} ∪ [π, 2⋅π]"
      ]
     },
     "execution_count": 220,
     "metadata": {},
     "output_type": "execute_result"
    }
   ],
   "source": [
    "sp.solveset(sp.sin(x) <= 0, x, sp.S.Reals) #Krivo"
   ]
  },
  {
   "cell_type": "code",
   "execution_count": 221,
   "metadata": {},
   "outputs": [],
   "source": [
    "M = sp.Matrix([[2, 3], [4, 5], [7, 1]])"
   ]
  },
  {
   "cell_type": "code",
   "execution_count": 226,
   "metadata": {},
   "outputs": [
    {
     "data": {
      "text/latex": [
       "$$\\left ( \\left[\\begin{matrix}2 & 3\\\\4 & 5\\\\7 & 1\\end{matrix}\\right], \\quad \\left[\\begin{matrix}2\\\\4\\\\7\\end{matrix}\\right], \\quad \\left[\\begin{matrix}3\\\\5\\\\1\\end{matrix}\\right], \\quad \\left[\\begin{matrix}4 & 5\\end{matrix}\\right]\\right )$$"
      ],
      "text/plain": [
       "⎛⎡2  3⎤  ⎡2⎤  ⎡3⎤        ⎞\n",
       "⎜⎢    ⎥  ⎢ ⎥  ⎢ ⎥        ⎟\n",
       "⎜⎢4  5⎥, ⎢4⎥, ⎢5⎥, [4  5]⎟\n",
       "⎜⎢    ⎥  ⎢ ⎥  ⎢ ⎥        ⎟\n",
       "⎝⎣7  1⎦  ⎣7⎦  ⎣1⎦        ⎠"
      ]
     },
     "execution_count": 226,
     "metadata": {},
     "output_type": "execute_result"
    }
   ],
   "source": [
    "M,M.col(0),M.col(1),M.row(1)"
   ]
  },
  {
   "cell_type": "code",
   "execution_count": 227,
   "metadata": {},
   "outputs": [
    {
     "data": {
      "text/latex": [
       "$$\\left[\\begin{matrix}- \\frac{33 \\left(- \\sqrt{1378} + 52\\right)^{n}}{\\left(17 + \\sqrt{1378}\\right) \\left(\\frac{33}{- \\sqrt{1378} + 17} - \\frac{33}{17 + \\sqrt{1378}}\\right)} + \\frac{33 \\left(\\sqrt{1378} + 52\\right)^{n}}{\\left(- \\sqrt{1378} + 17\\right) \\left(\\frac{33}{- \\sqrt{1378} + 17} - \\frac{33}{17 + \\sqrt{1378}}\\right)} & - \\frac{1089 \\left(- \\sqrt{1378} + 52\\right)^{n}}{\\left(17 + \\sqrt{1378}\\right) \\left(- \\sqrt{1378} + 17\\right) \\left(\\frac{33}{- \\sqrt{1378} + 17} - \\frac{33}{17 + \\sqrt{1378}}\\right)} + \\frac{1089 \\left(\\sqrt{1378} + 52\\right)^{n}}{\\left(17 + \\sqrt{1378}\\right) \\left(- \\sqrt{1378} + 17\\right) \\left(\\frac{33}{- \\sqrt{1378} + 17} - \\frac{33}{17 + \\sqrt{1378}}\\right)}\\\\\\frac{\\left(- \\sqrt{1378} + 52\\right)^{n}}{\\frac{33}{- \\sqrt{1378} + 17} - \\frac{33}{17 + \\sqrt{1378}}} - \\frac{\\left(\\sqrt{1378} + 52\\right)^{n}}{\\frac{33}{- \\sqrt{1378} + 17} - \\frac{33}{17 + \\sqrt{1378}}} & \\frac{33 \\left(- \\sqrt{1378} + 52\\right)^{n}}{\\left(- \\sqrt{1378} + 17\\right) \\left(\\frac{33}{- \\sqrt{1378} + 17} - \\frac{33}{17 + \\sqrt{1378}}\\right)} - \\frac{33 \\left(\\sqrt{1378} + 52\\right)^{n}}{\\left(17 + \\sqrt{1378}\\right) \\left(\\frac{33}{- \\sqrt{1378} + 17} - \\frac{33}{17 + \\sqrt{1378}}\\right)}\\end{matrix}\\right]$$"
      ],
      "text/plain": [
       "⎡                             n                                         n     \n",
       "⎢             33⋅(-√1378 + 52)                           33⋅(√1378 + 52)      \n",
       "⎢- ─────────────────────────────────────── + ─────────────────────────────────\n",
       "⎢               ⎛     33           33    ⎞                 ⎛     33           \n",
       "⎢  (17 + √1378)⋅⎜─────────── - ──────────⎟   (-√1378 + 17)⋅⎜─────────── - ────\n",
       "⎢               ⎝-√1378 + 17   17 + √1378⎠                 ⎝-√1378 + 17   17 +\n",
       "⎢                                                                             \n",
       "⎢                                  n                         n                \n",
       "⎢                     (-√1378 + 52)              (√1378 + 52)                 \n",
       "⎢                ──────────────────────── - ────────────────────────          \n",
       "⎢                     33           33            33           33              \n",
       "⎢                ─────────── - ──────────   ─────────── - ──────────          \n",
       "⎣                -√1378 + 17   17 + √1378   -√1378 + 17   17 + √1378          \n",
       "\n",
       "                                              n                               \n",
       "                            1089⋅(-√1378 + 52)                                \n",
       "───────  - ───────────────────────────────────────────────────── + ───────────\n",
       "33    ⎞                               ⎛     33           33    ⎞              \n",
       "──────⎟    (17 + √1378)⋅(-√1378 + 17)⋅⎜─────────── - ──────────⎟   (17 + √1378\n",
       " √1378⎠                               ⎝-√1378 + 17   17 + √1378⎠              \n",
       "                                                                              \n",
       "                                                  n                           \n",
       "                                  33⋅(-√1378 + 52)                            \n",
       "                       ──────────────────────────────────────── - ────────────\n",
       "                                     ⎛     33           33    ⎞               \n",
       "                       (-√1378 + 17)⋅⎜─────────── - ──────────⎟   (17 + √1378)\n",
       "                                     ⎝-√1378 + 17   17 + √1378⎠               \n",
       "\n",
       "                        n                 ⎤\n",
       "       1089⋅(√1378 + 52)                  ⎥\n",
       "──────────────────────────────────────────⎥\n",
       "                ⎛     33           33    ⎞⎥\n",
       ")⋅(-√1378 + 17)⋅⎜─────────── - ──────────⎟⎥\n",
       "                ⎝-√1378 + 17   17 + √1378⎠⎥\n",
       "                                          ⎥\n",
       "               n                          ⎥\n",
       "33⋅(√1378 + 52)                           ⎥\n",
       "───────────────────────────               ⎥\n",
       " ⎛     33           33    ⎞               ⎥\n",
       "⋅⎜─────────── - ──────────⎟               ⎥\n",
       " ⎝-√1378 + 17   17 + √1378⎠               ⎦"
      ]
     },
     "execution_count": 227,
     "metadata": {},
     "output_type": "execute_result"
    }
   ],
   "source": [
    "(M.T * M) ** n"
   ]
  },
  {
   "cell_type": "code",
   "execution_count": 230,
   "metadata": {},
   "outputs": [
    {
     "data": {
      "text/latex": [
       "$$\\left[\\begin{matrix}7573878 & 13938678 & 15022332\\\\13938678 & 25653446 & 27658228\\\\15022332 & 27658228 & 29907020\\end{matrix}\\right]$$"
      ],
      "text/plain": [
       "⎡7573878   13938678  15022332⎤\n",
       "⎢                            ⎥\n",
       "⎢13938678  25653446  27658228⎥\n",
       "⎢                            ⎥\n",
       "⎣15022332  27658228  29907020⎦"
      ]
     },
     "execution_count": 230,
     "metadata": {},
     "output_type": "execute_result"
    }
   ],
   "source": [
    "n = sp.Symbol('n', positive=True)\n",
    "sp.simplify(((M * M.T) ** n).subs({n: 4}).expand())"
   ]
  },
  {
   "cell_type": "code",
   "execution_count": 231,
   "metadata": {},
   "outputs": [
    {
     "data": {
      "text/latex": [
       "$$\\left[\\begin{matrix}1 & 0 & 1 & 3\\\\2 & 3 & 4 & 7\\\\-1 & -3 & -3 & -4\\end{matrix}\\right]$$"
      ],
      "text/plain": [
       "⎡1   0   1   3 ⎤\n",
       "⎢              ⎥\n",
       "⎢2   3   4   7 ⎥\n",
       "⎢              ⎥\n",
       "⎣-1  -3  -3  -4⎦"
      ]
     },
     "execution_count": 231,
     "metadata": {},
     "output_type": "execute_result"
    }
   ],
   "source": [
    "sp.Matrix([[1, 0, 1, 3], [2, 3, 4, 7], [-1, -3, -3, -4]])"
   ]
  },
  {
   "cell_type": "code",
   "execution_count": 232,
   "metadata": {},
   "outputs": [
    {
     "data": {
      "text/latex": [
       "$$\\left ( \\left[\\begin{matrix}1 & 0 & 1 & 3\\\\0 & 1 & \\frac{2}{3} & \\frac{1}{3}\\\\0 & 0 & 0 & 0\\end{matrix}\\right], \\quad \\left ( 0, \\quad 1\\right )\\right )$$"
      ],
      "text/plain": [
       "⎛⎡1  0   1    3 ⎤        ⎞\n",
       "⎜⎢              ⎥        ⎟\n",
       "⎜⎢0  1  2/3  1/3⎥, (0, 1)⎟\n",
       "⎜⎢              ⎥        ⎟\n",
       "⎝⎣0  0   0    0 ⎦        ⎠"
      ]
     },
     "execution_count": 232,
     "metadata": {},
     "output_type": "execute_result"
    }
   ],
   "source": [
    "sp.Matrix([[1, 0, 1, 3], [2, 3, 4, 7], [-1, -3, -3, -4]]).rref()"
   ]
  },
  {
   "cell_type": "code",
   "execution_count": 233,
   "metadata": {},
   "outputs": [
    {
     "name": "stdout",
     "output_type": "stream",
     "text": [
      "Help on function rref in module sympy.matrices.matrices:\n",
      "\n",
      "rref(self, iszerofunc=<function _iszero at 0x000000000E97D620>, simplify=False, pivots=True, normalize_last=True)\n",
      "    Return reduced row-echelon form of matrix and indices of pivot vars.\n",
      "    \n",
      "    Parameters\n",
      "    ==========\n",
      "    \n",
      "    iszerofunc : Function\n",
      "        A function used for detecting whether an element can\n",
      "        act as a pivot.  `lambda x: x.is_zero` is used by default.\n",
      "    simplify : Function\n",
      "        A function used to simplify elements when looking for a pivot.\n",
      "        By default SymPy's `simplify`is used.\n",
      "    pivots : True or False\n",
      "        If `True`, a tuple containing the row-reduced matrix and a tuple\n",
      "        of pivot columns is returned.  If `False` just the row-reduced\n",
      "        matrix is returned.\n",
      "    normalize_last : True or False\n",
      "        If `True`, no pivots are normalized to `1` until after all entries\n",
      "        above and below each pivot are zeroed.  This means the row\n",
      "        reduction algorithm is fraction free until the very last step.\n",
      "        If `False`, the naive row reduction procedure is used where\n",
      "        each pivot is normalized to be `1` before row operations are\n",
      "        used to zero above and below the pivot.\n",
      "    \n",
      "    Notes\n",
      "    =====\n",
      "    \n",
      "    The default value of `normalize_last=True` can provide significant\n",
      "    speedup to row reduction, especially on matrices with symbols.  However,\n",
      "    if you depend on the form row reduction algorithm leaves entries\n",
      "    of the matrix, set `noramlize_last=False`\n",
      "    \n",
      "    \n",
      "    Examples\n",
      "    ========\n",
      "    \n",
      "    >>> from sympy import Matrix\n",
      "    >>> from sympy.abc import x\n",
      "    >>> m = Matrix([[1, 2], [x, 1 - 1/x]])\n",
      "    >>> m.rref()\n",
      "    (Matrix([\n",
      "    [1, 0],\n",
      "    [0, 1]]), (0, 1))\n",
      "    >>> rref_matrix, rref_pivots = m.rref()\n",
      "    >>> rref_matrix\n",
      "    Matrix([\n",
      "    [1, 0],\n",
      "    [0, 1]])\n",
      "    >>> rref_pivots\n",
      "    (0, 1)\n",
      "\n"
     ]
    }
   ],
   "source": [
    "help(sp.Matrix.rref)"
   ]
  },
  {
   "cell_type": "code",
   "execution_count": 234,
   "metadata": {},
   "outputs": [
    {
     "name": "stdout",
     "output_type": "stream",
     "text": [
      "Help on built-in function where in module numpy.core.multiarray:\n",
      "\n",
      "where(...)\n",
      "    where(condition, [x, y])\n",
      "    \n",
      "    Return elements, either from `x` or `y`, depending on `condition`.\n",
      "    \n",
      "    If only `condition` is given, return ``condition.nonzero()``.\n",
      "    \n",
      "    Parameters\n",
      "    ----------\n",
      "    condition : array_like, bool\n",
      "        When True, yield `x`, otherwise yield `y`.\n",
      "    x, y : array_like, optional\n",
      "        Values from which to choose. `x`, `y` and `condition` need to be\n",
      "        broadcastable to some shape.\n",
      "    \n",
      "    Returns\n",
      "    -------\n",
      "    out : ndarray or tuple of ndarrays\n",
      "        If both `x` and `y` are specified, the output array contains\n",
      "        elements of `x` where `condition` is True, and elements from\n",
      "        `y` elsewhere.\n",
      "    \n",
      "        If only `condition` is given, return the tuple\n",
      "        ``condition.nonzero()``, the indices where `condition` is True.\n",
      "    \n",
      "    See Also\n",
      "    --------\n",
      "    nonzero, choose\n",
      "    \n",
      "    Notes\n",
      "    -----\n",
      "    If `x` and `y` are given and input arrays are 1-D, `where` is\n",
      "    equivalent to::\n",
      "    \n",
      "        [xv if c else yv for (c,xv,yv) in zip(condition,x,y)]\n",
      "    \n",
      "    Examples\n",
      "    --------\n",
      "    >>> np.where([[True, False], [True, True]],\n",
      "    ...          [[1, 2], [3, 4]],\n",
      "    ...          [[9, 8], [7, 6]])\n",
      "    array([[1, 8],\n",
      "           [3, 4]])\n",
      "    \n",
      "    >>> np.where([[0, 1], [1, 0]])\n",
      "    (array([0, 1]), array([1, 0]))\n",
      "    \n",
      "    >>> x = np.arange(9.).reshape(3, 3)\n",
      "    >>> np.where( x > 5 )\n",
      "    (array([2, 2, 2]), array([0, 1, 2]))\n",
      "    >>> x[np.where( x > 3.0 )]               # Note: result is 1D.\n",
      "    array([ 4.,  5.,  6.,  7.,  8.])\n",
      "    >>> np.where(x < 5, x, -1)               # Note: broadcasting.\n",
      "    array([[ 0.,  1.,  2.],\n",
      "           [ 3.,  4., -1.],\n",
      "           [-1., -1., -1.]])\n",
      "    \n",
      "    Find the indices of elements of `x` that are in `goodvalues`.\n",
      "    \n",
      "    >>> goodvalues = [3, 4, 7]\n",
      "    >>> ix = np.isin(x, goodvalues)\n",
      "    >>> ix\n",
      "    array([[False, False, False],\n",
      "           [ True,  True, False],\n",
      "           [False,  True, False]])\n",
      "    >>> np.where(ix)\n",
      "    (array([1, 1, 2]), array([0, 1, 1]))\n",
      "\n"
     ]
    }
   ],
   "source": [
    "help(np.where)"
   ]
  },
  {
   "cell_type": "code",
   "execution_count": null,
   "metadata": {},
   "outputs": [],
   "source": []
  }
 ],
 "metadata": {
  "kernelspec": {
   "display_name": "Python 3",
   "language": "python",
   "name": "python3"
  },
  "language_info": {
   "codemirror_mode": {
    "name": "ipython",
    "version": 3
   },
   "file_extension": ".py",
   "mimetype": "text/x-python",
   "name": "python",
   "nbconvert_exporter": "python",
   "pygments_lexer": "ipython3",
   "version": "3.6.4"
  }
 },
 "nbformat": 4,
 "nbformat_minor": 2
}
