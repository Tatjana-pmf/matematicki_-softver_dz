{
 "cells": [
  {
   "cell_type": "code",
   "execution_count": 1,
   "metadata": {},
   "outputs": [],
   "source": [
    "#1. Pomoću for petlji napišite ekvivalent donjeg koda\n",
    "q = [r**2 for r in [10**i for i in range(5)]]"
   ]
  },
  {
   "cell_type": "code",
   "execution_count": 2,
   "metadata": {},
   "outputs": [
    {
     "data": {
      "text/plain": [
       "[1, 100, 10000, 1000000, 100000000]"
      ]
     },
     "execution_count": 2,
     "metadata": {},
     "output_type": "execute_result"
    }
   ],
   "source": [
    "q"
   ]
  },
  {
   "cell_type": "code",
   "execution_count": 3,
   "metadata": {},
   "outputs": [
    {
     "name": "stdout",
     "output_type": "stream",
     "text": [
      "[1, 100, 10000, 1000000, 100000000]\n"
     ]
    }
   ],
   "source": [
    "rr = []\n",
    "for i in range(5):\n",
    "    rr.append(10**i)\n",
    "r = []\n",
    "for q in rr:\n",
    "    r.append(q**2)\n",
    "print(r)\n",
    "    "
   ]
  },
  {
   "cell_type": "code",
   "execution_count": 4,
   "metadata": {},
   "outputs": [
    {
     "data": {
      "text/plain": [
       "0.1"
      ]
     },
     "execution_count": 4,
     "metadata": {},
     "output_type": "execute_result"
    }
   ],
   "source": [
    "#2. Napišite funkciju koja za ulaz prima broj N. Funkcija treba kreirati slučajan Numpy niz \n",
    "#duljine N s uniformnom distribucijom, zatim treba naći broj M brojeva u nizu koji leže \n",
    "#između 0.5 i 0.6 te treba vratiti broj M/N. Učinite funkciju interaktivnom.\n",
    "import numpy as np\n",
    "def f(N):\n",
    "    niz = np.random.uniform(0,1,N)\n",
    "    niz1 = niz[(niz < 0.6) & (0.5 < niz)]\n",
    "    M = len(niz1)\n",
    "    return M/N\n",
    "\n",
    "f(50)"
   ]
  },
  {
   "cell_type": "code",
   "execution_count": 115,
   "metadata": {},
   "outputs": [],
   "source": [
    "import ipywidgets\n",
    "from ipywidgets  import interact\n",
    "import networkx as nx\n",
    "import matplotlib.pyplot as plt\n",
    "%matplotlib inline\n",
    "slajder = ipywidgets.IntSlider(min=1, max=100, step=1,value=50)"
   ]
  },
  {
   "cell_type": "code",
   "execution_count": null,
   "metadata": {},
   "outputs": [],
   "source": [
    "help()"
   ]
  },
  {
   "cell_type": "code",
   "execution_count": 6,
   "metadata": {},
   "outputs": [
    {
     "data": {
      "application/vnd.jupyter.widget-view+json": {
       "model_id": "bf72b7ea8b214c59aa3426358f85d56b",
       "version_major": 2,
       "version_minor": 0
      },
      "text/html": [
       "<p>Failed to display Jupyter Widget of type <code>interactive</code>.</p>\n",
       "<p>\n",
       "  If you're reading this message in the Jupyter Notebook or JupyterLab Notebook, it may mean\n",
       "  that the widgets JavaScript is still loading. If this message persists, it\n",
       "  likely means that the widgets JavaScript library is either not installed or\n",
       "  not enabled. See the <a href=\"https://ipywidgets.readthedocs.io/en/stable/user_install.html\">Jupyter\n",
       "  Widgets Documentation</a> for setup instructions.\n",
       "</p>\n",
       "<p>\n",
       "  If you're reading this message in another frontend (for example, a static\n",
       "  rendering on GitHub or <a href=\"https://nbviewer.jupyter.org/\">NBViewer</a>),\n",
       "  it may mean that your frontend doesn't currently support widgets.\n",
       "</p>\n"
      ],
      "text/plain": [
       "interactive(children=(IntSlider(value=10, description='N', min=1), Output()), _dom_classes=('widget-interact',))"
      ]
     },
     "metadata": {},
     "output_type": "display_data"
    }
   ],
   "source": [
    "interact(f, N=slajder);"
   ]
  },
  {
   "cell_type": "code",
   "execution_count": 7,
   "metadata": {},
   "outputs": [],
   "source": [
    "#4.zad\n",
    "mu = 1\n",
    "def v(x,mu):\n",
    "    return (1-np.e**(x/mu))/(1-np.e**(1/mu))\n",
    "z = np.linspace(0,1,10000)\n"
   ]
  },
  {
   "cell_type": "code",
   "execution_count": 8,
   "metadata": {},
   "outputs": [
    {
     "data": {
      "image/png": "[encoded data removed]",
      "text/plain": [
       "<matplotlib.figure.Figure at 0x93a1b70>"
      ]
     },
     "metadata": {},
     "output_type": "display_data"
    }
   ],
   "source": [
    "import matplotlib.pyplot as plt\n",
    "fig1,ax1 = plt.subplots()\n",
    "for m in [1,0.01]:\n",
    "    ax1.plot(z,v(z,m),label=f'$\\mu={m}$')\n",
    "ax1.plot([0, 1, 1], [0, 0, 1], label='$\\mu=0.001$')\n",
    "plt.legend()\n",
    "plt.show()\n"
   ]
  },
  {
   "cell_type": "code",
   "execution_count": 9,
   "metadata": {},
   "outputs": [],
   "source": [
    "\n",
    "#plt.legend()\n",
    "plt.show()"
   ]
  },
  {
   "cell_type": "code",
   "execution_count": 10,
   "metadata": {},
   "outputs": [
    {
     "data": {
      "image/png": "[encoded data removed]",
      "text/latex": [
       "$$\\log{\\left (a^{b} x^{y} \\right )} = b \\log{\\left (a \\right )} + y \\log{\\left (x \\right )}$$"
      ],
      "text/plain": [
       "   ⎛ b  y⎞                      \n",
       "log⎝a ⋅x ⎠ = b⋅log(a) + y⋅log(x)"
      ]
     },
     "execution_count": 10,
     "metadata": {},
     "output_type": "execute_result"
    }
   ],
   "source": [
    "#5.Pomoću Sympy-ja, izraz log(x**y*a**b) pojednostavite do izraza b*log(a) + y*log(x\n",
    "import sympy as sp\n",
    "sp.init_printing()\n",
    "x,a = sp.symbols('x a',positive=True)\n",
    "y,b = sp.symbols('y b',real=True)\n",
    "izraz = sp.log(x**y*a**b)\n",
    "sp.Eq(izraz, sp.expand_log(izraz), evaluate=True)"
   ]
  },
  {
   "cell_type": "code",
   "execution_count": 11,
   "metadata": {},
   "outputs": [
    {
     "data": {
      "text/plain": [
       "(array([[ True, False, False, ...,  True,  True,  True],\n",
       "        [False,  True,  True, ...,  True,  True, False],\n",
       "        [False,  True,  True, ..., False,  True,  True],\n",
       "        ...,\n",
       "        [False,  True, False, ...,  True,  True, False],\n",
       "        [False,  True,  True, ...,  True,  True, False],\n",
       "        [ True,  True,  True, ..., False,  True, False]]),\n",
       " (1000, 100000),\n",
       " (1000, 100000))"
      ]
     },
     "execution_count": 11,
     "metadata": {},
     "output_type": "execute_result"
    }
   ],
   "source": [
    "#Čačić 2\n",
    "import numpy as np\n",
    "broj_bacanja = 1000\n",
    "broj_pokusa = 100_000\n",
    "vjerojatnost_glave = .55\n",
    "\n",
    "pokusi = np.random.uniform(size=(broj_bacanja, broj_pokusa))\n",
    "glave = pokusi < vjerojatnost_glave\n",
    "glave,pokusi.shape,glave.shape"
   ]
  },
  {
   "cell_type": "code",
   "execution_count": 35,
   "metadata": {},
   "outputs": [
    {
     "data": {
      "image/png": "[encoded data removed]",
      "text/latex": [
       "$$0.99917$$"
      ],
      "text/plain": [
       "0.99917"
      ]
     },
     "execution_count": 35,
     "metadata": {},
     "output_type": "execute_result"
    }
   ],
   "source": [
    "broj_glava = glave.sum(axis=0)\n",
    "broj_pisama = broj_bacanja - broj_glava\n",
    "(broj_glava > broj_pisama).mean()"
   ]
  },
  {
   "cell_type": "code",
   "execution_count": 13,
   "metadata": {},
   "outputs": [
    {
     "data": {
      "text/plain": [
       "(99917, (1000, 100000))"
      ]
     },
     "execution_count": 13,
     "metadata": {},
     "output_type": "execute_result"
    }
   ],
   "source": [
    "sum(broj_glava > broj_pisama), pokusi.shape"
   ]
  },
  {
   "cell_type": "code",
   "execution_count": 14,
   "metadata": {},
   "outputs": [
    {
     "data": {
      "image/png": "[encoded data removed]",
      "text/latex": [
       "$$1000$$"
      ],
      "text/plain": [
       "1000"
      ]
     },
     "execution_count": 14,
     "metadata": {},
     "output_type": "execute_result"
    }
   ],
   "source": [
    "len(glave)"
   ]
  },
  {
   "cell_type": "code",
   "execution_count": 15,
   "metadata": {},
   "outputs": [],
   "source": [
    "import ipywidgets\n",
    "from ipywidgets  import interact\n",
    "%matplotlib inline\n",
    "pokusi = np.random.uniform(size=(broj_bacanja, broj_pokusa))\n"
   ]
  },
  {
   "cell_type": "code",
   "execution_count": 116,
   "metadata": {},
   "outputs": [
    {
     "data": {
      "application/vnd.jupyter.widget-view+json": {
       "model_id": "6806e6c279694f0a9898dd4aeb8e619d",
       "version_major": 2,
       "version_minor": 0
      },
      "text/html": [
       "<p>Failed to display Jupyter Widget of type <code>interactive</code>.</p>\n",
       "<p>\n",
       "  If you're reading this message in the Jupyter Notebook or JupyterLab Notebook, it may mean\n",
       "  that the widgets JavaScript is still loading. If this message persists, it\n",
       "  likely means that the widgets JavaScript library is either not installed or\n",
       "  not enabled. See the <a href=\"https://ipywidgets.readthedocs.io/en/stable/user_install.html\">Jupyter\n",
       "  Widgets Documentation</a> for setup instructions.\n",
       "</p>\n",
       "<p>\n",
       "  If you're reading this message in another frontend (for example, a static\n",
       "  rendering on GitHub or <a href=\"https://nbviewer.jupyter.org/\">NBViewer</a>),\n",
       "  it may mean that your frontend doesn't currently support widgets.\n",
       "</p>\n"
      ],
      "text/plain": [
       "interactive(children=(FloatSlider(value=0.5, description='p', max=1.0, step=0.001), Output()), _dom_classes=('widget-interact',))"
      ]
     },
     "metadata": {},
     "output_type": "display_data"
    },
    {
     "data": {
      "text/plain": [
       "<function __main__.int3>"
      ]
     },
     "execution_count": 116,
     "metadata": {},
     "output_type": "execute_result"
    }
   ],
   "source": [
    "\n",
    "def int3(p):\n",
    "    glave = pokusi < p\n",
    "    broj_glava = glave.sum(axis=0)\n",
    "    broj_pisama = broj_bacanja - broj_glava\n",
    "    r = (broj_glava > broj_pisama).mean()\n",
    "    return r\n",
    "slajder = ipywidgets.FloatSlider(min=0., max=1., step=0.001,value = 0.5)\n",
    "interact(int3, p=slajder)"
   ]
  },
  {
   "cell_type": "code",
   "execution_count": 28,
   "metadata": {},
   "outputs": [
    {
     "data": {
      "application/vnd.jupyter.widget-view+json": {
       "model_id": "b51ca1659c914ce5b17ed5256f01ad26",
       "version_major": 2,
       "version_minor": 0
      },
      "text/html": [
       "<p>Failed to display Jupyter Widget of type <code>interactive</code>.</p>\n",
       "<p>\n",
       "  If you're reading this message in the Jupyter Notebook or JupyterLab Notebook, it may mean\n",
       "  that the widgets JavaScript is still loading. If this message persists, it\n",
       "  likely means that the widgets JavaScript library is either not installed or\n",
       "  not enabled. See the <a href=\"https://ipywidgets.readthedocs.io/en/stable/user_install.html\">Jupyter\n",
       "  Widgets Documentation</a> for setup instructions.\n",
       "</p>\n",
       "<p>\n",
       "  If you're reading this message in another frontend (for example, a static\n",
       "  rendering on GitHub or <a href=\"https://nbviewer.jupyter.org/\">NBViewer</a>),\n",
       "  it may mean that your frontend doesn't currently support widgets.\n",
       "</p>\n"
      ],
      "text/plain": [
       "interactive(children=(FloatSlider(value=0.0, description='p', max=1.0, step=1e-07), Output()), _dom_classes=('widget-interact',))"
      ]
     },
     "metadata": {},
     "output_type": "display_data"
    },
    {
     "data": {
      "text/plain": [
       "<function __main__.int3>"
      ]
     },
     "execution_count": 28,
     "metadata": {},
     "output_type": "execute_result"
    }
   ],
   "source": [
    "interact(int3,p = (0,1,1e-7))"
   ]
  },
  {
   "cell_type": "code",
   "execution_count": 55,
   "metadata": {},
   "outputs": [
    {
     "data": {
      "image/png": "[encoded data removed]",
      "text/plain": [
       "<matplotlib.figure.Figure at 0x11ed56a0>"
      ]
     },
     "metadata": {},
     "output_type": "display_data"
    }
   ],
   "source": [
    "pr = np.arange(0.0, 1.0, 0.01)\n",
    "%matplotlib inline\n",
    "def br_pisama(p):\n",
    "    glave = pokusi < p\n",
    "    broj_glava = glave.sum(axis=0)\n",
    "    broj_pisama = broj_bacanja - broj_glava\n",
    "    return sum(broj_glava > broj_pisama)\n",
    "fig2 = plt.figure(figsize=(10,5))\n",
    "ax2 = fig2.add_subplot(111)\n",
    "for i in pr:\n",
    "    ax2.scatter(i, br_pisama(i))\n",
    "plt.show()"
   ]
  },
  {
   "cell_type": "code",
   "execution_count": 78,
   "metadata": {},
   "outputs": [
    {
     "data": {
      "text/plain": [
       "<function matplotlib.pyplot.show>"
      ]
     },
     "execution_count": 78,
     "metadata": {},
     "output_type": "execute_result"
    },
    {
     "data": {
      "image/png": "[encoded data removed]",
      "text/plain": [
       "<matplotlib.figure.Figure at 0x12a0ee10>"
      ]
     },
     "metadata": {},
     "output_type": "display_data"
    }
   ],
   "source": [
    "fig3 = plt.figure(figsize=(10,5))\n",
    "ax3 = fig3.add_subplot(111)\n",
    "\n",
    "br = np.vectorize(br_pisama)\n",
    "plt.plot(pr,br(pr))\n",
    "plt.show"
   ]
  },
  {
   "cell_type": "code",
   "execution_count": 79,
   "metadata": {},
   "outputs": [
    {
     "data": {
      "text/plain": [
       "<function matplotlib.pyplot.show>"
      ]
     },
     "execution_count": 79,
     "metadata": {},
     "output_type": "execute_result"
    },
    {
     "data": {
      "image/png": "[encoded data removed]",
      "text/plain": [
       "<matplotlib.figure.Figure at 0x12a4a550>"
      ]
     },
     "metadata": {},
     "output_type": "display_data"
    }
   ],
   "source": [
    "plt.plot(pr,br(pr))\n",
    "plt.show"
   ]
  },
  {
   "cell_type": "code",
   "execution_count": 59,
   "metadata": {},
   "outputs": [
    {
     "name": "stderr",
     "output_type": "stream",
     "text": [
      "UsageError: %%file is a cell magic, but the cell body is empty.\n"
     ]
    }
   ],
   "source": [
    "%%file pdzad.csv"
   ]
  },
  {
   "cell_type": "code",
   "execution_count": 66,
   "metadata": {},
   "outputs": [],
   "source": [
    "import pandas as pd\n",
    "header = 'datum prvi drugi spol boja'.split()\n",
    "df = pd.read_csv('pdzad.csv', delimiter='\\t', names=header,\n",
    "                 index_col=0, parse_dates=True)"
   ]
  },
  {
   "cell_type": "code",
   "execution_count": 61,
   "metadata": {},
   "outputs": [
    {
     "data": {
      "text/html": [
       "<div>\n",
       "<style scoped>\n",
       "    .dataframe tbody tr th:only-of-type {\n",
       "        vertical-align: middle;\n",
       "    }\n",
       "\n",
       "    .dataframe tbody tr th {\n",
       "        vertical-align: top;\n",
       "    }\n",
       "\n",
       "    .dataframe thead th {\n",
       "        text-align: right;\n",
       "    }\n",
       "</style>\n",
       "<table border=\"1\" class=\"dataframe\">\n",
       "  <thead>\n",
       "    <tr style=\"text-align: right;\">\n",
       "      <th></th>\n",
       "      <th>prvi</th>\n",
       "      <th>drugi</th>\n",
       "      <th>spol</th>\n",
       "      <th>boja</th>\n",
       "    </tr>\n",
       "    <tr>\n",
       "      <th>datum</th>\n",
       "      <th></th>\n",
       "      <th></th>\n",
       "      <th></th>\n",
       "      <th></th>\n",
       "    </tr>\n",
       "  </thead>\n",
       "  <tbody>\n",
       "    <tr>\n",
       "      <th>2016-07-17</th>\n",
       "      <td>450</td>\n",
       "      <td>628.578622</td>\n",
       "      <td>girl</td>\n",
       "      <td>red</td>\n",
       "    </tr>\n",
       "    <tr>\n",
       "      <th>2014-02-17</th>\n",
       "      <td>418</td>\n",
       "      <td>226.950670</td>\n",
       "      <td>boy</td>\n",
       "      <td>red</td>\n",
       "    </tr>\n",
       "    <tr>\n",
       "      <th>2016-03-03</th>\n",
       "      <td>418</td>\n",
       "      <td>208.042709</td>\n",
       "      <td>girl</td>\n",
       "      <td>red</td>\n",
       "    </tr>\n",
       "    <tr>\n",
       "      <th>2014-04-28</th>\n",
       "      <td>26</td>\n",
       "      <td>915.238500</td>\n",
       "      <td>boy</td>\n",
       "      <td>blue</td>\n",
       "    </tr>\n",
       "    <tr>\n",
       "      <th>2014-09-07</th>\n",
       "      <td>182</td>\n",
       "      <td>744.946901</td>\n",
       "      <td>boy</td>\n",
       "      <td>green</td>\n",
       "    </tr>\n",
       "    <tr>\n",
       "      <th>2014-07-21</th>\n",
       "      <td>345</td>\n",
       "      <td>542.665316</td>\n",
       "      <td>girl</td>\n",
       "      <td>blue</td>\n",
       "    </tr>\n",
       "    <tr>\n",
       "      <th>2014-01-21</th>\n",
       "      <td>807</td>\n",
       "      <td>396.394572</td>\n",
       "      <td>boy</td>\n",
       "      <td>yellow</td>\n",
       "    </tr>\n",
       "    <tr>\n",
       "      <th>2016-01-23</th>\n",
       "      <td>36</td>\n",
       "      <td>792.745992</td>\n",
       "      <td>boy</td>\n",
       "      <td>blue</td>\n",
       "    </tr>\n",
       "    <tr>\n",
       "      <th>2015-07-07</th>\n",
       "      <td>44</td>\n",
       "      <td>616.078044</td>\n",
       "      <td>girl</td>\n",
       "      <td>blue</td>\n",
       "    </tr>\n",
       "    <tr>\n",
       "      <th>2014-08-18</th>\n",
       "      <td>390</td>\n",
       "      <td>527.061301</td>\n",
       "      <td>boy</td>\n",
       "      <td>yellow</td>\n",
       "    </tr>\n",
       "    <tr>\n",
       "      <th>2014-04-02</th>\n",
       "      <td>456</td>\n",
       "      <td>4.716575</td>\n",
       "      <td>girl</td>\n",
       "      <td>green</td>\n",
       "    </tr>\n",
       "    <tr>\n",
       "      <th>2015-12-20</th>\n",
       "      <td>584</td>\n",
       "      <td>577.939367</td>\n",
       "      <td>boy</td>\n",
       "      <td>blue</td>\n",
       "    </tr>\n",
       "    <tr>\n",
       "      <th>2015-03-18</th>\n",
       "      <td>718</td>\n",
       "      <td>919.344036</td>\n",
       "      <td>girl</td>\n",
       "      <td>yellow</td>\n",
       "    </tr>\n",
       "    <tr>\n",
       "      <th>2015-04-26</th>\n",
       "      <td>792</td>\n",
       "      <td>623.799887</td>\n",
       "      <td>boy</td>\n",
       "      <td>red</td>\n",
       "    </tr>\n",
       "    <tr>\n",
       "      <th>2015-08-23</th>\n",
       "      <td>938</td>\n",
       "      <td>927.630485</td>\n",
       "      <td>boy</td>\n",
       "      <td>yellow</td>\n",
       "    </tr>\n",
       "    <tr>\n",
       "      <th>2015-09-27</th>\n",
       "      <td>14</td>\n",
       "      <td>40.380074</td>\n",
       "      <td>girl</td>\n",
       "      <td>blue</td>\n",
       "    </tr>\n",
       "    <tr>\n",
       "      <th>2014-07-15</th>\n",
       "      <td>26</td>\n",
       "      <td>451.519075</td>\n",
       "      <td>girl</td>\n",
       "      <td>blue</td>\n",
       "    </tr>\n",
       "    <tr>\n",
       "      <th>2016-05-15</th>\n",
       "      <td>116</td>\n",
       "      <td>969.555910</td>\n",
       "      <td>boy</td>\n",
       "      <td>red</td>\n",
       "    </tr>\n",
       "    <tr>\n",
       "      <th>2015-04-15</th>\n",
       "      <td>209</td>\n",
       "      <td>827.094101</td>\n",
       "      <td>boy</td>\n",
       "      <td>yellow</td>\n",
       "    </tr>\n",
       "    <tr>\n",
       "      <th>2014-03-03</th>\n",
       "      <td>202</td>\n",
       "      <td>811.039542</td>\n",
       "      <td>boy</td>\n",
       "      <td>red</td>\n",
       "    </tr>\n",
       "    <tr>\n",
       "      <th>2015-01-07</th>\n",
       "      <td>254</td>\n",
       "      <td>512.529009</td>\n",
       "      <td>girl</td>\n",
       "      <td>blue</td>\n",
       "    </tr>\n",
       "    <tr>\n",
       "      <th>2015-09-01</th>\n",
       "      <td>2</td>\n",
       "      <td>703.001673</td>\n",
       "      <td>girl</td>\n",
       "      <td>yellow</td>\n",
       "    </tr>\n",
       "    <tr>\n",
       "      <th>2016-04-26</th>\n",
       "      <td>667</td>\n",
       "      <td>187.608667</td>\n",
       "      <td>boy</td>\n",
       "      <td>red</td>\n",
       "    </tr>\n",
       "    <tr>\n",
       "      <th>2016-01-23</th>\n",
       "      <td>312</td>\n",
       "      <td>884.018403</td>\n",
       "      <td>girl</td>\n",
       "      <td>blue</td>\n",
       "    </tr>\n",
       "    <tr>\n",
       "      <th>2014-10-11</th>\n",
       "      <td>792</td>\n",
       "      <td>585.769718</td>\n",
       "      <td>girl</td>\n",
       "      <td>purple</td>\n",
       "    </tr>\n",
       "    <tr>\n",
       "      <th>2014-03-30</th>\n",
       "      <td>507</td>\n",
       "      <td>373.570850</td>\n",
       "      <td>girl</td>\n",
       "      <td>yellow</td>\n",
       "    </tr>\n",
       "    <tr>\n",
       "      <th>2015-03-27</th>\n",
       "      <td>78</td>\n",
       "      <td>635.718898</td>\n",
       "      <td>girl</td>\n",
       "      <td>purple</td>\n",
       "    </tr>\n",
       "    <tr>\n",
       "      <th>2014-12-27</th>\n",
       "      <td>100</td>\n",
       "      <td>41.486492</td>\n",
       "      <td>girl</td>\n",
       "      <td>purple</td>\n",
       "    </tr>\n",
       "    <tr>\n",
       "      <th>2016-04-17</th>\n",
       "      <td>683</td>\n",
       "      <td>138.001860</td>\n",
       "      <td>girl</td>\n",
       "      <td>red</td>\n",
       "    </tr>\n",
       "    <tr>\n",
       "      <th>2016-03-08</th>\n",
       "      <td>300</td>\n",
       "      <td>925.708079</td>\n",
       "      <td>boy</td>\n",
       "      <td>green</td>\n",
       "    </tr>\n",
       "    <tr>\n",
       "      <th>2016-01-16</th>\n",
       "      <td>925</td>\n",
       "      <td>971.141551</td>\n",
       "      <td>boy</td>\n",
       "      <td>red</td>\n",
       "    </tr>\n",
       "    <tr>\n",
       "      <th>2016-06-23</th>\n",
       "      <td>317</td>\n",
       "      <td>223.288738</td>\n",
       "      <td>boy</td>\n",
       "      <td>green</td>\n",
       "    </tr>\n",
       "    <tr>\n",
       "      <th>2016-01-26</th>\n",
       "      <td>783</td>\n",
       "      <td>819.096804</td>\n",
       "      <td>boy</td>\n",
       "      <td>blue</td>\n",
       "    </tr>\n",
       "    <tr>\n",
       "      <th>2015-01-28</th>\n",
       "      <td>71</td>\n",
       "      <td>309.760628</td>\n",
       "      <td>boy</td>\n",
       "      <td>blue</td>\n",
       "    </tr>\n",
       "    <tr>\n",
       "      <th>2016-03-27</th>\n",
       "      <td>325</td>\n",
       "      <td>444.532115</td>\n",
       "      <td>boy</td>\n",
       "      <td>purple</td>\n",
       "    </tr>\n",
       "    <tr>\n",
       "      <th>2015-07-10</th>\n",
       "      <td>552</td>\n",
       "      <td>517.586297</td>\n",
       "      <td>boy</td>\n",
       "      <td>red</td>\n",
       "    </tr>\n",
       "    <tr>\n",
       "      <th>2014-05-19</th>\n",
       "      <td>740</td>\n",
       "      <td>988.004758</td>\n",
       "      <td>boy</td>\n",
       "      <td>yellow</td>\n",
       "    </tr>\n",
       "    <tr>\n",
       "      <th>2014-06-07</th>\n",
       "      <td>463</td>\n",
       "      <td>61.233638</td>\n",
       "      <td>boy</td>\n",
       "      <td>green</td>\n",
       "    </tr>\n",
       "    <tr>\n",
       "      <th>2016-06-02</th>\n",
       "      <td>518</td>\n",
       "      <td>256.335606</td>\n",
       "      <td>boy</td>\n",
       "      <td>yellow</td>\n",
       "    </tr>\n",
       "    <tr>\n",
       "      <th>2014-03-14</th>\n",
       "      <td>528</td>\n",
       "      <td>114.734319</td>\n",
       "      <td>girl</td>\n",
       "      <td>red</td>\n",
       "    </tr>\n",
       "    <tr>\n",
       "      <th>2015-06-08</th>\n",
       "      <td>207</td>\n",
       "      <td>731.211508</td>\n",
       "      <td>boy</td>\n",
       "      <td>yellow</td>\n",
       "    </tr>\n",
       "    <tr>\n",
       "      <th>2015-10-09</th>\n",
       "      <td>211</td>\n",
       "      <td>715.706315</td>\n",
       "      <td>boy</td>\n",
       "      <td>red</td>\n",
       "    </tr>\n",
       "    <tr>\n",
       "      <th>2014-07-08</th>\n",
       "      <td>672</td>\n",
       "      <td>302.847557</td>\n",
       "      <td>boy</td>\n",
       "      <td>yellow</td>\n",
       "    </tr>\n",
       "    <tr>\n",
       "      <th>2014-05-06</th>\n",
       "      <td>375</td>\n",
       "      <td>957.917383</td>\n",
       "      <td>girl</td>\n",
       "      <td>yellow</td>\n",
       "    </tr>\n",
       "    <tr>\n",
       "      <th>2016-06-09</th>\n",
       "      <td>530</td>\n",
       "      <td>205.990431</td>\n",
       "      <td>girl</td>\n",
       "      <td>purple</td>\n",
       "    </tr>\n",
       "    <tr>\n",
       "      <th>2016-09-06</th>\n",
       "      <td>294</td>\n",
       "      <td>682.120222</td>\n",
       "      <td>girl</td>\n",
       "      <td>blue</td>\n",
       "    </tr>\n",
       "    <tr>\n",
       "      <th>2015-09-15</th>\n",
       "      <td>166</td>\n",
       "      <td>190.032588</td>\n",
       "      <td>boy</td>\n",
       "      <td>red</td>\n",
       "    </tr>\n",
       "    <tr>\n",
       "      <th>2015-01-12</th>\n",
       "      <td>591</td>\n",
       "      <td>978.913511</td>\n",
       "      <td>boy</td>\n",
       "      <td>blue</td>\n",
       "    </tr>\n",
       "    <tr>\n",
       "      <th>2015-10-21</th>\n",
       "      <td>571</td>\n",
       "      <td>259.954915</td>\n",
       "      <td>girl</td>\n",
       "      <td>green</td>\n",
       "    </tr>\n",
       "    <tr>\n",
       "      <th>2015-09-29</th>\n",
       "      <td>75</td>\n",
       "      <td>414.686734</td>\n",
       "      <td>boy</td>\n",
       "      <td>purple</td>\n",
       "    </tr>\n",
       "  </tbody>\n",
       "</table>\n",
       "</div>"
      ],
      "text/plain": [
       "            prvi       drugi  spol    boja\n",
       "datum                                     \n",
       "2016-07-17   450  628.578622  girl     red\n",
       "2014-02-17   418  226.950670   boy     red\n",
       "2016-03-03   418  208.042709  girl     red\n",
       "2014-04-28    26  915.238500   boy    blue\n",
       "2014-09-07   182  744.946901   boy   green\n",
       "2014-07-21   345  542.665316  girl    blue\n",
       "2014-01-21   807  396.394572   boy  yellow\n",
       "2016-01-23    36  792.745992   boy    blue\n",
       "2015-07-07    44  616.078044  girl    blue\n",
       "2014-08-18   390  527.061301   boy  yellow\n",
       "2014-04-02   456    4.716575  girl   green\n",
       "2015-12-20   584  577.939367   boy    blue\n",
       "2015-03-18   718  919.344036  girl  yellow\n",
       "2015-04-26   792  623.799887   boy     red\n",
       "2015-08-23   938  927.630485   boy  yellow\n",
       "2015-09-27    14   40.380074  girl    blue\n",
       "2014-07-15    26  451.519075  girl    blue\n",
       "2016-05-15   116  969.555910   boy     red\n",
       "2015-04-15   209  827.094101   boy  yellow\n",
       "2014-03-03   202  811.039542   boy     red\n",
       "2015-01-07   254  512.529009  girl    blue\n",
       "2015-09-01     2  703.001673  girl  yellow\n",
       "2016-04-26   667  187.608667   boy     red\n",
       "2016-01-23   312  884.018403  girl    blue\n",
       "2014-10-11   792  585.769718  girl  purple\n",
       "2014-03-30   507  373.570850  girl  yellow\n",
       "2015-03-27    78  635.718898  girl  purple\n",
       "2014-12-27   100   41.486492  girl  purple\n",
       "2016-04-17   683  138.001860  girl     red\n",
       "2016-03-08   300  925.708079   boy   green\n",
       "2016-01-16   925  971.141551   boy     red\n",
       "2016-06-23   317  223.288738   boy   green\n",
       "2016-01-26   783  819.096804   boy    blue\n",
       "2015-01-28    71  309.760628   boy    blue\n",
       "2016-03-27   325  444.532115   boy  purple\n",
       "2015-07-10   552  517.586297   boy     red\n",
       "2014-05-19   740  988.004758   boy  yellow\n",
       "2014-06-07   463   61.233638   boy   green\n",
       "2016-06-02   518  256.335606   boy  yellow\n",
       "2014-03-14   528  114.734319  girl     red\n",
       "2015-06-08   207  731.211508   boy  yellow\n",
       "2015-10-09   211  715.706315   boy     red\n",
       "2014-07-08   672  302.847557   boy  yellow\n",
       "2014-05-06   375  957.917383  girl  yellow\n",
       "2016-06-09   530  205.990431  girl  purple\n",
       "2016-09-06   294  682.120222  girl    blue\n",
       "2015-09-15   166  190.032588   boy     red\n",
       "2015-01-12   591  978.913511   boy    blue\n",
       "2015-10-21   571  259.954915  girl   green\n",
       "2015-09-29    75  414.686734   boy  purple"
      ]
     },
     "execution_count": 61,
     "metadata": {},
     "output_type": "execute_result"
    }
   ],
   "source": [
    "df"
   ]
  },
  {
   "cell_type": "code",
   "execution_count": 62,
   "metadata": {},
   "outputs": [
    {
     "name": "stdout",
     "output_type": "stream",
     "text": [
      "<class 'pandas.core.frame.DataFrame'>\n",
      "DatetimeIndex: 50 entries, 2016-07-17 to 2015-09-29\n",
      "Data columns (total 4 columns):\n",
      "prvi     50 non-null int64\n",
      "drugi    50 non-null float64\n",
      "spol     50 non-null object\n",
      "boja     50 non-null object\n",
      "dtypes: float64(1), int64(1), object(2)\n",
      "memory usage: 2.0+ KB\n"
     ]
    }
   ],
   "source": [
    "df.info()"
   ]
  },
  {
   "cell_type": "markdown",
   "metadata": {},
   "source": [
    "Za najkasniji (datumi su u prvom stupcu) redak koji u predzadnjem stupcu ima girl a u zadnjem yellow, nađite umnožak drugog i trećeg stupca."
   ]
  },
  {
   "cell_type": "code",
   "execution_count": 74,
   "metadata": {},
   "outputs": [
    {
     "data": {
      "text/html": [
       "<div>\n",
       "<style scoped>\n",
       "    .dataframe tbody tr th:only-of-type {\n",
       "        vertical-align: middle;\n",
       "    }\n",
       "\n",
       "    .dataframe tbody tr th {\n",
       "        vertical-align: top;\n",
       "    }\n",
       "\n",
       "    .dataframe thead th {\n",
       "        text-align: right;\n",
       "    }\n",
       "</style>\n",
       "<table border=\"1\" class=\"dataframe\">\n",
       "  <thead>\n",
       "    <tr style=\"text-align: right;\">\n",
       "      <th></th>\n",
       "      <th>prvi</th>\n",
       "      <th>drugi</th>\n",
       "      <th>spol</th>\n",
       "      <th>boja</th>\n",
       "    </tr>\n",
       "    <tr>\n",
       "      <th>datum</th>\n",
       "      <th></th>\n",
       "      <th></th>\n",
       "      <th></th>\n",
       "      <th></th>\n",
       "    </tr>\n",
       "  </thead>\n",
       "  <tbody>\n",
       "    <tr>\n",
       "      <th>2014-03-30</th>\n",
       "      <td>507</td>\n",
       "      <td>373.570850</td>\n",
       "      <td>girl</td>\n",
       "      <td>yellow</td>\n",
       "    </tr>\n",
       "    <tr>\n",
       "      <th>2014-05-06</th>\n",
       "      <td>375</td>\n",
       "      <td>957.917383</td>\n",
       "      <td>girl</td>\n",
       "      <td>yellow</td>\n",
       "    </tr>\n",
       "    <tr>\n",
       "      <th>2015-03-18</th>\n",
       "      <td>718</td>\n",
       "      <td>919.344036</td>\n",
       "      <td>girl</td>\n",
       "      <td>yellow</td>\n",
       "    </tr>\n",
       "    <tr>\n",
       "      <th>2015-09-01</th>\n",
       "      <td>2</td>\n",
       "      <td>703.001673</td>\n",
       "      <td>girl</td>\n",
       "      <td>yellow</td>\n",
       "    </tr>\n",
       "  </tbody>\n",
       "</table>\n",
       "</div>"
      ],
      "text/plain": [
       "            prvi       drugi  spol    boja\n",
       "datum                                     \n",
       "2014-03-30   507  373.570850  girl  yellow\n",
       "2014-05-06   375  957.917383  girl  yellow\n",
       "2015-03-18   718  919.344036  girl  yellow\n",
       "2015-09-01     2  703.001673  girl  yellow"
      ]
     },
     "execution_count": 74,
     "metadata": {},
     "output_type": "execute_result"
    }
   ],
   "source": [
    "rez = df.sort_index()\n",
    "rez\n",
    "subdf = rez[(rez['spol'] == 'girl') & (rez['boja'] == 'yellow')]\n",
    "subdf"
   ]
  },
  {
   "cell_type": "code",
   "execution_count": 80,
   "metadata": {},
   "outputs": [
    {
     "data": {
      "text/plain": [
       "prvi           2\n",
       "drugi    703.002\n",
       "spol        girl\n",
       "boja      yellow\n",
       "Name: 2015-09-01 00:00:00, dtype: object"
      ]
     },
     "execution_count": 80,
     "metadata": {},
     "output_type": "execute_result"
    }
   ],
   "source": [
    "subdf.loc[subdf.index.max()]\n"
   ]
  },
  {
   "cell_type": "code",
   "execution_count": 81,
   "metadata": {},
   "outputs": [
    {
     "data": {
      "image/png": "[encoded data removed]",
      "text/latex": [
       "$$1406.0033460000002$$"
      ],
      "text/plain": [
       "1406.0033460000002"
      ]
     },
     "execution_count": 81,
     "metadata": {},
     "output_type": "execute_result"
    }
   ],
   "source": [
    "traženi = subdf.loc[subdf.index.max()]\n",
    "traženi['prvi']*traženi['drugi']"
   ]
  },
  {
   "cell_type": "code",
   "execution_count": 82,
   "metadata": {},
   "outputs": [],
   "source": [
    "theta = np.linspace(0, 2*np.pi)[1:]\n",
    "r1 = np.abs(np.sin(theta)) / theta\n",
    "r2 = np.log(1 + theta)"
   ]
  },
  {
   "cell_type": "code",
   "execution_count": 86,
   "metadata": {},
   "outputs": [
    {
     "data": {
      "text/plain": [
       "[<matplotlib.lines.Line2D at 0x1218c630>]"
      ]
     },
     "execution_count": 86,
     "metadata": {},
     "output_type": "execute_result"
    },
    {
     "data": {
      "image/png": "[encoded data removed]",
      "text/plain": [
       "<matplotlib.figure.Figure at 0x1244d4a8>"
      ]
     },
     "metadata": {},
     "output_type": "display_data"
    }
   ],
   "source": [
    "import matplotlib.pyplot as plt\n",
    "plt.figure(1)\n",
    "\n",
    "plt.polar(theta, r1)\n"
   ]
  },
  {
   "cell_type": "code",
   "execution_count": 87,
   "metadata": {},
   "outputs": [
    {
     "data": {
      "text/plain": [
       "[<matplotlib.lines.Line2D at 0x129ff358>]"
      ]
     },
     "execution_count": 87,
     "metadata": {},
     "output_type": "execute_result"
    },
    {
     "data": {
      "image/png": "[encoded data removed]",
      "text/plain": [
       "<matplotlib.figure.Figure at 0x122ec7b8>"
      ]
     },
     "metadata": {},
     "output_type": "display_data"
    }
   ],
   "source": [
    "plt.polar(theta, r2)"
   ]
  },
  {
   "cell_type": "code",
   "execution_count": 106,
   "metadata": {},
   "outputs": [],
   "source": [
    "#Napišite funkciju koja prima simboličku funkciju, integrira je simbolički po varijabli x (ako može), dobiveni rezultat derivira\n",
    "#simbolički i uspoređuje s originalnim ulazom. Na kraju treba ispisati jednadžbe koje proizlaze iz integriranja odnosno deriviranja.\n",
    "import sympy as sp\n",
    "sp.init_printing()\n",
    "x = sp.Symbol('x')\n",
    "from IPython.display import display\n",
    "\n",
    "def f(fja):\n",
    "    integral = sp.Integral(fja,x)\n",
    "    inte = integral.doit()\n",
    "    deriv = sp.Derivative(inte,x)\n",
    "    der = deriv.doit()\n",
    "    if der == fja:\n",
    "        print('Sintaksno su jednake')\n",
    "    else:\n",
    "        print('Nisu sintaksno jednake')\n",
    "    prva = sp.Eq(integral,inte,evaluate=False)\n",
    "    druga = sp.Eq(deriv, der, evaluate=False)\n",
    "    display(prva, druga) "
   ]
  },
  {
   "cell_type": "code",
   "execution_count": 107,
   "metadata": {
    "scrolled": true
   },
   "outputs": [
    {
     "name": "stdout",
     "output_type": "stream",
     "text": [
      "Nisu sintaksno jednake\n"
     ]
    },
    {
     "data": {
      "image/png": "[encoded data removed]",
      "text/latex": [
       "$$\\int x \\left(x + 1\\right)\\, dx = \\frac{x^{3}}{3} + \\frac{x^{2}}{2}$$"
      ],
      "text/plain": [
       "                  3    2\n",
       "⌠                x    x \n",
       "⎮ x⋅(x + 1) dx = ── + ──\n",
       "⌡                3    2 "
      ]
     },
     "metadata": {},
     "output_type": "display_data"
    },
    {
     "data": {
      "image/png": "[encoded data removed]",
      "text/latex": [
       "$$\\frac{d}{d x}\\left(\\frac{x^{3}}{3} + \\frac{x^{2}}{2}\\right) = x^{2} + x$$"
      ],
      "text/plain": [
       "  ⎛ 3    2⎞         \n",
       "d ⎜x    x ⎟    2    \n",
       "──⎜── + ──⎟ = x  + x\n",
       "dx⎝3    2 ⎠         "
      ]
     },
     "metadata": {},
     "output_type": "display_data"
    }
   ],
   "source": [
    "f(x*(x+1))"
   ]
  },
  {
   "cell_type": "code",
   "execution_count": 109,
   "metadata": {},
   "outputs": [
    {
     "name": "stdout",
     "output_type": "stream",
     "text": [
      "Sintaksno su jednake\n"
     ]
    },
    {
     "data": {
      "image/png": "[encoded data removed]",
      "text/latex": [
       "$$\\int \\sin{\\left (x \\right )}\\, dx = - \\cos{\\left (x \\right )}$$"
      ],
      "text/plain": [
       "⌠                    \n",
       "⎮ sin(x) dx = -cos(x)\n",
       "⌡                    "
      ]
     },
     "metadata": {},
     "output_type": "display_data"
    },
    {
     "data": {
      "image/png": "[encoded data removed]",
      "text/latex": [
       "$$\\frac{d}{d x}\\left(- \\cos{\\left (x \\right )}\\right) = \\sin{\\left (x \\right )}$$"
      ],
      "text/plain": [
       "d                   \n",
       "──(-cos(x)) = sin(x)\n",
       "dx                  "
      ]
     },
     "metadata": {},
     "output_type": "display_data"
    }
   ],
   "source": [
    "f(sp.sin(x))"
   ]
  },
  {
   "cell_type": "code",
   "execution_count": 117,
   "metadata": {},
   "outputs": [
    {
     "data": {
      "image/png": "[encoded data removed]",
      "text/latex": [
       "$$\\left \\{ 0 : 0, \\quad 1 : 1, \\quad 2 : 4, \\quad 3 : 9, \\quad 4 : 16\\right \\}$$"
      ],
      "text/plain": [
       "{0: 0, 1: 1, 2: 4, 3: 9, 4: 16}"
      ]
     },
     "execution_count": 117,
     "metadata": {},
     "output_type": "execute_result"
    }
   ],
   "source": [
    "#Pronađeni\n",
    "#1.\n",
    "def f1(lista,fja):\n",
    "    rječnik ={l: fja(l) for l in lista}\n",
    "    return rječnik\n",
    "lis = []\n",
    "for i in range(5):\n",
    "    lis.append(i)\n",
    "def fja(x):\n",
    "    return x**2\n",
    "f1(lis,fja)"
   ]
  },
  {
   "cell_type": "code",
   "execution_count": 135,
   "metadata": {},
   "outputs": [
    {
     "data": {
      "text/plain": [
       "array([[2, 7, 7, 1, 4],\n",
       "       [9, 0, 6, 5, 3],\n",
       "       [1, 3, 7, 2, 9],\n",
       "       [9, 9, 8, 0, 0],\n",
       "       [1, 1, 1, 0, 5]])"
      ]
     },
     "execution_count": 135,
     "metadata": {},
     "output_type": "execute_result"
    }
   ],
   "source": [
    "#2.\n",
    "Z = np.random.randint(0,10,(5,5))\n",
    "Z"
   ]
  },
  {
   "cell_type": "code",
   "execution_count": 137,
   "metadata": {},
   "outputs": [
    {
     "data": {
      "text/plain": [
       "array([[0.02, 0.07, 0.07, 0.01, 0.04],\n",
       "       [0.09, 0.  , 0.06, 0.05, 0.03],\n",
       "       [0.01, 0.03, 0.07, 0.02, 0.09],\n",
       "       [0.09, 0.09, 0.08, 0.  , 0.  ],\n",
       "       [0.01, 0.01, 0.01, 0.  , 0.05]])"
      ]
     },
     "execution_count": 137,
     "metadata": {},
     "output_type": "execute_result"
    }
   ],
   "source": [
    "Z = Z / 10\n",
    "Z"
   ]
  },
  {
   "cell_type": "code",
   "execution_count": 139,
   "metadata": {},
   "outputs": [
    {
     "data": {
      "text/plain": [
       "array([[0.70534596, 0.37038634, 0.65007063, 0.33912906, 0.15782447,\n",
       "        0.05130708, 0.57308919, 0.1173543 , 0.09987619, 0.79826599],\n",
       "       [0.47398872, 0.16694462, 0.65447747, 0.24664506, 0.73171906,\n",
       "        0.98828425, 0.23970698, 0.55153899, 0.78664311, 0.35158923],\n",
       "       [0.26659839, 0.15153829, 0.46056243, 0.43781517, 0.30470007,\n",
       "        0.75243748, 0.41172251, 0.80982872, 0.77037887, 0.8921935 ],\n",
       "       [0.07877267, 0.40416667, 0.57402109, 0.61859639, 0.50621648,\n",
       "        0.95841605, 0.30449403, 0.23496605, 0.09095026, 0.67868896],\n",
       "       [0.17023625, 0.5742447 , 0.27021778, 0.09276772, 0.27271774,\n",
       "        0.04283977, 0.71843547, 0.42636644, 0.4841824 , 0.44328301],\n",
       "       [0.95548817, 0.04106144, 0.51460618, 0.29112745, 0.8971743 ,\n",
       "        0.3650374 , 0.92636138, 0.59543868, 0.915931  , 0.56931472],\n",
       "       [0.41727202, 0.69893005, 0.00773871, 0.16760725, 0.69258464,\n",
       "        0.63275355, 0.47498143, 0.84980883, 0.63178131, 0.1560873 ],\n",
       "       [0.87614754, 0.39426323, 0.24794851, 0.33799807, 0.13215002,\n",
       "        0.76189115, 0.13305745, 0.56684587, 0.49331041, 0.31870244],\n",
       "       [0.56037161, 0.71710512, 0.6547425 , 0.82343206, 0.66682498,\n",
       "        0.11040735, 0.37113044, 0.12182856, 0.17116202, 0.68099703],\n",
       "       [0.17772053, 0.14573826, 0.80735962, 0.77759342, 0.10061929,\n",
       "        0.18424927, 0.20633221, 0.7976185 , 0.16719975, 0.23267922]])"
      ]
     },
     "execution_count": 139,
     "metadata": {},
     "output_type": "execute_result"
    }
   ],
   "source": [
    "A = np.random.rand(10,10)\n",
    "A"
   ]
  },
  {
   "cell_type": "code",
   "execution_count": 162,
   "metadata": {},
   "outputs": [
    {
     "data": {
      "image/png": "[encoded data removed]",
      "text/plain": [
       "<matplotlib.figure.Figure at 0x1493aac8>"
      ]
     },
     "metadata": {},
     "output_type": "display_data"
    }
   ],
   "source": [
    "#4.\n",
    "x = np.linspace(0,20,1000)\n",
    "y = np.sin(x)\n",
    "plt.plot(x,y)\n",
    "plt.ylim(-2,2)\n",
    "plt.show()"
   ]
  },
  {
   "cell_type": "code",
   "execution_count": 167,
   "metadata": {},
   "outputs": [
    {
     "data": {
      "text/plain": [
       "Text(4,1.5,'lok maks')"
      ]
     },
     "execution_count": 167,
     "metadata": {},
     "output_type": "execute_result"
    },
    {
     "data": {
      "image/png": "[encoded data removed]",
      "text/plain": [
       "<matplotlib.figure.Figure at 0x14b8c160>"
      ]
     },
     "metadata": {},
     "output_type": "display_data"
    }
   ],
   "source": [
    "fig4, ax4 = plt.subplots()\n",
    "ax4.plot(x, y)\n",
    "plt.ylim(-2,2)\n",
    "ax4.annotate('lok maks', (5*np.pi/2, 1), (4, 3/2), arrowprops=dict(facecolor='black', shrink=0.05),horizontalalignment='right')"
   ]
  },
  {
   "cell_type": "code",
   "execution_count": 172,
   "metadata": {},
   "outputs": [
    {
     "data": {
      "text/latex": [
       "$$\\operatorname{bell}{\\left (n,\\left[\\begin{array}0.0 & 0.02002002002002 & 0.04004004004004 & 0.0600600600600601 & 0.0800800800800801 & 0.1001001001001 & 0.12012012012012 & 0.14014014014014 & 0.16016016016016 & 0.18018018018018 & 0.2002002002002 & 0.22022022022022 & 0.24024024024024 & 0.26026026026026 & 0.28028028028028 & 0.3003003003003 & 0.32032032032032 & 0.34034034034034 & 0.36036036036036 & 0.38038038038038 & 0.4004004004004 & 0.42042042042042 & 0.44044044044044 & 0.46046046046046 & 0.480480480480481 & 0.500500500500501 & 0.520520520520521 & 0.540540540540541 & 0.560560560560561 & 0.580580580580581 & 0.600600600600601 & 0.620620620620621 & 0.640640640640641 & 0.660660660660661 & 0.680680680680681 & 0.700700700700701 & 0.720720720720721 & 0.740740740740741 & 0.760760760760761 & 0.780780780780781 & 0.800800800800801 & 0.820820820820821 & 0.840840840840841 & 0.860860860860861 & 0.880880880880881 & 0.900900900900901 & 0.920920920920921 & 0.940940940940941 & 0.960960960960961 & 0.980980980980981 & 1.001001001001 & 1.02102102102102 & 1.04104104104104 & 1.06106106106106 & 1.08108108108108 & 1.1011011011011 & 1.12112112112112 & 1.14114114114114 & 1.16116116116116 & 1.18118118118118 & 1.2012012012012 & 1.22122122122122 & 1.24124124124124 & 1.26126126126126 & 1.28128128128128 & 1.3013013013013 & 1.32132132132132 & 1.34134134134134 & 1.36136136136136 & 1.38138138138138 & 1.4014014014014 & 1.42142142142142 & 1.44144144144144 & 1.46146146146146 & 1.48148148148148 & 1.5015015015015 & 1.52152152152152 & 1.54154154154154 & 1.56156156156156 & 1.58158158158158 & 1.6016016016016 & 1.62162162162162 & 1.64164164164164 & 1.66166166166166 & 1.68168168168168 & 1.7017017017017 & 1.72172172172172 & 1.74174174174174 & 1.76176176176176 & 1.78178178178178 & 1.8018018018018 & 1.82182182182182 & 1.84184184184184 & 1.86186186186186 & 1.88188188188188 & 1.9019019019019 & 1.92192192192192 & 1.94194194194194 & 1.96196196196196 & 1.98198198198198 & 2.002002002002 & 2.02202202202202 & 2.04204204204204 & 2.06206206206206 & 2.08208208208208 & 2.1021021021021 & 2.12212212212212 & 2.14214214214214 & 2.16216216216216 & 2.18218218218218 & 2.2022022022022 & 2.22222222222222 & 2.24224224224224 & 2.26226226226226 & 2.28228228228228 & 2.3023023023023 & 2.32232232232232 & 2.34234234234234 & 2.36236236236236 & 2.38238238238238 & 2.4024024024024 & 2.42242242242242 & 2.44244244244244 & 2.46246246246246 & 2.48248248248248 & 2.5025025025025 & 2.52252252252252 & 2.54254254254254 & 2.56256256256256 & 2.58258258258258 & 2.6026026026026 & 2.62262262262262 & 2.64264264264264 & 2.66266266266266 & 2.68268268268268 & 2.7027027027027 & 2.72272272272272 & 2.74274274274274 & 2.76276276276276 & 2.78278278278278 & 2.8028028028028 & 2.82282282282282 & 2.84284284284284 & 2.86286286286286 & 2.88288288288288 & 2.9029029029029 & 2.92292292292292 & 2.94294294294294 & 2.96296296296296 & 2.98298298298298 & 3.003003003003 & 3.02302302302302 & 3.04304304304304 & 3.06306306306306 & 3.08308308308308 & 3.1031031031031 & 3.12312312312312 & 3.14314314314314 & 3.16316316316316 & 3.18318318318318 & 3.2032032032032 & 3.22322322322322 & 3.24324324324324 & 3.26326326326326 & 3.28328328328328 & 3.3033033033033 & 3.32332332332332 & 3.34334334334334 & 3.36336336336336 & 3.38338338338338 & 3.4034034034034 & 3.42342342342342 & 3.44344344344344 & 3.46346346346346 & 3.48348348348348 & 3.5035035035035 & 3.52352352352352 & 3.54354354354354 & 3.56356356356356 & 3.58358358358358 & 3.6036036036036 & 3.62362362362362 & 3.64364364364364 & 3.66366366366366 & 3.68368368368368 & 3.7037037037037 & 3.72372372372372 & 3.74374374374374 & 3.76376376376376 & 3.78378378378378 & 3.8038038038038 & 3.82382382382382 & 3.84384384384384 & 3.86386386386386 & 3.88388388388388 & 3.9039039039039 & 3.92392392392392 & 3.94394394394394 & 3.96396396396396 & 3.98398398398398 & 4.004004004004 & 4.02402402402402 & 4.04404404404404 & 4.06406406406406 & 4.08408408408408 & 4.1041041041041 & 4.12412412412412 & 4.14414414414414 & 4.16416416416416 & 4.18418418418418 & 4.2042042042042 & 4.22422422422422 & 4.24424424424424 & 4.26426426426426 & 4.28428428428428 & 4.3043043043043 & 4.32432432432432 & 4.34434434434434 & 4.36436436436436 & 4.38438438438438 & 4.4044044044044 & 4.42442442442442 & 4.44444444444444 & 4.46446446446446 & 4.48448448448448 & 4.5045045045045 & 4.52452452452452 & 4.54454454454454 & 4.56456456456456 & 4.58458458458458 & 4.6046046046046 & 4.62462462462462 & 4.64464464464464 & 4.66466466466466 & 4.68468468468468 & 4.7047047047047 & 4.72472472472472 & 4.74474474474474 & 4.76476476476476 & 4.78478478478478 & 4.8048048048048 & 4.82482482482482 & 4.84484484484484 & 4.86486486486486 & 4.88488488488488 & 4.9049049049049 & 4.92492492492492 & 4.94494494494494 & 4.96496496496496 & 4.98498498498498 & 5.00500500500501 & 5.02502502502503 & 5.04504504504505 & 5.06506506506507 & 5.08508508508509 & 5.10510510510511 & 5.12512512512513 & 5.14514514514515 & 5.16516516516517 & 5.18518518518519 & 5.20520520520521 & 5.22522522522523 & 5.24524524524525 & 5.26526526526527 & 5.28528528528529 & 5.30530530530531 & 5.32532532532533 & 5.34534534534535 & 5.36536536536537 & 5.38538538538539 & 5.40540540540541 & 5.42542542542543 & 5.44544544544545 & 5.46546546546547 & 5.48548548548549 & 5.50550550550551 & 5.52552552552553 & 5.54554554554555 & 5.56556556556557 & 5.58558558558559 & 5.60560560560561 & 5.62562562562563 & 5.64564564564565 & 5.66566566566567 & 5.68568568568569 & 5.70570570570571 & 5.72572572572573 & 5.74574574574575 & 5.76576576576577 & 5.78578578578579 & 5.80580580580581 & 5.82582582582583 & 5.84584584584585 & 5.86586586586587 & 5.88588588588589 & 5.90590590590591 & 5.92592592592593 & 5.94594594594595 & 5.96596596596597 & 5.98598598598599 & 6.00600600600601 & 6.02602602602603 & 6.04604604604605 & 6.06606606606607 & 6.08608608608609 & 6.10610610610611 & 6.12612612612613 & 6.14614614614615 & 6.16616616616617 & 6.18618618618619 & 6.20620620620621 & 6.22622622622623 & 6.24624624624625 & 6.26626626626627 & 6.28628628628629 & 6.30630630630631 & 6.32632632632633 & 6.34634634634635 & 6.36636636636637 & 6.38638638638639 & 6.40640640640641 & 6.42642642642643 & 6.44644644644645 & 6.46646646646647 & 6.48648648648649 & 6.50650650650651 & 6.52652652652653 & 6.54654654654655 & 6.56656656656657 & 6.58658658658659 & 6.60660660660661 & 6.62662662662663 & 6.64664664664665 & 6.66666666666667 & 6.68668668668669 & 6.70670670670671 & 6.72672672672673 & 6.74674674674675 & 6.76676676676677 & 6.78678678678679 & 6.80680680680681 & 6.82682682682683 & 6.84684684684685 & 6.86686686686687 & 6.88688688688689 & 6.90690690690691 & 6.92692692692693 & 6.94694694694695 & 6.96696696696697 & 6.98698698698699 & 7.00700700700701 & 7.02702702702703 & 7.04704704704705 & 7.06706706706707 & 7.08708708708709 & 7.10710710710711 & 7.12712712712713 & 7.14714714714715 & 7.16716716716717 & 7.18718718718719 & 7.20720720720721 & 7.22722722722723 & 7.24724724724725 & 7.26726726726727 & 7.28728728728729 & 7.30730730730731 & 7.32732732732733 & 7.34734734734735 & 7.36736736736737 & 7.38738738738739 & 7.40740740740741 & 7.42742742742743 & 7.44744744744745 & 7.46746746746747 & 7.48748748748749 & 7.50750750750751 & 7.52752752752753 & 7.54754754754755 & 7.56756756756757 & 7.58758758758759 & 7.60760760760761 & 7.62762762762763 & 7.64764764764765 & 7.66766766766767 & 7.68768768768769 & 7.70770770770771 & 7.72772772772773 & 7.74774774774775 & 7.76776776776777 & 7.78778778778779 & 7.80780780780781 & 7.82782782782783 & 7.84784784784785 & 7.86786786786787 & 7.88788788788789 & 7.90790790790791 & 7.92792792792793 & 7.94794794794795 & 7.96796796796797 & 7.98798798798799 & 8.00800800800801 & 8.02802802802803 & 8.04804804804805 & 8.06806806806807 & 8.08808808808809 & 8.10810810810811 & 8.12812812812813 & 8.14814814814815 & 8.16816816816817 & 8.18818818818819 & 8.20820820820821 & 8.22822822822823 & 8.24824824824825 & 8.26826826826827 & 8.28828828828829 & 8.30830830830831 & 8.32832832832833 & 8.34834834834835 & 8.36836836836837 & 8.38838838838839 & 8.40840840840841 & 8.42842842842843 & 8.44844844844845 & 8.46846846846847 & 8.48848848848849 & 8.50850850850851 & 8.52852852852853 & 8.54854854854855 & 8.56856856856857 & 8.58858858858859 & 8.60860860860861 & 8.62862862862863 & 8.64864864864865 & 8.66866866866867 & 8.68868868868869 & 8.70870870870871 & 8.72872872872873 & 8.74874874874875 & 8.76876876876877 & 8.78878878878879 & 8.80880880880881 & 8.82882882882883 & 8.84884884884885 & 8.86886886886887 & 8.88888888888889 & 8.90890890890891 & 8.92892892892893 & 8.94894894894895 & 8.96896896896897 & 8.98898898898899 & 9.00900900900901 & 9.02902902902903 & 9.04904904904905 & 9.06906906906907 & 9.08908908908909 & 9.10910910910911 & 9.12912912912913 & 9.14914914914915 & 9.16916916916917 & 9.18918918918919 & 9.20920920920921 & 9.22922922922923 & 9.24924924924925 & 9.26926926926927 & 9.28928928928929 & 9.30930930930931 & 9.32932932932933 & 9.34934934934935 & 9.36936936936937 & 9.38938938938939 & 9.40940940940941 & 9.42942942942943 & 9.44944944944945 & 9.46946946946947 & 9.48948948948949 & 9.50950950950951 & 9.52952952952953 & 9.54954954954955 & 9.56956956956957 & 9.58958958958959 & 9.60960960960961 & 9.62962962962963 & 9.64964964964965 & 9.66966966966967 & 9.68968968968969 & 9.70970970970971 & 9.72972972972973 & 9.74974974974975 & 9.76976976976977 & 9.78978978978979 & 9.80980980980981 & 9.82982982982983 & 9.84984984984985 & 9.86986986986987 & 9.88988988988989 & 9.90990990990991 & 9.92992992992993 & 9.94994994994995 & 9.96996996996997 & 9.98998998998999 & 10.01001001001 & 10.03003003003 & 10.0500500500501 & 10.0700700700701 & 10.0900900900901 & 10.1101101101101 & 10.1301301301301 & 10.1501501501502 & 10.1701701701702 & 10.1901901901902 & 10.2102102102102 & 10.2302302302302 & 10.2502502502503 & 10.2702702702703 & 10.2902902902903 & 10.3103103103103 & 10.3303303303303 & 10.3503503503504 & 10.3703703703704 & 10.3903903903904 & 10.4104104104104 & 10.4304304304304 & 10.4504504504505 & 10.4704704704705 & 10.4904904904905 & 10.5105105105105 & 10.5305305305305 & 10.5505505505506 & 10.5705705705706 & 10.5905905905906 & 10.6106106106106 & 10.6306306306306 & 10.6506506506507 & 10.6706706706707 & 10.6906906906907 & 10.7107107107107 & 10.7307307307307 & 10.7507507507508 & 10.7707707707708 & 10.7907907907908 & 10.8108108108108 & 10.8308308308308 & 10.8508508508509 & 10.8708708708709 & 10.8908908908909 & 10.9109109109109 & 10.9309309309309 & 10.950950950951 & 10.970970970971 & 10.990990990991 & 11.011011011011 & 11.031031031031 & 11.0510510510511 & 11.0710710710711 & 11.0910910910911 & 11.1111111111111 & 11.1311311311311 & 11.1511511511512 & 11.1711711711712 & 11.1911911911912 & 11.2112112112112 & 11.2312312312312 & 11.2512512512513 & 11.2712712712713 & 11.2912912912913 & 11.3113113113113 & 11.3313313313313 & 11.3513513513514 & 11.3713713713714 & 11.3913913913914 & 11.4114114114114 & 11.4314314314314 & 11.4514514514515 & 11.4714714714715 & 11.4914914914915 & 11.5115115115115 & 11.5315315315315 & 11.5515515515516 & 11.5715715715716 & 11.5915915915916 & 11.6116116116116 & 11.6316316316316 & 11.6516516516517 & 11.6716716716717 & 11.6916916916917 & 11.7117117117117 & 11.7317317317317 & 11.7517517517518 & 11.7717717717718 & 11.7917917917918 & 11.8118118118118 & 11.8318318318318 & 11.8518518518519 & 11.8718718718719 & 11.8918918918919 & 11.9119119119119 & 11.9319319319319 & 11.951951951952 & 11.971971971972 & 11.991991991992 & 12.012012012012 & 12.032032032032 & 12.0520520520521 & 12.0720720720721 & 12.0920920920921 & 12.1121121121121 & 12.1321321321321 & 12.1521521521522 & 12.1721721721722 & 12.1921921921922 & 12.2122122122122 & 12.2322322322322 & 12.2522522522523 & 12.2722722722723 & 12.2922922922923 & 12.3123123123123 & 12.3323323323323 & 12.3523523523524 & 12.3723723723724 & 12.3923923923924 & 12.4124124124124 & 12.4324324324324 & 12.4524524524525 & 12.4724724724725 & 12.4924924924925 & 12.5125125125125 & 12.5325325325325 & 12.5525525525526 & 12.5725725725726 & 12.5925925925926 & 12.6126126126126 & 12.6326326326326 & 12.6526526526527 & 12.6726726726727 & 12.6926926926927 & 12.7127127127127 & 12.7327327327327 & 12.7527527527528 & 12.7727727727728 & 12.7927927927928 & 12.8128128128128 & 12.8328328328328 & 12.8528528528529 & 12.8728728728729 & 12.8928928928929 & 12.9129129129129 & 12.9329329329329 & 12.952952952953 & 12.972972972973 & 12.992992992993 & 13.013013013013 & 13.033033033033 & 13.0530530530531 & 13.0730730730731 & 13.0930930930931 & 13.1131131131131 & 13.1331331331331 & 13.1531531531532 & 13.1731731731732 & 13.1931931931932 & 13.2132132132132 & 13.2332332332332 & 13.2532532532533 & 13.2732732732733 & 13.2932932932933 & 13.3133133133133 & 13.3333333333333 & 13.3533533533534 & 13.3733733733734 & 13.3933933933934 & 13.4134134134134 & 13.4334334334334 & 13.4534534534535 & 13.4734734734735 & 13.4934934934935 & 13.5135135135135 & 13.5335335335335 & 13.5535535535536 & 13.5735735735736 & 13.5935935935936 & 13.6136136136136 & 13.6336336336336 & 13.6536536536537 & 13.6736736736737 & 13.6936936936937 & 13.7137137137137 & 13.7337337337337 & 13.7537537537538 & 13.7737737737738 & 13.7937937937938 & 13.8138138138138 & 13.8338338338338 & 13.8538538538539 & 13.8738738738739 & 13.8938938938939 & 13.9139139139139 & 13.9339339339339 & 13.953953953954 & 13.973973973974 & 13.993993993994 & 14.014014014014 & 14.034034034034 & 14.0540540540541 & 14.0740740740741 & 14.0940940940941 & 14.1141141141141 & 14.1341341341341 & 14.1541541541542 & 14.1741741741742 & 14.1941941941942 & 14.2142142142142 & 14.2342342342342 & 14.2542542542543 & 14.2742742742743 & 14.2942942942943 & 14.3143143143143 & 14.3343343343343 & 14.3543543543544 & 14.3743743743744 & 14.3943943943944 & 14.4144144144144 & 14.4344344344344 & 14.4544544544545 & 14.4744744744745 & 14.4944944944945 & 14.5145145145145 & 14.5345345345345 & 14.5545545545546 & 14.5745745745746 & 14.5945945945946 & 14.6146146146146 & 14.6346346346346 & 14.6546546546547 & 14.6746746746747 & 14.6946946946947 & 14.7147147147147 & 14.7347347347347 & 14.7547547547548 & 14.7747747747748 & 14.7947947947948 & 14.8148148148148 & 14.8348348348348 & 14.8548548548549 & 14.8748748748749 & 14.8948948948949 & 14.9149149149149 & 14.9349349349349 & 14.954954954955 & 14.974974974975 & 14.994994994995 & 15.015015015015 & 15.035035035035 & 15.0550550550551 & 15.0750750750751 & 15.0950950950951 & 15.1151151151151 & 15.1351351351351 & 15.1551551551552 & 15.1751751751752 & 15.1951951951952 & 15.2152152152152 & 15.2352352352352 & 15.2552552552553 & 15.2752752752753 & 15.2952952952953 & 15.3153153153153 & 15.3353353353353 & 15.3553553553554 & 15.3753753753754 & 15.3953953953954 & 15.4154154154154 & 15.4354354354354 & 15.4554554554555 & 15.4754754754755 & 15.4954954954955 & 15.5155155155155 & 15.5355355355355 & 15.5555555555556 & 15.5755755755756 & 15.5955955955956 & 15.6156156156156 & 15.6356356356356 & 15.6556556556557 & 15.6756756756757 & 15.6956956956957 & 15.7157157157157 & 15.7357357357357 & 15.7557557557558 & 15.7757757757758 & 15.7957957957958 & 15.8158158158158 & 15.8358358358358 & 15.8558558558559 & 15.8758758758759 & 15.8958958958959 & 15.9159159159159 & 15.9359359359359 & 15.955955955956 & 15.975975975976 & 15.995995995996 & 16.016016016016 & 16.036036036036 & 16.0560560560561 & 16.0760760760761 & 16.0960960960961 & 16.1161161161161 & 16.1361361361361 & 16.1561561561562 & 16.1761761761762 & 16.1961961961962 & 16.2162162162162 & 16.2362362362362 & 16.2562562562563 & 16.2762762762763 & 16.2962962962963 & 16.3163163163163 & 16.3363363363363 & 16.3563563563564 & 16.3763763763764 & 16.3963963963964 & 16.4164164164164 & 16.4364364364364 & 16.4564564564565 & 16.4764764764765 & 16.4964964964965 & 16.5165165165165 & 16.5365365365365 & 16.5565565565566 & 16.5765765765766 & 16.5965965965966 & 16.6166166166166 & 16.6366366366366 & 16.6566566566567 & 16.6766766766767 & 16.6966966966967 & 16.7167167167167 & 16.7367367367367 & 16.7567567567568 & 16.7767767767768 & 16.7967967967968 & 16.8168168168168 & 16.8368368368368 & 16.8568568568569 & 16.8768768768769 & 16.8968968968969 & 16.9169169169169 & 16.9369369369369 & 16.956956956957 & 16.976976976977 & 16.996996996997 & 17.017017017017 & 17.037037037037 & 17.0570570570571 & 17.0770770770771 & 17.0970970970971 & 17.1171171171171 & 17.1371371371371 & 17.1571571571572 & 17.1771771771772 & 17.1971971971972 & 17.2172172172172 & 17.2372372372372 & 17.2572572572573 & 17.2772772772773 & 17.2972972972973 & 17.3173173173173 & 17.3373373373373 & 17.3573573573574 & 17.3773773773774 & 17.3973973973974 & 17.4174174174174 & 17.4374374374374 & 17.4574574574575 & 17.4774774774775 & 17.4974974974975 & 17.5175175175175 & 17.5375375375375 & 17.5575575575576 & 17.5775775775776 & 17.5975975975976 & 17.6176176176176 & 17.6376376376376 & 17.6576576576577 & 17.6776776776777 & 17.6976976976977 & 17.7177177177177 & 17.7377377377377 & 17.7577577577578 & 17.7777777777778 & 17.7977977977978 & 17.8178178178178 & 17.8378378378378 & 17.8578578578579 & 17.8778778778779 & 17.8978978978979 & 17.9179179179179 & 17.9379379379379 & 17.957957957958 & 17.977977977978 & 17.997997997998 & 18.018018018018 & 18.038038038038 & 18.0580580580581 & 18.0780780780781 & 18.0980980980981 & 18.1181181181181 & 18.1381381381381 & 18.1581581581582 & 18.1781781781782 & 18.1981981981982 & 18.2182182182182 & 18.2382382382382 & 18.2582582582583 & 18.2782782782783 & 18.2982982982983 & 18.3183183183183 & 18.3383383383383 & 18.3583583583584 & 18.3783783783784 & 18.3983983983984 & 18.4184184184184 & 18.4384384384384 & 18.4584584584585 & 18.4784784784785 & 18.4984984984985 & 18.5185185185185 & 18.5385385385385 & 18.5585585585586 & 18.5785785785786 & 18.5985985985986 & 18.6186186186186 & 18.6386386386386 & 18.6586586586587 & 18.6786786786787 & 18.6986986986987 & 18.7187187187187 & 18.7387387387387 & 18.7587587587588 & 18.7787787787788 & 18.7987987987988 & 18.8188188188188 & 18.8388388388388 & 18.8588588588589 & 18.8788788788789 & 18.8988988988989 & 18.9189189189189 & 18.9389389389389 & 18.958958958959 & 18.978978978979 & 18.998998998999 & 19.019019019019 & 19.039039039039 & 19.0590590590591 & 19.0790790790791 & 19.0990990990991 & 19.1191191191191 & 19.1391391391391 & 19.1591591591592 & 19.1791791791792 & 19.1991991991992 & 19.2192192192192 & 19.2392392392392 & 19.2592592592593 & 19.2792792792793 & 19.2992992992993 & 19.3193193193193 & 19.3393393393393 & 19.3593593593594 & 19.3793793793794 & 19.3993993993994 & 19.4194194194194 & 19.4394394394394 & 19.4594594594595 & 19.4794794794795 & 19.4994994994995 & 19.5195195195195 & 19.5395395395395 & 19.5595595595596 & 19.5795795795796 & 19.5995995995996 & 19.6196196196196 & 19.6396396396396 & 19.6596596596597 & 19.6796796796797 & 19.6996996996997 & 19.7197197197197 & 19.7397397397397 & 19.7597597597598 & 19.7797797797798 & 19.7997997997998 & 19.8198198198198 & 19.8398398398398 & 19.8598598598599 & 19.8798798798799 & 19.8998998998999 & 19.9199199199199 & 19.9399399399399 & 19.95995995996 & 19.97997997998 & 20.0\\end{array}\\right] \\right )}$$"
      ],
      "text/plain": [
       "bell(n, [0.0  0.02002002002002  0.04004004004004  0.0600600600600601  0.080080\n",
       "0800800801  0.1001001001001  0.12012012012012  0.14014014014014  0.16016016016\n",
       "016  0.18018018018018  0.2002002002002  0.22022022022022  0.24024024024024  0.\n",
       "26026026026026  0.28028028028028  0.3003003003003  0.32032032032032  0.3403403\n",
       "4034034  0.36036036036036  0.38038038038038  0.4004004004004  0.42042042042042\n",
       "  0.44044044044044  0.46046046046046  0.480480480480481  0.500500500500501  0.\n",
       "520520520520521  0.540540540540541  0.560560560560561  0.580580580580581  0.60\n",
       "0600600600601  0.620620620620621  0.640640640640641  0.660660660660661  0.6806\n",
       "80680680681  0.700700700700701  0.720720720720721  0.740740740740741  0.760760\n",
       "760760761  0.780780780780781  0.800800800800801  0.820820820820821  0.84084084\n",
       "0840841  0.860860860860861  0.880880880880881  0.900900900900901  0.9209209209\n",
       "20921  0.940940940940941  0.960960960960961  0.980980980980981  1.001001001001\n",
       "  1.02102102102102  1.04104104104104  1.06106106106106  1.08108108108108  1.10\n",
       "11011011011  1.12112112112112  1.14114114114114  1.16116116116116  1.181181181\n",
       "18118  1.2012012012012  1.22122122122122  1.24124124124124  1.26126126126126  \n",
       "1.28128128128128  1.3013013013013  1.32132132132132  1.34134134134134  1.36136\n",
       "136136136  1.38138138138138  1.4014014014014  1.42142142142142  1.441441441441\n",
       "44  1.46146146146146  1.48148148148148  1.5015015015015  1.52152152152152  1.5\n",
       "4154154154154  1.56156156156156  1.58158158158158  1.6016016016016  1.62162162\n",
       "162162  1.64164164164164  1.66166166166166  1.68168168168168  1.7017017017017 \n",
       " 1.72172172172172  1.74174174174174  1.76176176176176  1.78178178178178  1.801\n",
       "8018018018  1.82182182182182  1.84184184184184  1.86186186186186  1.8818818818\n",
       "8188  1.9019019019019  1.92192192192192  1.94194194194194  1.96196196196196  1\n",
       ".98198198198198  2.002002002002  2.02202202202202  2.04204204204204  2.0620620\n",
       "6206206  2.08208208208208  2.1021021021021  2.12212212212212  2.14214214214214\n",
       "  2.16216216216216  2.18218218218218  2.2022022022022  2.22222222222222  2.242\n",
       "24224224224  2.26226226226226  2.28228228228228  2.3023023023023  2.3223223223\n",
       "2232  2.34234234234234  2.36236236236236  2.38238238238238  2.4024024024024  2\n",
       ".42242242242242  2.44244244244244  2.46246246246246  2.48248248248248  2.50250\n",
       "25025025  2.52252252252252  2.54254254254254  2.56256256256256  2.582582582582\n",
       "58  2.6026026026026  2.62262262262262  2.64264264264264  2.66266266266266  2.6\n",
       "8268268268268  2.7027027027027  2.72272272272272  2.74274274274274  2.76276276\n",
       "276276  2.78278278278278  2.8028028028028  2.82282282282282  2.84284284284284 \n",
       " 2.86286286286286  2.88288288288288  2.9029029029029  2.92292292292292  2.9429\n",
       "4294294294  2.96296296296296  2.98298298298298  3.003003003003  3.023023023023\n",
       "02  3.04304304304304  3.06306306306306  3.08308308308308  3.1031031031031  3.1\n",
       "2312312312312  3.14314314314314  3.16316316316316  3.18318318318318  3.2032032\n",
       "032032  3.22322322322322  3.24324324324324  3.26326326326326  3.28328328328328\n",
       "  3.3033033033033  3.32332332332332  3.34334334334334  3.36336336336336  3.383\n",
       "38338338338  3.4034034034034  3.42342342342342  3.44344344344344  3.4634634634\n",
       "6346  3.48348348348348  3.5035035035035  3.52352352352352  3.54354354354354  3\n",
       ".56356356356356  3.58358358358358  3.6036036036036  3.62362362362362  3.643643\n",
       "64364364  3.66366366366366  3.68368368368368  3.7037037037037  3.7237237237237\n",
       "2  3.74374374374374  3.76376376376376  3.78378378378378  3.8038038038038  3.82\n",
       "382382382382  3.84384384384384  3.86386386386386  3.88388388388388  3.90390390\n",
       "39039  3.92392392392392  3.94394394394394  3.96396396396396  3.98398398398398 \n",
       " 4.004004004004  4.02402402402402  4.04404404404404  4.06406406406406  4.08408\n",
       "408408408  4.1041041041041  4.12412412412412  4.14414414414414  4.164164164164\n",
       "16  4.18418418418418  4.2042042042042  4.22422422422422  4.24424424424424  4.2\n",
       "6426426426426  4.28428428428428  4.3043043043043  4.32432432432432  4.34434434\n",
       "434434  4.36436436436436  4.38438438438438  4.4044044044044  4.42442442442442 \n",
       " 4.44444444444444  4.46446446446446  4.48448448448448  4.5045045045045  4.5245\n",
       "2452452452  4.54454454454454  4.56456456456456  4.58458458458458  4.6046046046\n",
       "046  4.62462462462462  4.64464464464464  4.66466466466466  4.68468468468468  4\n",
       ".7047047047047  4.72472472472472  4.74474474474474  4.76476476476476  4.784784\n",
       "78478478  4.8048048048048  4.82482482482482  4.84484484484484  4.8648648648648\n",
       "6  4.88488488488488  4.9049049049049  4.92492492492492  4.94494494494494  4.96\n",
       "496496496496  4.98498498498498  5.00500500500501  5.02502502502503  5.04504504\n",
       "504505  5.06506506506507  5.08508508508509  5.10510510510511  5.12512512512513\n",
       "  5.14514514514515  5.16516516516517  5.18518518518519  5.20520520520521  5.22\n",
       "522522522523  5.24524524524525  5.26526526526527  5.28528528528529  5.30530530\n",
       "530531  5.32532532532533  5.34534534534535  5.36536536536537  5.38538538538539\n",
       "  5.40540540540541  5.42542542542543  5.44544544544545  5.46546546546547  5.48\n",
       "548548548549  5.50550550550551  5.52552552552553  5.54554554554555  5.56556556\n",
       "556557  5.58558558558559  5.60560560560561  5.62562562562563  5.64564564564565\n",
       "  5.66566566566567  5.68568568568569  5.70570570570571  5.72572572572573  5.74\n",
       "574574574575  5.76576576576577  5.78578578578579  5.80580580580581  5.82582582\n",
       "582583  5.84584584584585  5.86586586586587  5.88588588588589  5.90590590590591\n",
       "  5.92592592592593  5.94594594594595  5.96596596596597  5.98598598598599  6.00\n",
       "600600600601  6.02602602602603  6.04604604604605  6.06606606606607  6.08608608\n",
       "608609  6.10610610610611  6.12612612612613  6.14614614614615  6.16616616616617\n",
       "  6.18618618618619  6.20620620620621  6.22622622622623  6.24624624624625  6.26\n",
       "626626626627  6.28628628628629  6.30630630630631  6.32632632632633  6.34634634\n",
       "634635  6.36636636636637  6.38638638638639  6.40640640640641  6.42642642642643\n",
       "  6.44644644644645  6.46646646646647  6.48648648648649  6.50650650650651  6.52\n",
       "652652652653  6.54654654654655  6.56656656656657  6.58658658658659  6.60660660\n",
       "660661  6.62662662662663  6.64664664664665  6.66666666666667  6.68668668668669\n",
       "  6.70670670670671  6.72672672672673  6.74674674674675  6.76676676676677  6.78\n",
       "678678678679  6.80680680680681  6.82682682682683  6.84684684684685  6.86686686\n",
       "686687  6.88688688688689  6.90690690690691  6.92692692692693  6.94694694694695\n",
       "  6.96696696696697  6.98698698698699  7.00700700700701  7.02702702702703  7.04\n",
       "704704704705  7.06706706706707  7.08708708708709  7.10710710710711  7.12712712\n",
       "712713  7.14714714714715  7.16716716716717  7.18718718718719  7.20720720720721\n",
       "  7.22722722722723  7.24724724724725  7.26726726726727  7.28728728728729  7.30\n",
       "730730730731  7.32732732732733  7.34734734734735  7.36736736736737  7.38738738\n",
       "738739  7.40740740740741  7.42742742742743  7.44744744744745  7.46746746746747\n",
       "  7.48748748748749  7.50750750750751  7.52752752752753  7.54754754754755  7.56\n",
       "756756756757  7.58758758758759  7.60760760760761  7.62762762762763  7.64764764\n",
       "764765  7.66766766766767  7.68768768768769  7.70770770770771  7.72772772772773\n",
       "  7.74774774774775  7.76776776776777  7.78778778778779  7.80780780780781  7.82\n",
       "782782782783  7.84784784784785  7.86786786786787  7.88788788788789  7.90790790\n",
       "790791  7.92792792792793  7.94794794794795  7.96796796796797  7.98798798798799\n",
       "  8.00800800800801  8.02802802802803  8.04804804804805  8.06806806806807  8.08\n",
       "808808808809  8.10810810810811  8.12812812812813  8.14814814814815  8.16816816\n",
       "816817  8.18818818818819  8.20820820820821  8.22822822822823  8.24824824824825\n",
       "  8.26826826826827  8.28828828828829  8.30830830830831  8.32832832832833  8.34\n",
       "834834834835  8.36836836836837  8.38838838838839  8.40840840840841  8.42842842\n",
       "842843  8.44844844844845  8.46846846846847  8.48848848848849  8.50850850850851\n",
       "  8.52852852852853  8.54854854854855  8.56856856856857  8.58858858858859  8.60\n",
       "860860860861  8.62862862862863  8.64864864864865  8.66866866866867  8.68868868\n",
       "868869  8.70870870870871  8.72872872872873  8.74874874874875  8.76876876876877\n",
       "  8.78878878878879  8.80880880880881  8.82882882882883  8.84884884884885  8.86\n",
       "886886886887  8.88888888888889  8.90890890890891  8.92892892892893  8.94894894\n",
       "894895  8.96896896896897  8.98898898898899  9.00900900900901  9.02902902902903\n",
       "  9.04904904904905  9.06906906906907  9.08908908908909  9.10910910910911  9.12\n",
       "912912912913  9.14914914914915  9.16916916916917  9.18918918918919  9.20920920\n",
       "920921  9.22922922922923  9.24924924924925  9.26926926926927  9.28928928928929\n",
       "  9.30930930930931  9.32932932932933  9.34934934934935  9.36936936936937  9.38\n",
       "938938938939  9.40940940940941  9.42942942942943  9.44944944944945  9.46946946\n",
       "946947  9.48948948948949  9.50950950950951  9.52952952952953  9.54954954954955\n",
       "  9.56956956956957  9.58958958958959  9.60960960960961  9.62962962962963  9.64\n",
       "964964964965  9.66966966966967  9.68968968968969  9.70970970970971  9.72972972\n",
       "972973  9.74974974974975  9.76976976976977  9.78978978978979  9.80980980980981\n",
       "  9.82982982982983  9.84984984984985  9.86986986986987  9.88988988988989  9.90\n",
       "990990990991  9.92992992992993  9.94994994994995  9.96996996996997  9.98998998\n",
       "998999  10.01001001001  10.03003003003  10.0500500500501  10.0700700700701  10\n",
       ".0900900900901  10.1101101101101  10.1301301301301  10.1501501501502  10.17017\n",
       "01701702  10.1901901901902  10.2102102102102  10.2302302302302  10.25025025025\n",
       "03  10.2702702702703  10.2902902902903  10.3103103103103  10.3303303303303  10\n",
       ".3503503503504  10.3703703703704  10.3903903903904  10.4104104104104  10.43043\n",
       "04304304  10.4504504504505  10.4704704704705  10.4904904904905  10.51051051051\n",
       "05  10.5305305305305  10.5505505505506  10.5705705705706  10.5905905905906  10\n",
       ".6106106106106  10.6306306306306  10.6506506506507  10.6706706706707  10.69069\n",
       "06906907  10.7107107107107  10.7307307307307  10.7507507507508  10.77077077077\n",
       "08  10.7907907907908  10.8108108108108  10.8308308308308  10.8508508508509  10\n",
       ".8708708708709  10.8908908908909  10.9109109109109  10.9309309309309  10.95095\n",
       "0950951  10.970970970971  10.990990990991  11.011011011011  11.031031031031  1\n",
       "1.0510510510511  11.0710710710711  11.0910910910911  11.1111111111111  11.1311\n",
       "311311311  11.1511511511512  11.1711711711712  11.1911911911912  11.2112112112\n",
       "112  11.2312312312312  11.2512512512513  11.2712712712713  11.2912912912913  1\n",
       "1.3113113113113  11.3313313313313  11.3513513513514  11.3713713713714  11.3913\n",
       "913913914  11.4114114114114  11.4314314314314  11.4514514514515  11.4714714714\n",
       "715  11.4914914914915  11.5115115115115  11.5315315315315  11.5515515515516  1\n",
       "1.5715715715716  11.5915915915916  11.6116116116116  11.6316316316316  11.6516\n",
       "516516517  11.6716716716717  11.6916916916917  11.7117117117117  11.7317317317\n",
       "317  11.7517517517518  11.7717717717718  11.7917917917918  11.8118118118118  1\n",
       "1.8318318318318  11.8518518518519  11.8718718718719  11.8918918918919  11.9119\n",
       "119119119  11.9319319319319  11.951951951952  11.971971971972  11.991991991992\n",
       "  12.012012012012  12.032032032032  12.0520520520521  12.0720720720721  12.092\n",
       "0920920921  12.1121121121121  12.1321321321321  12.1521521521522  12.172172172\n",
       "1722  12.1921921921922  12.2122122122122  12.2322322322322  12.2522522522523  \n",
       "12.2722722722723  12.2922922922923  12.3123123123123  12.3323323323323  12.352\n",
       "3523523524  12.3723723723724  12.3923923923924  12.4124124124124  12.432432432\n",
       "4324  12.4524524524525  12.4724724724725  12.4924924924925  12.5125125125125  \n",
       "12.5325325325325  12.5525525525526  12.5725725725726  12.5925925925926  12.612\n",
       "6126126126  12.6326326326326  12.6526526526527  12.6726726726727  12.692692692\n",
       "6927  12.7127127127127  12.7327327327327  12.7527527527528  12.7727727727728  \n",
       "12.7927927927928  12.8128128128128  12.8328328328328  12.8528528528529  12.872\n",
       "8728728729  12.8928928928929  12.9129129129129  12.9329329329329  12.952952952\n",
       "953  12.972972972973  12.992992992993  13.013013013013  13.033033033033  13.05\n",
       "30530530531  13.0730730730731  13.0930930930931  13.1131131131131  13.13313313\n",
       "31331  13.1531531531532  13.1731731731732  13.1931931931932  13.2132132132132 \n",
       " 13.2332332332332  13.2532532532533  13.2732732732733  13.2932932932933  13.31\n",
       "33133133133  13.3333333333333  13.3533533533534  13.3733733733734  13.39339339\n",
       "33934  13.4134134134134  13.4334334334334  13.4534534534535  13.4734734734735 \n",
       " 13.4934934934935  13.5135135135135  13.5335335335335  13.5535535535536  13.57\n",
       "35735735736  13.5935935935936  13.6136136136136  13.6336336336336  13.65365365\n",
       "36537  13.6736736736737  13.6936936936937  13.7137137137137  13.7337337337337 \n",
       " 13.7537537537538  13.7737737737738  13.7937937937938  13.8138138138138  13.83\n",
       "38338338338  13.8538538538539  13.8738738738739  13.8938938938939  13.91391391\n",
       "39139  13.9339339339339  13.953953953954  13.973973973974  13.993993993994  14\n",
       ".014014014014  14.034034034034  14.0540540540541  14.0740740740741  14.0940940\n",
       "940941  14.1141141141141  14.1341341341341  14.1541541541542  14.1741741741742\n",
       "  14.1941941941942  14.2142142142142  14.2342342342342  14.2542542542543  14.2\n",
       "742742742743  14.2942942942943  14.3143143143143  14.3343343343343  14.3543543\n",
       "543544  14.3743743743744  14.3943943943944  14.4144144144144  14.4344344344344\n",
       "  14.4544544544545  14.4744744744745  14.4944944944945  14.5145145145145  14.5\n",
       "345345345345  14.5545545545546  14.5745745745746  14.5945945945946  14.6146146\n",
       "146146  14.6346346346346  14.6546546546547  14.6746746746747  14.6946946946947\n",
       "  14.7147147147147  14.7347347347347  14.7547547547548  14.7747747747748  14.7\n",
       "947947947948  14.8148148148148  14.8348348348348  14.8548548548549  14.8748748\n",
       "748749  14.8948948948949  14.9149149149149  14.9349349349349  14.954954954955 \n",
       " 14.974974974975  14.994994994995  15.015015015015  15.035035035035  15.055055\n",
       "0550551  15.0750750750751  15.0950950950951  15.1151151151151  15.135135135135\n",
       "1  15.1551551551552  15.1751751751752  15.1951951951952  15.2152152152152  15.\n",
       "2352352352352  15.2552552552553  15.2752752752753  15.2952952952953  15.315315\n",
       "3153153  15.3353353353353  15.3553553553554  15.3753753753754  15.395395395395\n",
       "4  15.4154154154154  15.4354354354354  15.4554554554555  15.4754754754755  15.\n",
       "4954954954955  15.5155155155155  15.5355355355355  15.5555555555556  15.575575\n",
       "5755756  15.5955955955956  15.6156156156156  15.6356356356356  15.655655655655\n",
       "7  15.6756756756757  15.6956956956957  15.7157157157157  15.7357357357357  15.\n",
       "7557557557558  15.7757757757758  15.7957957957958  15.8158158158158  15.835835\n",
       "8358358  15.8558558558559  15.8758758758759  15.8958958958959  15.915915915915\n",
       "9  15.9359359359359  15.955955955956  15.975975975976  15.995995995996  16.016\n",
       "016016016  16.036036036036  16.0560560560561  16.0760760760761  16.09609609609\n",
       "61  16.1161161161161  16.1361361361361  16.1561561561562  16.1761761761762  16\n",
       ".1961961961962  16.2162162162162  16.2362362362362  16.2562562562563  16.27627\n",
       "62762763  16.2962962962963  16.3163163163163  16.3363363363363  16.35635635635\n",
       "64  16.3763763763764  16.3963963963964  16.4164164164164  16.4364364364364  16\n",
       ".4564564564565  16.4764764764765  16.4964964964965  16.5165165165165  16.53653\n",
       "65365365  16.5565565565566  16.5765765765766  16.5965965965966  16.61661661661\n",
       "66  16.6366366366366  16.6566566566567  16.6766766766767  16.6966966966967  16\n",
       ".7167167167167  16.7367367367367  16.7567567567568  16.7767767767768  16.79679\n",
       "67967968  16.8168168168168  16.8368368368368  16.8568568568569  16.87687687687\n",
       "69  16.8968968968969  16.9169169169169  16.9369369369369  16.956956956957  16.\n",
       "976976976977  16.996996996997  17.017017017017  17.037037037037  17.0570570570\n",
       "571  17.0770770770771  17.0970970970971  17.1171171171171  17.1371371371371  1\n",
       "7.1571571571572  17.1771771771772  17.1971971971972  17.2172172172172  17.2372\n",
       "372372372  17.2572572572573  17.2772772772773  17.2972972972973  17.3173173173\n",
       "173  17.3373373373373  17.3573573573574  17.3773773773774  17.3973973973974  1\n",
       "7.4174174174174  17.4374374374374  17.4574574574575  17.4774774774775  17.4974\n",
       "974974975  17.5175175175175  17.5375375375375  17.5575575575576  17.5775775775\n",
       "776  17.5975975975976  17.6176176176176  17.6376376376376  17.6576576576577  1\n",
       "7.6776776776777  17.6976976976977  17.7177177177177  17.7377377377377  17.7577\n",
       "577577578  17.7777777777778  17.7977977977978  17.8178178178178  17.8378378378\n",
       "378  17.8578578578579  17.8778778778779  17.8978978978979  17.9179179179179  1\n",
       "7.9379379379379  17.957957957958  17.977977977978  17.997997997998  18.0180180\n",
       "18018  18.038038038038  18.0580580580581  18.0780780780781  18.0980980980981  \n",
       "18.1181181181181  18.1381381381381  18.1581581581582  18.1781781781782  18.198\n",
       "1981981982  18.2182182182182  18.2382382382382  18.2582582582583  18.278278278\n",
       "2783  18.2982982982983  18.3183183183183  18.3383383383383  18.3583583583584  \n",
       "18.3783783783784  18.3983983983984  18.4184184184184  18.4384384384384  18.458\n",
       "4584584585  18.4784784784785  18.4984984984985  18.5185185185185  18.538538538\n",
       "5385  18.5585585585586  18.5785785785786  18.5985985985986  18.6186186186186  \n",
       "18.6386386386386  18.6586586586587  18.6786786786787  18.6986986986987  18.718\n",
       "7187187187  18.7387387387387  18.7587587587588  18.7787787787788  18.798798798\n",
       "7988  18.8188188188188  18.8388388388388  18.8588588588589  18.8788788788789  \n",
       "18.8988988988989  18.9189189189189  18.9389389389389  18.958958958959  18.9789\n",
       "78978979  18.998998998999  19.019019019019  19.039039039039  19.0590590590591 \n",
       " 19.0790790790791  19.0990990990991  19.1191191191191  19.1391391391391  19.15\n",
       "91591591592  19.1791791791792  19.1991991991992  19.2192192192192  19.23923923\n",
       "92392  19.2592592592593  19.2792792792793  19.2992992992993  19.3193193193193 \n",
       " 19.3393393393393  19.3593593593594  19.3793793793794  19.3993993993994  19.41\n",
       "94194194194  19.4394394394394  19.4594594594595  19.4794794794795  19.49949949\n",
       "94995  19.5195195195195  19.5395395395395  19.5595595595596  19.5795795795796 \n",
       " 19.5995995995996  19.6196196196196  19.6396396396396  19.6596596596597  19.67\n",
       "96796796797  19.6996996996997  19.7197197197197  19.7397397397397  19.75975975\n",
       "97598  19.7797797797798  19.7997997997998  19.8198198198198  19.8398398398398 \n",
       " 19.8598598598599  19.8798798798799  19.8998998998999  19.9199199199199  19.93\n",
       "99399399399  19.95995995996  19.97997997998  20.0])"
      ]
     },
     "execution_count": 172,
     "metadata": {},
     "output_type": "execute_result"
    }
   ],
   "source": [
    "#5.\n",
    "from sympy import bell\n",
    "sp.init_printing()\n",
    "n,k = sp.symbols('n k',positive=True)\n",
    "y,b = sp.symbols('y b',real=True)\n",
    "b = bell(n, x)\n",
    "b\n",
    "#def bells(n,x,k)"
   ]
  },
  {
   "cell_type": "code",
   "execution_count": 182,
   "metadata": {},
   "outputs": [
    {
     "name": "stdout",
     "output_type": "stream",
     "text": [
      "y**10 + 45*y**9 + 750*y**8 + 5880*y**7 + 22827*y**6 + 42525*y**5 + 34105*y**4 + 9330*y**3 + 511*y**2 + y\n"
     ]
    },
    {
     "data": {
      "image/png": "[encoded data removed]",
      "text/latex": [
       "$$\\left [ 423360148053775.0, \\quad 148037715488051.0, \\quad 46454975938022.0\\right ]$$"
      ],
      "text/plain": [
       "[423360148053775.0, 148037715488051.0, 46454975938022.0]"
      ]
     },
     "execution_count": 182,
     "metadata": {},
     "output_type": "execute_result"
    }
   ],
   "source": [
    "init_printing()\n",
    "def peti(n,x,k):\n",
    "    l=[]\n",
    "    pom = sp.bell(n,y)\n",
    "    print (pom)\n",
    "    for i in range (k):\n",
    "        l.append(sp.Derivative(pom,y,i).doit().n(30,subs={y:x}))\n",
    "    return l;\n",
    "peti(10,25,3)"
   ]
  },
  {
   "cell_type": "code",
   "execution_count": 174,
   "metadata": {},
   "outputs": [],
   "source": [
    "import sympy as sp\n",
    "def f(n,x,k):\n",
    "    y = sp.Symbol('y')\n",
    "    lista=[]\n",
    "    Bell = sp.functions.combinatorial.numbers.bell(n, sp.Symbol('y'))\n",
    "    print(Bell)\n",
    "    for i in range(k):\n",
    "        lista.append(sp.Derivative(Bell, sp.Symbol('y'),i).doit().n(30, subs={y:x}))\n",
    "   \n",
    "    return lista"
   ]
  },
  {
   "cell_type": "code",
   "execution_count": 175,
   "metadata": {},
   "outputs": [
    {
     "name": "stdout",
     "output_type": "stream",
     "text": [
      "y**10 + 45*y**9 + 750*y**8 + 5880*y**7 + 22827*y**6 + 42525*y**5 + 34105*y**4 + 9330*y**3 + 511*y**2 + y\n"
     ]
    },
    {
     "data": {
      "image/png": "[encoded data removed]",
      "text/latex": [
       "$$\\left [ 423360148053775.0, \\quad 148037715488051.0, \\quad 46454975938022.0\\right ]$$"
      ],
      "text/plain": [
       "[423360148053775.0, 148037715488051.0, 46454975938022.0]"
      ]
     },
     "execution_count": 175,
     "metadata": {},
     "output_type": "execute_result"
    }
   ],
   "source": [
    "f(10,25,3)"
   ]
  },
  {
   "cell_type": "code",
   "execution_count": null,
   "metadata": {},
   "outputs": [],
   "source": []
  }
 ],
 "metadata": {
  "kernelspec": {
   "display_name": "Python 3",
   "language": "python",
   "name": "python3"
  },
  "language_info": {
   "codemirror_mode": {
    "name": "ipython",
    "version": 3
   },
   "file_extension": ".py",
   "mimetype": "text/x-python",
   "name": "python",
   "nbconvert_exporter": "python",
   "pygments_lexer": "ipython3",
   "version": "3.6.4"
  }
 },
 "nbformat": 4,
 "nbformat_minor": 2
}
